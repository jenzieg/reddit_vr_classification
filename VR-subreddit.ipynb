{
 "cells": [
  {
   "cell_type": "markdown",
   "id": "faf0e1f3-4fa8-471a-a466-e0912861a22f",
   "metadata": {},
   "source": [
    "# VR Subreddit NLP Project"
   ]
  },
  {
   "cell_type": "markdown",
   "id": "4eeb7d70-4e3b-4198-a758-734881b473d0",
   "metadata": {},
   "source": [
    "By: Jen Zieger"
   ]
  },
  {
   "cell_type": "markdown",
   "id": "154c6cb2-5865-47fd-8e2a-a82d8df0bf6e",
   "metadata": {},
   "source": [
    "## Executive Summary"
   ]
  },
  {
   "cell_type": "markdown",
   "id": "201a0202-aea1-4eae-958f-a1687aae6848",
   "metadata": {},
   "source": [
    "#### Problem Statement\n",
    "Reddit is planning to deploy an improved model for predicting what video game-related subreddit a submission comes from. I've been contracted by Reddit to work on this project with a focus on virtual reality and build a model that accurately predicts whether a submission came from the subreddit [`r/PSVR`](https://www.reddit.com/r/PSVR/) or [`r/oculus`](https://www.reddit.com/r/oculus/). \n",
    "\n",
    "#### Overview\n",
    "According to Merriam-Webster Dictionary, virtual reality, also known as VR, is an artificial environment which is experienced through sensory stimuli (such as sights and sounds) provided by a computer and in which one's actions partially determine what happens in the environment [[1]](https://www.merriam-webster.com/dictionary/virtual%20reality). Reddit is a network of millions of people who are connected through thousands of communities where they can connect by sharing their interests, hobbies, and passions [[2]](https://www.redditinc.com/)."
   ]
  },
  {
   "cell_type": "markdown",
   "id": "2e66434a-a296-417b-b564-1745446e296c",
   "metadata": {},
   "source": [
    "#### Strategy"
   ]
  },
  {
   "cell_type": "markdown",
   "id": "75b8d0f3-1eac-444b-b6e3-3f6f736f9902",
   "metadata": {},
   "source": [
    "**Data Collection** <br>\n",
    "Using [Pushshift's](https://github.com/pushshift/api) API, I will collect over 1500 submissions from the /r/PSVR and /r/oculus subreddits, totaling 3000+ submissions. The submissions collected will be from the dates May 19th, 2021 to Oct 4th, 2021.\n",
    "<br>\n",
    "<br>\n",
    "To view my data collection process, please go to [VR subreddit sata collection]('./VR-subreddit-data-collection.ipynb')\n",
    "\n",
    "**Data Cleaning and EDA** <br>\n",
    "Through data cleaning methods, I will ensure there are no duplicate submissions and that there are unique post ids for each document. I will also check datatypes, outliers, dropping unnecessary rows/columns, and use feature engineering if needed.\n",
    "<br>\n",
    "<br>\n",
    "My exploratory data analysis will include:\n",
    "- Distribution Plots\n",
    "- Correlation Matrix\n",
    "- Summary Statistics\n",
    "- Additional Analysis as Needed\n",
    "\n",
    "**Pre-Processing and Modeling** <br>\n",
    "I will be developing the following models: \n",
    "- Baseline \n",
    "- Multinomial Naive Bayes\n",
    "- Random Forest\n",
    "- Support Vector Machine\n",
    "- Logistic Regression\n",
    "\n",
    "The following methods will be used to develop these models: \n",
    "- Term Frequency — Inverse Document Frequency (TF-IDF)\n",
    "- Count Vectorizer\n",
    "- GridSearch\n",
    "- Pipeline \n",
    "\n",
    "**Evaluation**\n",
    "I will evaluate my model's performance by creating a confusion plot matrix and evaluating the True Positives, True Negatives, False Positives, and False Negatives. \n",
    "- True Positive: The amount of posts I predicted to be from the Oculus subreddit correctly.\n",
    "- True Negative: The amount of posts I predicted to be from the PSVR subreddit correctly.\n",
    "- False Positive: The amount of posts I predicted to be from the PSVR subreddit that were from the Oculus subreddit.\n",
    "- False Negative: The amount of posts I predicted to be from the Oculus subreddit that were from the PSVR subreddit\n",
    "\n",
    "I am going to evaluate the performance of my models with these classification metrics:\n",
    "- Accuracy Rate\n",
    "    * Evaluate what percentage of submissions did I correctly predict.\n",
    "- Misclassification Rate\n",
    "    * Evaluate what percentage of submissions did I incorrectly predict.\n",
    "- Specificity Rate\n",
    "    * Among those submissions that belong to the subreddit, PSVR, how many did I predict correctly?\n",
    "- Recall\n",
    "    * Among those submissions that belong to the subreddit, Oculus, how many did I predict correctly?\n",
    "- Precision\n",
    "    * Evaluate how many of the submissions I predicted to be from the Oculus subreddit were predicted correctly. \n",
    "- F1 Score \n",
    "    * Since we are not biased to PSVR or Oculus, this score will give me the mean of precision and recall. \n",
    "\n",
    "**Conclusion and Recommendations** <br>\n",
    "After evaluating my model's performance, I will determine if my model is successful and develop final recommendations moving forward."
   ]
  },
  {
   "cell_type": "markdown",
   "id": "b8fe4c1a-891e-42ab-9754-c56ac42ca539",
   "metadata": {},
   "source": [
    "## Import Libraries & Read in Data"
   ]
  },
  {
   "cell_type": "code",
   "execution_count": 1,
   "id": "dd883d9d-08c8-4223-8b7c-1310c03c0fc4",
   "metadata": {},
   "outputs": [],
   "source": [
    "import pandas as pd \n",
    "import numpy as np\n",
    "import seaborn as sns\n",
    "import matplotlib.pyplot as plt \n",
    "import datetime as dt\n",
    "import nltk as nltk\n",
    "import re\n",
    "\n",
    "from sklearn.svm import SVC\n",
    "from sklearn.metrics import accuracy_score, confusion_matrix, f1_score, plot_confusion_matrix, precision_score, recall_score\n",
    "from sklearn.linear_model import LogisticRegression\n",
    "from sklearn.model_selection import GridSearchCV, train_test_split\n",
    "from sklearn.feature_extraction.text import CountVectorizer,TfidfTransformer, TfidfVectorizer  \n",
    "from sklearn.pipeline import Pipeline\n",
    "from sklearn.naive_bayes import MultinomialNB\n",
    "from sklearn.ensemble import RandomForestClassifier \n",
    "\n",
    "from nltk.tokenize import RegexpTokenizer\n",
    "from nltk.stem import WordNetLemmatizer\n",
    "from nltk.stem.porter import PorterStemmer\n",
    "from nltk.corpus import stopwords\n",
    "from nltk.sentiment.vader import SentimentIntensityAnalyzer\n",
    "\n",
    "# Setting display to 350 max columns\n",
    "pd.set_option(\"display.max_columns\",350)"
   ]
  },
  {
   "cell_type": "markdown",
   "id": "531e4f10-1d40-4482-9d18-0432428d6474",
   "metadata": {},
   "source": [
    "#### Read in Data"
   ]
  },
  {
   "cell_type": "code",
   "execution_count": 2,
   "id": "bdbf0422-f87f-46c1-b3d9-7c1d6d57e388",
   "metadata": {},
   "outputs": [],
   "source": [
    "oculus = pd.read_csv('./data/oculus_df.csv')\n",
    "psvr = pd.read_csv('./data/psvr_df.csv')"
   ]
  },
  {
   "cell_type": "code",
   "execution_count": 3,
   "id": "e1d65169-a52f-4944-b5f4-2109095d64c9",
   "metadata": {
    "scrolled": true,
    "tags": []
   },
   "outputs": [
    {
     "data": {
      "text/html": [
       "<div>\n",
       "<style scoped>\n",
       "    .dataframe tbody tr th:only-of-type {\n",
       "        vertical-align: middle;\n",
       "    }\n",
       "\n",
       "    .dataframe tbody tr th {\n",
       "        vertical-align: top;\n",
       "    }\n",
       "\n",
       "    .dataframe thead th {\n",
       "        text-align: right;\n",
       "    }\n",
       "</style>\n",
       "<table border=\"1\" class=\"dataframe\">\n",
       "  <thead>\n",
       "    <tr style=\"text-align: right;\">\n",
       "      <th></th>\n",
       "      <th>Unnamed: 0</th>\n",
       "      <th>all_awardings</th>\n",
       "      <th>allow_live_comments</th>\n",
       "      <th>author</th>\n",
       "      <th>author_flair_css_class</th>\n",
       "      <th>author_flair_richtext</th>\n",
       "      <th>author_flair_text</th>\n",
       "      <th>author_flair_type</th>\n",
       "      <th>author_fullname</th>\n",
       "      <th>author_is_blocked</th>\n",
       "      <th>author_patreon_flair</th>\n",
       "      <th>author_premium</th>\n",
       "      <th>awarders</th>\n",
       "      <th>can_mod_post</th>\n",
       "      <th>contest_mode</th>\n",
       "      <th>created_utc</th>\n",
       "      <th>domain</th>\n",
       "      <th>full_link</th>\n",
       "      <th>gildings</th>\n",
       "      <th>id</th>\n",
       "      <th>is_created_from_ads_ui</th>\n",
       "      <th>is_crosspostable</th>\n",
       "      <th>is_meta</th>\n",
       "      <th>is_original_content</th>\n",
       "      <th>is_reddit_media_domain</th>\n",
       "      <th>is_robot_indexable</th>\n",
       "      <th>is_self</th>\n",
       "      <th>is_video</th>\n",
       "      <th>link_flair_background_color</th>\n",
       "      <th>link_flair_richtext</th>\n",
       "      <th>link_flair_text_color</th>\n",
       "      <th>link_flair_type</th>\n",
       "      <th>locked</th>\n",
       "      <th>media_only</th>\n",
       "      <th>no_follow</th>\n",
       "      <th>num_comments</th>\n",
       "      <th>num_crossposts</th>\n",
       "      <th>over_18</th>\n",
       "      <th>parent_whitelist_status</th>\n",
       "      <th>permalink</th>\n",
       "      <th>pinned</th>\n",
       "      <th>pwls</th>\n",
       "      <th>retrieved_on</th>\n",
       "      <th>score</th>\n",
       "      <th>selftext</th>\n",
       "      <th>send_replies</th>\n",
       "      <th>spoiler</th>\n",
       "      <th>stickied</th>\n",
       "      <th>subreddit</th>\n",
       "      <th>subreddit_id</th>\n",
       "      <th>subreddit_subscribers</th>\n",
       "      <th>subreddit_type</th>\n",
       "      <th>thumbnail</th>\n",
       "      <th>title</th>\n",
       "      <th>total_awards_received</th>\n",
       "      <th>treatment_tags</th>\n",
       "      <th>upvote_ratio</th>\n",
       "      <th>url</th>\n",
       "      <th>whitelist_status</th>\n",
       "      <th>wls</th>\n",
       "      <th>link_flair_css_class</th>\n",
       "      <th>link_flair_template_id</th>\n",
       "      <th>link_flair_text</th>\n",
       "      <th>author_flair_background_color</th>\n",
       "      <th>author_flair_text_color</th>\n",
       "      <th>post_hint</th>\n",
       "      <th>preview</th>\n",
       "      <th>poll_data</th>\n",
       "      <th>author_flair_template_id</th>\n",
       "      <th>media_metadata</th>\n",
       "      <th>thumbnail_height</th>\n",
       "      <th>thumbnail_width</th>\n",
       "      <th>author_cakeday</th>\n",
       "      <th>suggested_sort</th>\n",
       "      <th>edited</th>\n",
       "    </tr>\n",
       "  </thead>\n",
       "  <tbody>\n",
       "    <tr>\n",
       "      <th>0</th>\n",
       "      <td>0</td>\n",
       "      <td>[]</td>\n",
       "      <td>False</td>\n",
       "      <td>Villios</td>\n",
       "      <td>NaN</td>\n",
       "      <td>[]</td>\n",
       "      <td>NaN</td>\n",
       "      <td>text</td>\n",
       "      <td>t2_7opguj09</td>\n",
       "      <td>False</td>\n",
       "      <td>False</td>\n",
       "      <td>False</td>\n",
       "      <td>[]</td>\n",
       "      <td>False</td>\n",
       "      <td>False</td>\n",
       "      <td>1633307331</td>\n",
       "      <td>self.oculus</td>\n",
       "      <td>https://www.reddit.com/r/oculus/comments/q0ugi...</td>\n",
       "      <td>{}</td>\n",
       "      <td>q0ugia</td>\n",
       "      <td>False</td>\n",
       "      <td>True</td>\n",
       "      <td>False</td>\n",
       "      <td>False</td>\n",
       "      <td>False</td>\n",
       "      <td>True</td>\n",
       "      <td>True</td>\n",
       "      <td>False</td>\n",
       "      <td>NaN</td>\n",
       "      <td>[]</td>\n",
       "      <td>dark</td>\n",
       "      <td>text</td>\n",
       "      <td>False</td>\n",
       "      <td>False</td>\n",
       "      <td>True</td>\n",
       "      <td>1</td>\n",
       "      <td>0</td>\n",
       "      <td>False</td>\n",
       "      <td>all_ads</td>\n",
       "      <td>/r/oculus/comments/q0ugia/manastorm_or_tankard...</td>\n",
       "      <td>False</td>\n",
       "      <td>6</td>\n",
       "      <td>1633307342</td>\n",
       "      <td>1</td>\n",
       "      <td>Looking for a VR card games and it seems these...</td>\n",
       "      <td>True</td>\n",
       "      <td>False</td>\n",
       "      <td>False</td>\n",
       "      <td>oculus</td>\n",
       "      <td>t5_2uni5</td>\n",
       "      <td>384072</td>\n",
       "      <td>public</td>\n",
       "      <td>self</td>\n",
       "      <td>Manastorm or Tankards and cards?</td>\n",
       "      <td>0</td>\n",
       "      <td>[]</td>\n",
       "      <td>1.0</td>\n",
       "      <td>https://www.reddit.com/r/oculus/comments/q0ugi...</td>\n",
       "      <td>all_ads</td>\n",
       "      <td>6</td>\n",
       "      <td>NaN</td>\n",
       "      <td>NaN</td>\n",
       "      <td>NaN</td>\n",
       "      <td>NaN</td>\n",
       "      <td>NaN</td>\n",
       "      <td>NaN</td>\n",
       "      <td>NaN</td>\n",
       "      <td>NaN</td>\n",
       "      <td>NaN</td>\n",
       "      <td>NaN</td>\n",
       "      <td>NaN</td>\n",
       "      <td>NaN</td>\n",
       "      <td>NaN</td>\n",
       "      <td>NaN</td>\n",
       "      <td>NaN</td>\n",
       "    </tr>\n",
       "    <tr>\n",
       "      <th>1</th>\n",
       "      <td>1</td>\n",
       "      <td>[]</td>\n",
       "      <td>False</td>\n",
       "      <td>BITTERBATISTA</td>\n",
       "      <td>NaN</td>\n",
       "      <td>[]</td>\n",
       "      <td>NaN</td>\n",
       "      <td>text</td>\n",
       "      <td>t2_f3l53w2e</td>\n",
       "      <td>False</td>\n",
       "      <td>False</td>\n",
       "      <td>False</td>\n",
       "      <td>[]</td>\n",
       "      <td>False</td>\n",
       "      <td>False</td>\n",
       "      <td>1633306875</td>\n",
       "      <td>self.oculus</td>\n",
       "      <td>https://www.reddit.com/r/oculus/comments/q0uc6...</td>\n",
       "      <td>{}</td>\n",
       "      <td>q0uc6f</td>\n",
       "      <td>False</td>\n",
       "      <td>True</td>\n",
       "      <td>False</td>\n",
       "      <td>False</td>\n",
       "      <td>False</td>\n",
       "      <td>True</td>\n",
       "      <td>True</td>\n",
       "      <td>False</td>\n",
       "      <td>NaN</td>\n",
       "      <td>[]</td>\n",
       "      <td>dark</td>\n",
       "      <td>text</td>\n",
       "      <td>False</td>\n",
       "      <td>False</td>\n",
       "      <td>True</td>\n",
       "      <td>3</td>\n",
       "      <td>0</td>\n",
       "      <td>False</td>\n",
       "      <td>all_ads</td>\n",
       "      <td>/r/oculus/comments/q0uc6f/rift_s_support/</td>\n",
       "      <td>False</td>\n",
       "      <td>6</td>\n",
       "      <td>1633306886</td>\n",
       "      <td>1</td>\n",
       "      <td>I'm one of the unlucky ones who has a Rift S w...</td>\n",
       "      <td>True</td>\n",
       "      <td>False</td>\n",
       "      <td>False</td>\n",
       "      <td>oculus</td>\n",
       "      <td>t5_2uni5</td>\n",
       "      <td>384071</td>\n",
       "      <td>public</td>\n",
       "      <td>self</td>\n",
       "      <td>Rift S Support</td>\n",
       "      <td>0</td>\n",
       "      <td>[]</td>\n",
       "      <td>1.0</td>\n",
       "      <td>https://www.reddit.com/r/oculus/comments/q0uc6...</td>\n",
       "      <td>all_ads</td>\n",
       "      <td>6</td>\n",
       "      <td>lightgreen</td>\n",
       "      <td>273b1b52-0fd9-11e6-85c7-0e5c663c2313</td>\n",
       "      <td>Hardware</td>\n",
       "      <td>NaN</td>\n",
       "      <td>NaN</td>\n",
       "      <td>NaN</td>\n",
       "      <td>NaN</td>\n",
       "      <td>NaN</td>\n",
       "      <td>NaN</td>\n",
       "      <td>NaN</td>\n",
       "      <td>NaN</td>\n",
       "      <td>NaN</td>\n",
       "      <td>NaN</td>\n",
       "      <td>NaN</td>\n",
       "      <td>NaN</td>\n",
       "    </tr>\n",
       "    <tr>\n",
       "      <th>2</th>\n",
       "      <td>2</td>\n",
       "      <td>[]</td>\n",
       "      <td>False</td>\n",
       "      <td>punkonjunk</td>\n",
       "      <td>NaN</td>\n",
       "      <td>[]</td>\n",
       "      <td>NaN</td>\n",
       "      <td>text</td>\n",
       "      <td>t2_bf2pt</td>\n",
       "      <td>False</td>\n",
       "      <td>False</td>\n",
       "      <td>False</td>\n",
       "      <td>[]</td>\n",
       "      <td>False</td>\n",
       "      <td>False</td>\n",
       "      <td>1633305454</td>\n",
       "      <td>self.oculus</td>\n",
       "      <td>https://www.reddit.com/r/oculus/comments/q0tx7...</td>\n",
       "      <td>{}</td>\n",
       "      <td>q0tx7w</td>\n",
       "      <td>False</td>\n",
       "      <td>True</td>\n",
       "      <td>False</td>\n",
       "      <td>False</td>\n",
       "      <td>False</td>\n",
       "      <td>True</td>\n",
       "      <td>True</td>\n",
       "      <td>False</td>\n",
       "      <td>NaN</td>\n",
       "      <td>[]</td>\n",
       "      <td>dark</td>\n",
       "      <td>text</td>\n",
       "      <td>False</td>\n",
       "      <td>False</td>\n",
       "      <td>True</td>\n",
       "      <td>8</td>\n",
       "      <td>0</td>\n",
       "      <td>False</td>\n",
       "      <td>all_ads</td>\n",
       "      <td>/r/oculus/comments/q0tx7w/how_do_you_actually_...</td>\n",
       "      <td>False</td>\n",
       "      <td>6</td>\n",
       "      <td>1633305465</td>\n",
       "      <td>1</td>\n",
       "      <td>You can easily do this in virtual desktop by l...</td>\n",
       "      <td>True</td>\n",
       "      <td>False</td>\n",
       "      <td>False</td>\n",
       "      <td>oculus</td>\n",
       "      <td>t5_2uni5</td>\n",
       "      <td>384067</td>\n",
       "      <td>public</td>\n",
       "      <td>self</td>\n",
       "      <td>How do you actually reset your orientation in ...</td>\n",
       "      <td>0</td>\n",
       "      <td>[]</td>\n",
       "      <td>1.0</td>\n",
       "      <td>https://www.reddit.com/r/oculus/comments/q0tx7...</td>\n",
       "      <td>all_ads</td>\n",
       "      <td>6</td>\n",
       "      <td>purple</td>\n",
       "      <td>4c9ef228-aec0-11e3-923d-12313d0901f7</td>\n",
       "      <td>Software</td>\n",
       "      <td>NaN</td>\n",
       "      <td>NaN</td>\n",
       "      <td>NaN</td>\n",
       "      <td>NaN</td>\n",
       "      <td>NaN</td>\n",
       "      <td>NaN</td>\n",
       "      <td>NaN</td>\n",
       "      <td>NaN</td>\n",
       "      <td>NaN</td>\n",
       "      <td>NaN</td>\n",
       "      <td>NaN</td>\n",
       "      <td>NaN</td>\n",
       "    </tr>\n",
       "    <tr>\n",
       "      <th>3</th>\n",
       "      <td>3</td>\n",
       "      <td>[]</td>\n",
       "      <td>False</td>\n",
       "      <td>Brando224</td>\n",
       "      <td>NaN</td>\n",
       "      <td>[]</td>\n",
       "      <td>NaN</td>\n",
       "      <td>text</td>\n",
       "      <td>t2_12vytl</td>\n",
       "      <td>False</td>\n",
       "      <td>False</td>\n",
       "      <td>False</td>\n",
       "      <td>[]</td>\n",
       "      <td>False</td>\n",
       "      <td>False</td>\n",
       "      <td>1633305447</td>\n",
       "      <td>self.oculus</td>\n",
       "      <td>https://www.reddit.com/r/oculus/comments/q0tx5...</td>\n",
       "      <td>{}</td>\n",
       "      <td>q0tx5l</td>\n",
       "      <td>False</td>\n",
       "      <td>True</td>\n",
       "      <td>False</td>\n",
       "      <td>False</td>\n",
       "      <td>False</td>\n",
       "      <td>True</td>\n",
       "      <td>True</td>\n",
       "      <td>False</td>\n",
       "      <td>NaN</td>\n",
       "      <td>[]</td>\n",
       "      <td>dark</td>\n",
       "      <td>text</td>\n",
       "      <td>False</td>\n",
       "      <td>False</td>\n",
       "      <td>True</td>\n",
       "      <td>0</td>\n",
       "      <td>0</td>\n",
       "      <td>False</td>\n",
       "      <td>all_ads</td>\n",
       "      <td>/r/oculus/comments/q0tx5l/quest_users_keep_you...</td>\n",
       "      <td>False</td>\n",
       "      <td>6</td>\n",
       "      <td>1633305458</td>\n",
       "      <td>1</td>\n",
       "      <td>I litterally see 10 posts a day asking how thi...</td>\n",
       "      <td>True</td>\n",
       "      <td>False</td>\n",
       "      <td>False</td>\n",
       "      <td>oculus</td>\n",
       "      <td>t5_2uni5</td>\n",
       "      <td>384067</td>\n",
       "      <td>public</td>\n",
       "      <td>self</td>\n",
       "      <td>Quest users keep your hands off the volume but...</td>\n",
       "      <td>0</td>\n",
       "      <td>[]</td>\n",
       "      <td>1.0</td>\n",
       "      <td>https://www.reddit.com/r/oculus/comments/q0tx5...</td>\n",
       "      <td>all_ads</td>\n",
       "      <td>6</td>\n",
       "      <td>green</td>\n",
       "      <td>b193c526-b043-11e3-bcb9-12313d21b86e</td>\n",
       "      <td>Discussion</td>\n",
       "      <td>NaN</td>\n",
       "      <td>NaN</td>\n",
       "      <td>NaN</td>\n",
       "      <td>NaN</td>\n",
       "      <td>NaN</td>\n",
       "      <td>NaN</td>\n",
       "      <td>NaN</td>\n",
       "      <td>NaN</td>\n",
       "      <td>NaN</td>\n",
       "      <td>NaN</td>\n",
       "      <td>NaN</td>\n",
       "      <td>NaN</td>\n",
       "    </tr>\n",
       "    <tr>\n",
       "      <th>4</th>\n",
       "      <td>4</td>\n",
       "      <td>[]</td>\n",
       "      <td>False</td>\n",
       "      <td>Brando224</td>\n",
       "      <td>NaN</td>\n",
       "      <td>[]</td>\n",
       "      <td>NaN</td>\n",
       "      <td>text</td>\n",
       "      <td>t2_12vytl</td>\n",
       "      <td>False</td>\n",
       "      <td>False</td>\n",
       "      <td>False</td>\n",
       "      <td>[]</td>\n",
       "      <td>False</td>\n",
       "      <td>False</td>\n",
       "      <td>1633305301</td>\n",
       "      <td>self.oculus</td>\n",
       "      <td>https://www.reddit.com/r/oculus/comments/q0tvp...</td>\n",
       "      <td>{}</td>\n",
       "      <td>q0tvpn</td>\n",
       "      <td>False</td>\n",
       "      <td>True</td>\n",
       "      <td>False</td>\n",
       "      <td>False</td>\n",
       "      <td>False</td>\n",
       "      <td>True</td>\n",
       "      <td>True</td>\n",
       "      <td>False</td>\n",
       "      <td>NaN</td>\n",
       "      <td>[]</td>\n",
       "      <td>dark</td>\n",
       "      <td>text</td>\n",
       "      <td>False</td>\n",
       "      <td>False</td>\n",
       "      <td>True</td>\n",
       "      <td>0</td>\n",
       "      <td>0</td>\n",
       "      <td>False</td>\n",
       "      <td>all_ads</td>\n",
       "      <td>/r/oculus/comments/q0tvpn/quest_users_keep_you...</td>\n",
       "      <td>False</td>\n",
       "      <td>6</td>\n",
       "      <td>1633305312</td>\n",
       "      <td>1</td>\n",
       "      <td>I litterally see 10 posts a day asking how thi...</td>\n",
       "      <td>True</td>\n",
       "      <td>False</td>\n",
       "      <td>False</td>\n",
       "      <td>oculus</td>\n",
       "      <td>t5_2uni5</td>\n",
       "      <td>384067</td>\n",
       "      <td>public</td>\n",
       "      <td>self</td>\n",
       "      <td>Quest users, keep your hands off the power but...</td>\n",
       "      <td>0</td>\n",
       "      <td>[]</td>\n",
       "      <td>1.0</td>\n",
       "      <td>https://www.reddit.com/r/oculus/comments/q0tvp...</td>\n",
       "      <td>all_ads</td>\n",
       "      <td>6</td>\n",
       "      <td>green</td>\n",
       "      <td>b193c526-b043-11e3-bcb9-12313d21b86e</td>\n",
       "      <td>Discussion</td>\n",
       "      <td>NaN</td>\n",
       "      <td>NaN</td>\n",
       "      <td>NaN</td>\n",
       "      <td>NaN</td>\n",
       "      <td>NaN</td>\n",
       "      <td>NaN</td>\n",
       "      <td>NaN</td>\n",
       "      <td>NaN</td>\n",
       "      <td>NaN</td>\n",
       "      <td>NaN</td>\n",
       "      <td>NaN</td>\n",
       "      <td>NaN</td>\n",
       "    </tr>\n",
       "  </tbody>\n",
       "</table>\n",
       "</div>"
      ],
      "text/plain": [
       "   Unnamed: 0 all_awardings  allow_live_comments         author  \\\n",
       "0           0            []                False        Villios   \n",
       "1           1            []                False  BITTERBATISTA   \n",
       "2           2            []                False     punkonjunk   \n",
       "3           3            []                False      Brando224   \n",
       "4           4            []                False      Brando224   \n",
       "\n",
       "  author_flair_css_class author_flair_richtext author_flair_text  \\\n",
       "0                    NaN                    []               NaN   \n",
       "1                    NaN                    []               NaN   \n",
       "2                    NaN                    []               NaN   \n",
       "3                    NaN                    []               NaN   \n",
       "4                    NaN                    []               NaN   \n",
       "\n",
       "  author_flair_type author_fullname author_is_blocked  author_patreon_flair  \\\n",
       "0              text     t2_7opguj09             False                 False   \n",
       "1              text     t2_f3l53w2e             False                 False   \n",
       "2              text        t2_bf2pt             False                 False   \n",
       "3              text       t2_12vytl             False                 False   \n",
       "4              text       t2_12vytl             False                 False   \n",
       "\n",
       "   author_premium awarders  can_mod_post  contest_mode  created_utc  \\\n",
       "0           False       []         False         False   1633307331   \n",
       "1           False       []         False         False   1633306875   \n",
       "2           False       []         False         False   1633305454   \n",
       "3           False       []         False         False   1633305447   \n",
       "4           False       []         False         False   1633305301   \n",
       "\n",
       "        domain                                          full_link gildings  \\\n",
       "0  self.oculus  https://www.reddit.com/r/oculus/comments/q0ugi...       {}   \n",
       "1  self.oculus  https://www.reddit.com/r/oculus/comments/q0uc6...       {}   \n",
       "2  self.oculus  https://www.reddit.com/r/oculus/comments/q0tx7...       {}   \n",
       "3  self.oculus  https://www.reddit.com/r/oculus/comments/q0tx5...       {}   \n",
       "4  self.oculus  https://www.reddit.com/r/oculus/comments/q0tvp...       {}   \n",
       "\n",
       "       id is_created_from_ads_ui  is_crosspostable  is_meta  \\\n",
       "0  q0ugia                  False              True    False   \n",
       "1  q0uc6f                  False              True    False   \n",
       "2  q0tx7w                  False              True    False   \n",
       "3  q0tx5l                  False              True    False   \n",
       "4  q0tvpn                  False              True    False   \n",
       "\n",
       "   is_original_content  is_reddit_media_domain  is_robot_indexable  is_self  \\\n",
       "0                False                   False                True     True   \n",
       "1                False                   False                True     True   \n",
       "2                False                   False                True     True   \n",
       "3                False                   False                True     True   \n",
       "4                False                   False                True     True   \n",
       "\n",
       "   is_video link_flair_background_color link_flair_richtext  \\\n",
       "0     False                         NaN                  []   \n",
       "1     False                         NaN                  []   \n",
       "2     False                         NaN                  []   \n",
       "3     False                         NaN                  []   \n",
       "4     False                         NaN                  []   \n",
       "\n",
       "  link_flair_text_color link_flair_type  locked  media_only  no_follow  \\\n",
       "0                  dark            text   False       False       True   \n",
       "1                  dark            text   False       False       True   \n",
       "2                  dark            text   False       False       True   \n",
       "3                  dark            text   False       False       True   \n",
       "4                  dark            text   False       False       True   \n",
       "\n",
       "   num_comments  num_crossposts  over_18 parent_whitelist_status  \\\n",
       "0             1               0    False                 all_ads   \n",
       "1             3               0    False                 all_ads   \n",
       "2             8               0    False                 all_ads   \n",
       "3             0               0    False                 all_ads   \n",
       "4             0               0    False                 all_ads   \n",
       "\n",
       "                                           permalink  pinned  pwls  \\\n",
       "0  /r/oculus/comments/q0ugia/manastorm_or_tankard...   False     6   \n",
       "1          /r/oculus/comments/q0uc6f/rift_s_support/   False     6   \n",
       "2  /r/oculus/comments/q0tx7w/how_do_you_actually_...   False     6   \n",
       "3  /r/oculus/comments/q0tx5l/quest_users_keep_you...   False     6   \n",
       "4  /r/oculus/comments/q0tvpn/quest_users_keep_you...   False     6   \n",
       "\n",
       "   retrieved_on  score                                           selftext  \\\n",
       "0    1633307342      1  Looking for a VR card games and it seems these...   \n",
       "1    1633306886      1  I'm one of the unlucky ones who has a Rift S w...   \n",
       "2    1633305465      1  You can easily do this in virtual desktop by l...   \n",
       "3    1633305458      1  I litterally see 10 posts a day asking how thi...   \n",
       "4    1633305312      1  I litterally see 10 posts a day asking how thi...   \n",
       "\n",
       "   send_replies  spoiler  stickied subreddit subreddit_id  \\\n",
       "0          True    False     False    oculus     t5_2uni5   \n",
       "1          True    False     False    oculus     t5_2uni5   \n",
       "2          True    False     False    oculus     t5_2uni5   \n",
       "3          True    False     False    oculus     t5_2uni5   \n",
       "4          True    False     False    oculus     t5_2uni5   \n",
       "\n",
       "   subreddit_subscribers subreddit_type thumbnail  \\\n",
       "0                 384072         public      self   \n",
       "1                 384071         public      self   \n",
       "2                 384067         public      self   \n",
       "3                 384067         public      self   \n",
       "4                 384067         public      self   \n",
       "\n",
       "                                               title  total_awards_received  \\\n",
       "0                   Manastorm or Tankards and cards?                      0   \n",
       "1                                     Rift S Support                      0   \n",
       "2  How do you actually reset your orientation in ...                      0   \n",
       "3  Quest users keep your hands off the volume but...                      0   \n",
       "4  Quest users, keep your hands off the power but...                      0   \n",
       "\n",
       "  treatment_tags  upvote_ratio  \\\n",
       "0             []           1.0   \n",
       "1             []           1.0   \n",
       "2             []           1.0   \n",
       "3             []           1.0   \n",
       "4             []           1.0   \n",
       "\n",
       "                                                 url whitelist_status  wls  \\\n",
       "0  https://www.reddit.com/r/oculus/comments/q0ugi...          all_ads    6   \n",
       "1  https://www.reddit.com/r/oculus/comments/q0uc6...          all_ads    6   \n",
       "2  https://www.reddit.com/r/oculus/comments/q0tx7...          all_ads    6   \n",
       "3  https://www.reddit.com/r/oculus/comments/q0tx5...          all_ads    6   \n",
       "4  https://www.reddit.com/r/oculus/comments/q0tvp...          all_ads    6   \n",
       "\n",
       "  link_flair_css_class                link_flair_template_id link_flair_text  \\\n",
       "0                  NaN                                   NaN             NaN   \n",
       "1           lightgreen  273b1b52-0fd9-11e6-85c7-0e5c663c2313        Hardware   \n",
       "2               purple  4c9ef228-aec0-11e3-923d-12313d0901f7        Software   \n",
       "3                green  b193c526-b043-11e3-bcb9-12313d21b86e      Discussion   \n",
       "4                green  b193c526-b043-11e3-bcb9-12313d21b86e      Discussion   \n",
       "\n",
       "   author_flair_background_color author_flair_text_color post_hint preview  \\\n",
       "0                            NaN                     NaN       NaN     NaN   \n",
       "1                            NaN                     NaN       NaN     NaN   \n",
       "2                            NaN                     NaN       NaN     NaN   \n",
       "3                            NaN                     NaN       NaN     NaN   \n",
       "4                            NaN                     NaN       NaN     NaN   \n",
       "\n",
       "  poll_data author_flair_template_id media_metadata  thumbnail_height  \\\n",
       "0       NaN                      NaN            NaN               NaN   \n",
       "1       NaN                      NaN            NaN               NaN   \n",
       "2       NaN                      NaN            NaN               NaN   \n",
       "3       NaN                      NaN            NaN               NaN   \n",
       "4       NaN                      NaN            NaN               NaN   \n",
       "\n",
       "   thumbnail_width author_cakeday suggested_sort  edited  \n",
       "0              NaN            NaN            NaN     NaN  \n",
       "1              NaN            NaN            NaN     NaN  \n",
       "2              NaN            NaN            NaN     NaN  \n",
       "3              NaN            NaN            NaN     NaN  \n",
       "4              NaN            NaN            NaN     NaN  "
      ]
     },
     "execution_count": 3,
     "metadata": {},
     "output_type": "execute_result"
    }
   ],
   "source": [
    "oculus.head()"
   ]
  },
  {
   "cell_type": "code",
   "execution_count": 4,
   "id": "85636198-cc0e-493e-a4e1-e9ade1fb4d04",
   "metadata": {
    "scrolled": true,
    "tags": []
   },
   "outputs": [
    {
     "data": {
      "text/html": [
       "<div>\n",
       "<style scoped>\n",
       "    .dataframe tbody tr th:only-of-type {\n",
       "        vertical-align: middle;\n",
       "    }\n",
       "\n",
       "    .dataframe tbody tr th {\n",
       "        vertical-align: top;\n",
       "    }\n",
       "\n",
       "    .dataframe thead th {\n",
       "        text-align: right;\n",
       "    }\n",
       "</style>\n",
       "<table border=\"1\" class=\"dataframe\">\n",
       "  <thead>\n",
       "    <tr style=\"text-align: right;\">\n",
       "      <th></th>\n",
       "      <th>Unnamed: 0</th>\n",
       "      <th>all_awardings</th>\n",
       "      <th>allow_live_comments</th>\n",
       "      <th>author</th>\n",
       "      <th>author_flair_css_class</th>\n",
       "      <th>author_flair_richtext</th>\n",
       "      <th>author_flair_text</th>\n",
       "      <th>author_flair_type</th>\n",
       "      <th>author_fullname</th>\n",
       "      <th>author_is_blocked</th>\n",
       "      <th>author_patreon_flair</th>\n",
       "      <th>author_premium</th>\n",
       "      <th>awarders</th>\n",
       "      <th>can_mod_post</th>\n",
       "      <th>contest_mode</th>\n",
       "      <th>created_utc</th>\n",
       "      <th>domain</th>\n",
       "      <th>full_link</th>\n",
       "      <th>gildings</th>\n",
       "      <th>id</th>\n",
       "      <th>is_created_from_ads_ui</th>\n",
       "      <th>is_crosspostable</th>\n",
       "      <th>is_meta</th>\n",
       "      <th>is_original_content</th>\n",
       "      <th>is_reddit_media_domain</th>\n",
       "      <th>is_robot_indexable</th>\n",
       "      <th>is_self</th>\n",
       "      <th>is_video</th>\n",
       "      <th>link_flair_background_color</th>\n",
       "      <th>link_flair_richtext</th>\n",
       "      <th>link_flair_template_id</th>\n",
       "      <th>link_flair_text</th>\n",
       "      <th>link_flair_text_color</th>\n",
       "      <th>link_flair_type</th>\n",
       "      <th>locked</th>\n",
       "      <th>media_only</th>\n",
       "      <th>no_follow</th>\n",
       "      <th>num_comments</th>\n",
       "      <th>num_crossposts</th>\n",
       "      <th>over_18</th>\n",
       "      <th>parent_whitelist_status</th>\n",
       "      <th>permalink</th>\n",
       "      <th>pinned</th>\n",
       "      <th>pwls</th>\n",
       "      <th>retrieved_on</th>\n",
       "      <th>score</th>\n",
       "      <th>selftext</th>\n",
       "      <th>send_replies</th>\n",
       "      <th>spoiler</th>\n",
       "      <th>stickied</th>\n",
       "      <th>subreddit</th>\n",
       "      <th>subreddit_id</th>\n",
       "      <th>subreddit_subscribers</th>\n",
       "      <th>subreddit_type</th>\n",
       "      <th>thumbnail</th>\n",
       "      <th>title</th>\n",
       "      <th>total_awards_received</th>\n",
       "      <th>treatment_tags</th>\n",
       "      <th>upvote_ratio</th>\n",
       "      <th>url</th>\n",
       "      <th>whitelist_status</th>\n",
       "      <th>wls</th>\n",
       "      <th>media_metadata</th>\n",
       "      <th>thumbnail_height</th>\n",
       "      <th>thumbnail_width</th>\n",
       "      <th>author_flair_template_id</th>\n",
       "      <th>author_flair_text_color</th>\n",
       "      <th>poll_data</th>\n",
       "      <th>post_hint</th>\n",
       "      <th>preview</th>\n",
       "      <th>author_flair_background_color</th>\n",
       "      <th>author_cakeday</th>\n",
       "      <th>edited</th>\n",
       "      <th>removed_by_category</th>\n",
       "    </tr>\n",
       "  </thead>\n",
       "  <tbody>\n",
       "    <tr>\n",
       "      <th>0</th>\n",
       "      <td>0</td>\n",
       "      <td>[]</td>\n",
       "      <td>False</td>\n",
       "      <td>SisselHyde</td>\n",
       "      <td>NaN</td>\n",
       "      <td>[]</td>\n",
       "      <td>NaN</td>\n",
       "      <td>text</td>\n",
       "      <td>t2_6xdbtvqo</td>\n",
       "      <td>False</td>\n",
       "      <td>False</td>\n",
       "      <td>False</td>\n",
       "      <td>[]</td>\n",
       "      <td>False</td>\n",
       "      <td>False</td>\n",
       "      <td>1633295350</td>\n",
       "      <td>self.PSVR</td>\n",
       "      <td>https://www.reddit.com/r/PSVR/comments/q0qunk/...</td>\n",
       "      <td>{}</td>\n",
       "      <td>q0qunk</td>\n",
       "      <td>False</td>\n",
       "      <td>True</td>\n",
       "      <td>False</td>\n",
       "      <td>False</td>\n",
       "      <td>False</td>\n",
       "      <td>True</td>\n",
       "      <td>True</td>\n",
       "      <td>False</td>\n",
       "      <td>#edeff1</td>\n",
       "      <td>[{'e': 'text', 't': 'Question'}]</td>\n",
       "      <td>090fc818-af4c-11eb-ada4-0e6fd107f82b</td>\n",
       "      <td>Question</td>\n",
       "      <td>dark</td>\n",
       "      <td>richtext</td>\n",
       "      <td>False</td>\n",
       "      <td>False</td>\n",
       "      <td>True</td>\n",
       "      <td>1</td>\n",
       "      <td>0</td>\n",
       "      <td>False</td>\n",
       "      <td>all_ads</td>\n",
       "      <td>/r/PSVR/comments/q0qunk/questione_about_marksm...</td>\n",
       "      <td>False</td>\n",
       "      <td>6</td>\n",
       "      <td>1633295361</td>\n",
       "      <td>1</td>\n",
       "      <td>Hi, in the mission 16 and 18 of Blood &amp;amp; Tr...</td>\n",
       "      <td>True</td>\n",
       "      <td>False</td>\n",
       "      <td>False</td>\n",
       "      <td>PSVR</td>\n",
       "      <td>t5_3102i</td>\n",
       "      <td>170881</td>\n",
       "      <td>public</td>\n",
       "      <td>self</td>\n",
       "      <td>Questione about Marksman on Mission 16 and 18 ...</td>\n",
       "      <td>0</td>\n",
       "      <td>[]</td>\n",
       "      <td>1.0</td>\n",
       "      <td>https://www.reddit.com/r/PSVR/comments/q0qunk/...</td>\n",
       "      <td>all_ads</td>\n",
       "      <td>6</td>\n",
       "      <td>NaN</td>\n",
       "      <td>NaN</td>\n",
       "      <td>NaN</td>\n",
       "      <td>NaN</td>\n",
       "      <td>NaN</td>\n",
       "      <td>NaN</td>\n",
       "      <td>NaN</td>\n",
       "      <td>NaN</td>\n",
       "      <td>NaN</td>\n",
       "      <td>NaN</td>\n",
       "      <td>NaN</td>\n",
       "      <td>NaN</td>\n",
       "    </tr>\n",
       "    <tr>\n",
       "      <th>1</th>\n",
       "      <td>1</td>\n",
       "      <td>[]</td>\n",
       "      <td>False</td>\n",
       "      <td>Math383838</td>\n",
       "      <td>NaN</td>\n",
       "      <td>[]</td>\n",
       "      <td>NaN</td>\n",
       "      <td>text</td>\n",
       "      <td>t2_9orp1t</td>\n",
       "      <td>False</td>\n",
       "      <td>False</td>\n",
       "      <td>False</td>\n",
       "      <td>[]</td>\n",
       "      <td>False</td>\n",
       "      <td>False</td>\n",
       "      <td>1633295284</td>\n",
       "      <td>self.PSVR</td>\n",
       "      <td>https://www.reddit.com/r/PSVR/comments/q0qtwb/...</td>\n",
       "      <td>{}</td>\n",
       "      <td>q0qtwb</td>\n",
       "      <td>False</td>\n",
       "      <td>True</td>\n",
       "      <td>False</td>\n",
       "      <td>False</td>\n",
       "      <td>False</td>\n",
       "      <td>True</td>\n",
       "      <td>True</td>\n",
       "      <td>False</td>\n",
       "      <td>#edeff1</td>\n",
       "      <td>[{'e': 'text', 't': 'Question'}]</td>\n",
       "      <td>090fc818-af4c-11eb-ada4-0e6fd107f82b</td>\n",
       "      <td>Question</td>\n",
       "      <td>dark</td>\n",
       "      <td>richtext</td>\n",
       "      <td>False</td>\n",
       "      <td>False</td>\n",
       "      <td>True</td>\n",
       "      <td>7</td>\n",
       "      <td>0</td>\n",
       "      <td>False</td>\n",
       "      <td>all_ads</td>\n",
       "      <td>/r/PSVR/comments/q0qtwb/so_i_need_to_keep_my_p...</td>\n",
       "      <td>False</td>\n",
       "      <td>6</td>\n",
       "      <td>1633295295</td>\n",
       "      <td>1</td>\n",
       "      <td>I just got myself a PS5, but the PSVR use the ...</td>\n",
       "      <td>True</td>\n",
       "      <td>False</td>\n",
       "      <td>False</td>\n",
       "      <td>PSVR</td>\n",
       "      <td>t5_3102i</td>\n",
       "      <td>170881</td>\n",
       "      <td>public</td>\n",
       "      <td>self</td>\n",
       "      <td>So I need to keep my PS4 to use my PSVR?</td>\n",
       "      <td>0</td>\n",
       "      <td>[]</td>\n",
       "      <td>1.0</td>\n",
       "      <td>https://www.reddit.com/r/PSVR/comments/q0qtwb/...</td>\n",
       "      <td>all_ads</td>\n",
       "      <td>6</td>\n",
       "      <td>NaN</td>\n",
       "      <td>NaN</td>\n",
       "      <td>NaN</td>\n",
       "      <td>NaN</td>\n",
       "      <td>NaN</td>\n",
       "      <td>NaN</td>\n",
       "      <td>NaN</td>\n",
       "      <td>NaN</td>\n",
       "      <td>NaN</td>\n",
       "      <td>NaN</td>\n",
       "      <td>NaN</td>\n",
       "      <td>NaN</td>\n",
       "    </tr>\n",
       "    <tr>\n",
       "      <th>2</th>\n",
       "      <td>2</td>\n",
       "      <td>[]</td>\n",
       "      <td>False</td>\n",
       "      <td>hell_help</td>\n",
       "      <td>NaN</td>\n",
       "      <td>[]</td>\n",
       "      <td>NaN</td>\n",
       "      <td>text</td>\n",
       "      <td>t2_8t70q8xb</td>\n",
       "      <td>False</td>\n",
       "      <td>False</td>\n",
       "      <td>False</td>\n",
       "      <td>[]</td>\n",
       "      <td>False</td>\n",
       "      <td>False</td>\n",
       "      <td>1633294741</td>\n",
       "      <td>self.PSVR</td>\n",
       "      <td>https://www.reddit.com/r/PSVR/comments/q0qn7e/...</td>\n",
       "      <td>{}</td>\n",
       "      <td>q0qn7e</td>\n",
       "      <td>False</td>\n",
       "      <td>True</td>\n",
       "      <td>False</td>\n",
       "      <td>False</td>\n",
       "      <td>False</td>\n",
       "      <td>True</td>\n",
       "      <td>True</td>\n",
       "      <td>False</td>\n",
       "      <td>#edeff1</td>\n",
       "      <td>[{'e': 'text', 't': 'Question'}]</td>\n",
       "      <td>090fc818-af4c-11eb-ada4-0e6fd107f82b</td>\n",
       "      <td>Question</td>\n",
       "      <td>dark</td>\n",
       "      <td>richtext</td>\n",
       "      <td>False</td>\n",
       "      <td>False</td>\n",
       "      <td>True</td>\n",
       "      <td>4</td>\n",
       "      <td>0</td>\n",
       "      <td>False</td>\n",
       "      <td>all_ads</td>\n",
       "      <td>/r/PSVR/comments/q0qn7e/psvr_repair/</td>\n",
       "      <td>False</td>\n",
       "      <td>6</td>\n",
       "      <td>1633294752</td>\n",
       "      <td>1</td>\n",
       "      <td>So I need to get my psvr repaired and I was wa...</td>\n",
       "      <td>True</td>\n",
       "      <td>False</td>\n",
       "      <td>False</td>\n",
       "      <td>PSVR</td>\n",
       "      <td>t5_3102i</td>\n",
       "      <td>170880</td>\n",
       "      <td>public</td>\n",
       "      <td>self</td>\n",
       "      <td>Psvr repair</td>\n",
       "      <td>0</td>\n",
       "      <td>[]</td>\n",
       "      <td>1.0</td>\n",
       "      <td>https://www.reddit.com/r/PSVR/comments/q0qn7e/...</td>\n",
       "      <td>all_ads</td>\n",
       "      <td>6</td>\n",
       "      <td>NaN</td>\n",
       "      <td>NaN</td>\n",
       "      <td>NaN</td>\n",
       "      <td>NaN</td>\n",
       "      <td>NaN</td>\n",
       "      <td>NaN</td>\n",
       "      <td>NaN</td>\n",
       "      <td>NaN</td>\n",
       "      <td>NaN</td>\n",
       "      <td>NaN</td>\n",
       "      <td>NaN</td>\n",
       "      <td>NaN</td>\n",
       "    </tr>\n",
       "    <tr>\n",
       "      <th>3</th>\n",
       "      <td>3</td>\n",
       "      <td>[]</td>\n",
       "      <td>False</td>\n",
       "      <td>Bubble-tea-Billy</td>\n",
       "      <td>NaN</td>\n",
       "      <td>[]</td>\n",
       "      <td>NaN</td>\n",
       "      <td>text</td>\n",
       "      <td>t2_b7odov2s</td>\n",
       "      <td>False</td>\n",
       "      <td>False</td>\n",
       "      <td>False</td>\n",
       "      <td>[]</td>\n",
       "      <td>False</td>\n",
       "      <td>False</td>\n",
       "      <td>1633291248</td>\n",
       "      <td>self.PSVR</td>\n",
       "      <td>https://www.reddit.com/r/PSVR/comments/q0phvp/...</td>\n",
       "      <td>{}</td>\n",
       "      <td>q0phvp</td>\n",
       "      <td>False</td>\n",
       "      <td>True</td>\n",
       "      <td>False</td>\n",
       "      <td>False</td>\n",
       "      <td>False</td>\n",
       "      <td>True</td>\n",
       "      <td>True</td>\n",
       "      <td>False</td>\n",
       "      <td>#edeff1</td>\n",
       "      <td>[{'e': 'text', 't': 'Question'}]</td>\n",
       "      <td>090fc818-af4c-11eb-ada4-0e6fd107f82b</td>\n",
       "      <td>Question</td>\n",
       "      <td>dark</td>\n",
       "      <td>richtext</td>\n",
       "      <td>False</td>\n",
       "      <td>False</td>\n",
       "      <td>True</td>\n",
       "      <td>5</td>\n",
       "      <td>0</td>\n",
       "      <td>False</td>\n",
       "      <td>all_ads</td>\n",
       "      <td>/r/PSVR/comments/q0phvp/thumper_ps5_psvr_not_w...</td>\n",
       "      <td>False</td>\n",
       "      <td>6</td>\n",
       "      <td>1633291259</td>\n",
       "      <td>1</td>\n",
       "      <td>Does anyone else have this problem? The vr wor...</td>\n",
       "      <td>True</td>\n",
       "      <td>False</td>\n",
       "      <td>False</td>\n",
       "      <td>PSVR</td>\n",
       "      <td>t5_3102i</td>\n",
       "      <td>170881</td>\n",
       "      <td>public</td>\n",
       "      <td>self</td>\n",
       "      <td>Thumper PS5 PSVR Not working</td>\n",
       "      <td>0</td>\n",
       "      <td>[]</td>\n",
       "      <td>1.0</td>\n",
       "      <td>https://www.reddit.com/r/PSVR/comments/q0phvp/...</td>\n",
       "      <td>all_ads</td>\n",
       "      <td>6</td>\n",
       "      <td>NaN</td>\n",
       "      <td>NaN</td>\n",
       "      <td>NaN</td>\n",
       "      <td>NaN</td>\n",
       "      <td>NaN</td>\n",
       "      <td>NaN</td>\n",
       "      <td>NaN</td>\n",
       "      <td>NaN</td>\n",
       "      <td>NaN</td>\n",
       "      <td>NaN</td>\n",
       "      <td>NaN</td>\n",
       "      <td>NaN</td>\n",
       "    </tr>\n",
       "    <tr>\n",
       "      <th>4</th>\n",
       "      <td>4</td>\n",
       "      <td>[]</td>\n",
       "      <td>False</td>\n",
       "      <td>Neo_Techni</td>\n",
       "      <td>NaN</td>\n",
       "      <td>[]</td>\n",
       "      <td>NaN</td>\n",
       "      <td>text</td>\n",
       "      <td>t2_k9xvc</td>\n",
       "      <td>False</td>\n",
       "      <td>False</td>\n",
       "      <td>False</td>\n",
       "      <td>[]</td>\n",
       "      <td>False</td>\n",
       "      <td>False</td>\n",
       "      <td>1633282506</td>\n",
       "      <td>self.PSVR</td>\n",
       "      <td>https://www.reddit.com/r/PSVR/comments/q0mjn5/...</td>\n",
       "      <td>{}</td>\n",
       "      <td>q0mjn5</td>\n",
       "      <td>False</td>\n",
       "      <td>True</td>\n",
       "      <td>False</td>\n",
       "      <td>False</td>\n",
       "      <td>False</td>\n",
       "      <td>True</td>\n",
       "      <td>True</td>\n",
       "      <td>False</td>\n",
       "      <td>#edeff1</td>\n",
       "      <td>[{'e': 'text', 't': 'Question'}]</td>\n",
       "      <td>090fc818-af4c-11eb-ada4-0e6fd107f82b</td>\n",
       "      <td>Question</td>\n",
       "      <td>dark</td>\n",
       "      <td>richtext</td>\n",
       "      <td>False</td>\n",
       "      <td>False</td>\n",
       "      <td>False</td>\n",
       "      <td>5</td>\n",
       "      <td>0</td>\n",
       "      <td>False</td>\n",
       "      <td>all_ads</td>\n",
       "      <td>/r/PSVR/comments/q0mjn5/i_need_an_hdmi_matrix_...</td>\n",
       "      <td>False</td>\n",
       "      <td>6</td>\n",
       "      <td>1633282518</td>\n",
       "      <td>1</td>\n",
       "      <td>Which one would be best for PSVR 1 (meaning I ...</td>\n",
       "      <td>True</td>\n",
       "      <td>False</td>\n",
       "      <td>False</td>\n",
       "      <td>PSVR</td>\n",
       "      <td>t5_3102i</td>\n",
       "      <td>170879</td>\n",
       "      <td>public</td>\n",
       "      <td>self</td>\n",
       "      <td>I need an HDMI matrix switch for PSVR</td>\n",
       "      <td>0</td>\n",
       "      <td>[]</td>\n",
       "      <td>1.0</td>\n",
       "      <td>https://www.reddit.com/r/PSVR/comments/q0mjn5/...</td>\n",
       "      <td>all_ads</td>\n",
       "      <td>6</td>\n",
       "      <td>NaN</td>\n",
       "      <td>NaN</td>\n",
       "      <td>NaN</td>\n",
       "      <td>NaN</td>\n",
       "      <td>NaN</td>\n",
       "      <td>NaN</td>\n",
       "      <td>NaN</td>\n",
       "      <td>NaN</td>\n",
       "      <td>NaN</td>\n",
       "      <td>NaN</td>\n",
       "      <td>NaN</td>\n",
       "      <td>NaN</td>\n",
       "    </tr>\n",
       "  </tbody>\n",
       "</table>\n",
       "</div>"
      ],
      "text/plain": [
       "   Unnamed: 0 all_awardings  allow_live_comments            author  \\\n",
       "0           0            []                False        SisselHyde   \n",
       "1           1            []                False        Math383838   \n",
       "2           2            []                False         hell_help   \n",
       "3           3            []                False  Bubble-tea-Billy   \n",
       "4           4            []                False        Neo_Techni   \n",
       "\n",
       "  author_flair_css_class author_flair_richtext author_flair_text  \\\n",
       "0                    NaN                    []               NaN   \n",
       "1                    NaN                    []               NaN   \n",
       "2                    NaN                    []               NaN   \n",
       "3                    NaN                    []               NaN   \n",
       "4                    NaN                    []               NaN   \n",
       "\n",
       "  author_flair_type author_fullname author_is_blocked author_patreon_flair  \\\n",
       "0              text     t2_6xdbtvqo             False                False   \n",
       "1              text       t2_9orp1t             False                False   \n",
       "2              text     t2_8t70q8xb             False                False   \n",
       "3              text     t2_b7odov2s             False                False   \n",
       "4              text        t2_k9xvc             False                False   \n",
       "\n",
       "  author_premium awarders  can_mod_post  contest_mode  created_utc     domain  \\\n",
       "0          False       []         False         False   1633295350  self.PSVR   \n",
       "1          False       []         False         False   1633295284  self.PSVR   \n",
       "2          False       []         False         False   1633294741  self.PSVR   \n",
       "3          False       []         False         False   1633291248  self.PSVR   \n",
       "4          False       []         False         False   1633282506  self.PSVR   \n",
       "\n",
       "                                           full_link gildings      id  \\\n",
       "0  https://www.reddit.com/r/PSVR/comments/q0qunk/...       {}  q0qunk   \n",
       "1  https://www.reddit.com/r/PSVR/comments/q0qtwb/...       {}  q0qtwb   \n",
       "2  https://www.reddit.com/r/PSVR/comments/q0qn7e/...       {}  q0qn7e   \n",
       "3  https://www.reddit.com/r/PSVR/comments/q0phvp/...       {}  q0phvp   \n",
       "4  https://www.reddit.com/r/PSVR/comments/q0mjn5/...       {}  q0mjn5   \n",
       "\n",
       "  is_created_from_ads_ui  is_crosspostable  is_meta  is_original_content  \\\n",
       "0                  False              True    False                False   \n",
       "1                  False              True    False                False   \n",
       "2                  False              True    False                False   \n",
       "3                  False              True    False                False   \n",
       "4                  False              True    False                False   \n",
       "\n",
       "   is_reddit_media_domain  is_robot_indexable  is_self  is_video  \\\n",
       "0                   False                True     True     False   \n",
       "1                   False                True     True     False   \n",
       "2                   False                True     True     False   \n",
       "3                   False                True     True     False   \n",
       "4                   False                True     True     False   \n",
       "\n",
       "  link_flair_background_color               link_flair_richtext  \\\n",
       "0                     #edeff1  [{'e': 'text', 't': 'Question'}]   \n",
       "1                     #edeff1  [{'e': 'text', 't': 'Question'}]   \n",
       "2                     #edeff1  [{'e': 'text', 't': 'Question'}]   \n",
       "3                     #edeff1  [{'e': 'text', 't': 'Question'}]   \n",
       "4                     #edeff1  [{'e': 'text', 't': 'Question'}]   \n",
       "\n",
       "                 link_flair_template_id link_flair_text link_flair_text_color  \\\n",
       "0  090fc818-af4c-11eb-ada4-0e6fd107f82b        Question                  dark   \n",
       "1  090fc818-af4c-11eb-ada4-0e6fd107f82b        Question                  dark   \n",
       "2  090fc818-af4c-11eb-ada4-0e6fd107f82b        Question                  dark   \n",
       "3  090fc818-af4c-11eb-ada4-0e6fd107f82b        Question                  dark   \n",
       "4  090fc818-af4c-11eb-ada4-0e6fd107f82b        Question                  dark   \n",
       "\n",
       "  link_flair_type  locked  media_only  no_follow  num_comments  \\\n",
       "0        richtext   False       False       True             1   \n",
       "1        richtext   False       False       True             7   \n",
       "2        richtext   False       False       True             4   \n",
       "3        richtext   False       False       True             5   \n",
       "4        richtext   False       False      False             5   \n",
       "\n",
       "   num_crossposts  over_18 parent_whitelist_status  \\\n",
       "0               0    False                 all_ads   \n",
       "1               0    False                 all_ads   \n",
       "2               0    False                 all_ads   \n",
       "3               0    False                 all_ads   \n",
       "4               0    False                 all_ads   \n",
       "\n",
       "                                           permalink  pinned  pwls  \\\n",
       "0  /r/PSVR/comments/q0qunk/questione_about_marksm...   False     6   \n",
       "1  /r/PSVR/comments/q0qtwb/so_i_need_to_keep_my_p...   False     6   \n",
       "2               /r/PSVR/comments/q0qn7e/psvr_repair/   False     6   \n",
       "3  /r/PSVR/comments/q0phvp/thumper_ps5_psvr_not_w...   False     6   \n",
       "4  /r/PSVR/comments/q0mjn5/i_need_an_hdmi_matrix_...   False     6   \n",
       "\n",
       "   retrieved_on  score                                           selftext  \\\n",
       "0    1633295361      1  Hi, in the mission 16 and 18 of Blood &amp; Tr...   \n",
       "1    1633295295      1  I just got myself a PS5, but the PSVR use the ...   \n",
       "2    1633294752      1  So I need to get my psvr repaired and I was wa...   \n",
       "3    1633291259      1  Does anyone else have this problem? The vr wor...   \n",
       "4    1633282518      1  Which one would be best for PSVR 1 (meaning I ...   \n",
       "\n",
       "   send_replies  spoiler  stickied subreddit subreddit_id  \\\n",
       "0          True    False     False      PSVR     t5_3102i   \n",
       "1          True    False     False      PSVR     t5_3102i   \n",
       "2          True    False     False      PSVR     t5_3102i   \n",
       "3          True    False     False      PSVR     t5_3102i   \n",
       "4          True    False     False      PSVR     t5_3102i   \n",
       "\n",
       "   subreddit_subscribers subreddit_type thumbnail  \\\n",
       "0                 170881         public      self   \n",
       "1                 170881         public      self   \n",
       "2                 170880         public      self   \n",
       "3                 170881         public      self   \n",
       "4                 170879         public      self   \n",
       "\n",
       "                                               title  total_awards_received  \\\n",
       "0  Questione about Marksman on Mission 16 and 18 ...                      0   \n",
       "1           So I need to keep my PS4 to use my PSVR?                      0   \n",
       "2                                        Psvr repair                      0   \n",
       "3                       Thumper PS5 PSVR Not working                      0   \n",
       "4              I need an HDMI matrix switch for PSVR                      0   \n",
       "\n",
       "  treatment_tags  upvote_ratio  \\\n",
       "0             []           1.0   \n",
       "1             []           1.0   \n",
       "2             []           1.0   \n",
       "3             []           1.0   \n",
       "4             []           1.0   \n",
       "\n",
       "                                                 url whitelist_status  wls  \\\n",
       "0  https://www.reddit.com/r/PSVR/comments/q0qunk/...          all_ads    6   \n",
       "1  https://www.reddit.com/r/PSVR/comments/q0qtwb/...          all_ads    6   \n",
       "2  https://www.reddit.com/r/PSVR/comments/q0qn7e/...          all_ads    6   \n",
       "3  https://www.reddit.com/r/PSVR/comments/q0phvp/...          all_ads    6   \n",
       "4  https://www.reddit.com/r/PSVR/comments/q0mjn5/...          all_ads    6   \n",
       "\n",
       "  media_metadata  thumbnail_height  thumbnail_width author_flair_template_id  \\\n",
       "0            NaN               NaN              NaN                      NaN   \n",
       "1            NaN               NaN              NaN                      NaN   \n",
       "2            NaN               NaN              NaN                      NaN   \n",
       "3            NaN               NaN              NaN                      NaN   \n",
       "4            NaN               NaN              NaN                      NaN   \n",
       "\n",
       "  author_flair_text_color poll_data post_hint preview  \\\n",
       "0                     NaN       NaN       NaN     NaN   \n",
       "1                     NaN       NaN       NaN     NaN   \n",
       "2                     NaN       NaN       NaN     NaN   \n",
       "3                     NaN       NaN       NaN     NaN   \n",
       "4                     NaN       NaN       NaN     NaN   \n",
       "\n",
       "  author_flair_background_color author_cakeday  edited removed_by_category  \n",
       "0                           NaN            NaN     NaN                 NaN  \n",
       "1                           NaN            NaN     NaN                 NaN  \n",
       "2                           NaN            NaN     NaN                 NaN  \n",
       "3                           NaN            NaN     NaN                 NaN  \n",
       "4                           NaN            NaN     NaN                 NaN  "
      ]
     },
     "execution_count": 4,
     "metadata": {},
     "output_type": "execute_result"
    }
   ],
   "source": [
    "psvr.head()"
   ]
  },
  {
   "cell_type": "markdown",
   "id": "46e7bc61-91bc-4adc-a06f-72c68542ebcb",
   "metadata": {},
   "source": [
    "## Initial Cleaning & Data Analysis"
   ]
  },
  {
   "cell_type": "code",
   "execution_count": 5,
   "id": "639d26e4-f266-4e3d-bff0-a0b70a2ad83b",
   "metadata": {
    "scrolled": true,
    "tags": []
   },
   "outputs": [
    {
     "name": "stdout",
     "output_type": "stream",
     "text": [
      "<class 'pandas.core.frame.DataFrame'>\n",
      "RangeIndex: 1556 entries, 0 to 1555\n",
      "Data columns (total 75 columns):\n",
      " #   Column                         Non-Null Count  Dtype  \n",
      "---  ------                         --------------  -----  \n",
      " 0   Unnamed: 0                     1556 non-null   int64  \n",
      " 1   all_awardings                  1556 non-null   object \n",
      " 2   allow_live_comments            1556 non-null   bool   \n",
      " 3   author                         1556 non-null   object \n",
      " 4   author_flair_css_class         46 non-null     object \n",
      " 5   author_flair_richtext          1556 non-null   object \n",
      " 6   author_flair_text              46 non-null     object \n",
      " 7   author_flair_type              1556 non-null   object \n",
      " 8   author_fullname                1556 non-null   object \n",
      " 9   author_is_blocked              853 non-null    object \n",
      " 10  author_patreon_flair           1556 non-null   bool   \n",
      " 11  author_premium                 1556 non-null   bool   \n",
      " 12  awarders                       1556 non-null   object \n",
      " 13  can_mod_post                   1556 non-null   bool   \n",
      " 14  contest_mode                   1556 non-null   bool   \n",
      " 15  created_utc                    1556 non-null   int64  \n",
      " 16  domain                         1556 non-null   object \n",
      " 17  full_link                      1556 non-null   object \n",
      " 18  gildings                       1556 non-null   object \n",
      " 19  id                             1556 non-null   object \n",
      " 20  is_created_from_ads_ui         1486 non-null   object \n",
      " 21  is_crosspostable               1556 non-null   bool   \n",
      " 22  is_meta                        1556 non-null   bool   \n",
      " 23  is_original_content            1556 non-null   bool   \n",
      " 24  is_reddit_media_domain         1556 non-null   bool   \n",
      " 25  is_robot_indexable             1556 non-null   bool   \n",
      " 26  is_self                        1556 non-null   bool   \n",
      " 27  is_video                       1556 non-null   bool   \n",
      " 28  link_flair_background_color    18 non-null     object \n",
      " 29  link_flair_richtext            1556 non-null   object \n",
      " 30  link_flair_text_color          1556 non-null   object \n",
      " 31  link_flair_type                1556 non-null   object \n",
      " 32  locked                         1556 non-null   bool   \n",
      " 33  media_only                     1556 non-null   bool   \n",
      " 34  no_follow                      1556 non-null   bool   \n",
      " 35  num_comments                   1556 non-null   int64  \n",
      " 36  num_crossposts                 1556 non-null   int64  \n",
      " 37  over_18                        1556 non-null   bool   \n",
      " 38  parent_whitelist_status        1556 non-null   object \n",
      " 39  permalink                      1556 non-null   object \n",
      " 40  pinned                         1556 non-null   bool   \n",
      " 41  pwls                           1556 non-null   int64  \n",
      " 42  retrieved_on                   1556 non-null   int64  \n",
      " 43  score                          1556 non-null   int64  \n",
      " 44  selftext                       1556 non-null   object \n",
      " 45  send_replies                   1556 non-null   bool   \n",
      " 46  spoiler                        1556 non-null   bool   \n",
      " 47  stickied                       1556 non-null   bool   \n",
      " 48  subreddit                      1556 non-null   object \n",
      " 49  subreddit_id                   1556 non-null   object \n",
      " 50  subreddit_subscribers          1556 non-null   int64  \n",
      " 51  subreddit_type                 1556 non-null   object \n",
      " 52  thumbnail                      1556 non-null   object \n",
      " 53  title                          1556 non-null   object \n",
      " 54  total_awards_received          1556 non-null   int64  \n",
      " 55  treatment_tags                 1556 non-null   object \n",
      " 56  upvote_ratio                   1556 non-null   float64\n",
      " 57  url                            1556 non-null   object \n",
      " 58  whitelist_status               1556 non-null   object \n",
      " 59  wls                            1556 non-null   int64  \n",
      " 60  link_flair_css_class           731 non-null    object \n",
      " 61  link_flair_template_id         731 non-null    object \n",
      " 62  link_flair_text                731 non-null    object \n",
      " 63  author_flair_background_color  0 non-null      float64\n",
      " 64  author_flair_text_color        46 non-null     object \n",
      " 65  post_hint                      76 non-null     object \n",
      " 66  preview                        76 non-null     object \n",
      " 67  poll_data                      7 non-null      object \n",
      " 68  author_flair_template_id       37 non-null     object \n",
      " 69  media_metadata                 30 non-null     object \n",
      " 70  thumbnail_height               23 non-null     float64\n",
      " 71  thumbnail_width                23 non-null     float64\n",
      " 72  author_cakeday                 5 non-null      object \n",
      " 73  suggested_sort                 2 non-null      object \n",
      " 74  edited                         5 non-null      float64\n",
      "dtypes: bool(20), float64(5), int64(10), object(40)\n",
      "memory usage: 699.1+ KB\n"
     ]
    }
   ],
   "source": [
    "oculus.info()"
   ]
  },
  {
   "cell_type": "code",
   "execution_count": 6,
   "id": "d589a82c-1763-4517-85b5-2fee44e65ce6",
   "metadata": {
    "scrolled": true,
    "tags": []
   },
   "outputs": [
    {
     "name": "stdout",
     "output_type": "stream",
     "text": [
      "<class 'pandas.core.frame.DataFrame'>\n",
      "RangeIndex: 1520 entries, 0 to 1519\n",
      "Data columns (total 74 columns):\n",
      " #   Column                         Non-Null Count  Dtype  \n",
      "---  ------                         --------------  -----  \n",
      " 0   Unnamed: 0                     1520 non-null   int64  \n",
      " 1   all_awardings                  1520 non-null   object \n",
      " 2   allow_live_comments            1520 non-null   bool   \n",
      " 3   author                         1520 non-null   object \n",
      " 4   author_flair_css_class         41 non-null     object \n",
      " 5   author_flair_richtext          1519 non-null   object \n",
      " 6   author_flair_text              80 non-null     object \n",
      " 7   author_flair_type              1519 non-null   object \n",
      " 8   author_fullname                1519 non-null   object \n",
      " 9   author_is_blocked              772 non-null    object \n",
      " 10  author_patreon_flair           1519 non-null   object \n",
      " 11  author_premium                 1519 non-null   object \n",
      " 12  awarders                       1520 non-null   object \n",
      " 13  can_mod_post                   1520 non-null   bool   \n",
      " 14  contest_mode                   1520 non-null   bool   \n",
      " 15  created_utc                    1520 non-null   int64  \n",
      " 16  domain                         1520 non-null   object \n",
      " 17  full_link                      1520 non-null   object \n",
      " 18  gildings                       1520 non-null   object \n",
      " 19  id                             1520 non-null   object \n",
      " 20  is_created_from_ads_ui         1364 non-null   object \n",
      " 21  is_crosspostable               1520 non-null   bool   \n",
      " 22  is_meta                        1520 non-null   bool   \n",
      " 23  is_original_content            1520 non-null   bool   \n",
      " 24  is_reddit_media_domain         1520 non-null   bool   \n",
      " 25  is_robot_indexable             1520 non-null   bool   \n",
      " 26  is_self                        1520 non-null   bool   \n",
      " 27  is_video                       1520 non-null   bool   \n",
      " 28  link_flair_background_color    1520 non-null   object \n",
      " 29  link_flair_richtext            1520 non-null   object \n",
      " 30  link_flair_template_id         1520 non-null   object \n",
      " 31  link_flair_text                1520 non-null   object \n",
      " 32  link_flair_text_color          1520 non-null   object \n",
      " 33  link_flair_type                1520 non-null   object \n",
      " 34  locked                         1520 non-null   bool   \n",
      " 35  media_only                     1520 non-null   bool   \n",
      " 36  no_follow                      1520 non-null   bool   \n",
      " 37  num_comments                   1520 non-null   int64  \n",
      " 38  num_crossposts                 1520 non-null   int64  \n",
      " 39  over_18                        1520 non-null   bool   \n",
      " 40  parent_whitelist_status        1520 non-null   object \n",
      " 41  permalink                      1520 non-null   object \n",
      " 42  pinned                         1520 non-null   bool   \n",
      " 43  pwls                           1520 non-null   int64  \n",
      " 44  retrieved_on                   1520 non-null   int64  \n",
      " 45  score                          1520 non-null   int64  \n",
      " 46  selftext                       1520 non-null   object \n",
      " 47  send_replies                   1520 non-null   bool   \n",
      " 48  spoiler                        1520 non-null   bool   \n",
      " 49  stickied                       1520 non-null   bool   \n",
      " 50  subreddit                      1520 non-null   object \n",
      " 51  subreddit_id                   1520 non-null   object \n",
      " 52  subreddit_subscribers          1520 non-null   int64  \n",
      " 53  subreddit_type                 1520 non-null   object \n",
      " 54  thumbnail                      1520 non-null   object \n",
      " 55  title                          1520 non-null   object \n",
      " 56  total_awards_received          1520 non-null   int64  \n",
      " 57  treatment_tags                 1520 non-null   object \n",
      " 58  upvote_ratio                   1520 non-null   float64\n",
      " 59  url                            1520 non-null   object \n",
      " 60  whitelist_status               1520 non-null   object \n",
      " 61  wls                            1520 non-null   int64  \n",
      " 62  media_metadata                 21 non-null     object \n",
      " 63  thumbnail_height               21 non-null     float64\n",
      " 64  thumbnail_width                21 non-null     float64\n",
      " 65  author_flair_template_id       69 non-null     object \n",
      " 66  author_flair_text_color        84 non-null     object \n",
      " 67  poll_data                      27 non-null     object \n",
      " 68  post_hint                      79 non-null     object \n",
      " 69  preview                        79 non-null     object \n",
      " 70  author_flair_background_color  40 non-null     object \n",
      " 71  author_cakeday                 2 non-null      object \n",
      " 72  edited                         8 non-null      float64\n",
      " 73  removed_by_category            2 non-null      object \n",
      "dtypes: bool(18), float64(4), int64(10), object(42)\n",
      "memory usage: 691.8+ KB\n"
     ]
    }
   ],
   "source": [
    "psvr.info()"
   ]
  },
  {
   "cell_type": "code",
   "execution_count": 7,
   "id": "5277e80b-9208-46d7-9d2a-d2f931e07e7e",
   "metadata": {},
   "outputs": [],
   "source": [
    "# Dropping unnamed columns\n",
    "oculus.drop(columns = 'Unnamed: 0', inplace = True)\n",
    "psvr.drop(columns = 'Unnamed: 0', inplace = True)"
   ]
  },
  {
   "cell_type": "code",
   "execution_count": 8,
   "id": "d314e02b-4cd6-4b8e-808d-8cd47f786f21",
   "metadata": {},
   "outputs": [
    {
     "name": "stdout",
     "output_type": "stream",
     "text": [
      "False    1556\n",
      "Name: id, dtype: int64\n",
      "False    1520\n",
      "Name: id, dtype: int64\n"
     ]
    }
   ],
   "source": [
    "# Checking unique id count \n",
    "print(oculus['id'].duplicated(keep = False).value_counts())\n",
    "print(psvr['id'].duplicated(keep = False).value_counts())"
   ]
  },
  {
   "cell_type": "code",
   "execution_count": 9,
   "id": "ad84fb18-6d8e-4f32-a9f4-557420434017",
   "metadata": {},
   "outputs": [],
   "source": [
    "# Setting id to index \n",
    "oculus.set_index(oculus['id'], inplace = True, drop = True)\n",
    "psvr.set_index(psvr['id'], inplace = True, drop = True)"
   ]
  },
  {
   "cell_type": "code",
   "execution_count": 10,
   "id": "a6e2cff0-f79a-4ba2-b392-8969321aac39",
   "metadata": {},
   "outputs": [
    {
     "name": "stdout",
     "output_type": "stream",
     "text": [
      "(1556, 74)\n",
      "(1520, 73)\n"
     ]
    }
   ],
   "source": [
    "# Checking Shape\n",
    "print(oculus.shape)\n",
    "print(psvr.shape)"
   ]
  },
  {
   "cell_type": "code",
   "execution_count": 11,
   "id": "30cf594d-1bb3-4abc-814b-d5da8d010e3f",
   "metadata": {},
   "outputs": [
    {
     "name": "stdout",
     "output_type": "stream",
     "text": [
      "{'removed_by_category'}\n",
      "{'link_flair_css_class', 'suggested_sort'}\n"
     ]
    }
   ],
   "source": [
    "# Checking to see the discrepancy in columns\n",
    "print(set(psvr.columns) - set(oculus.columns))\n",
    "print(set(oculus.columns) - set(psvr.columns))"
   ]
  },
  {
   "cell_type": "code",
   "execution_count": 12,
   "id": "9f100327-3110-4f73-aaff-563988c484e9",
   "metadata": {},
   "outputs": [],
   "source": [
    "# Selecting columns for dataframes\n",
    "oculus = oculus[['created_utc','num_comments','selftext','subreddit']]\n",
    "psvr = psvr[['created_utc','num_comments','selftext','subreddit']]"
   ]
  },
  {
   "cell_type": "code",
   "execution_count": 13,
   "id": "1b32133a-03c4-4b3a-a284-c66b5775d6c6",
   "metadata": {},
   "outputs": [
    {
     "data": {
      "text/plain": [
       "created_utc     0\n",
       "num_comments    0\n",
       "selftext        0\n",
       "subreddit       0\n",
       "dtype: int64"
      ]
     },
     "execution_count": 13,
     "metadata": {},
     "output_type": "execute_result"
    }
   ],
   "source": [
    "# Checking for null values\n",
    "oculus.isnull().sum()"
   ]
  },
  {
   "cell_type": "code",
   "execution_count": 14,
   "id": "c829cb06-dd90-4be1-9066-69113e84f1c3",
   "metadata": {},
   "outputs": [
    {
     "data": {
      "text/plain": [
       "created_utc     0\n",
       "num_comments    0\n",
       "selftext        0\n",
       "subreddit       0\n",
       "dtype: int64"
      ]
     },
     "execution_count": 14,
     "metadata": {},
     "output_type": "execute_result"
    }
   ],
   "source": [
    "# Checking for null values\n",
    "psvr.isnull().sum()"
   ]
  },
  {
   "cell_type": "code",
   "execution_count": 15,
   "id": "6ffd3bb5-4bf5-4871-bec1-ab1b1ff04f6b",
   "metadata": {},
   "outputs": [
    {
     "data": {
      "text/plain": [
       "False    1553\n",
       "True        3\n",
       "Name: selftext, dtype: int64"
      ]
     },
     "execution_count": 15,
     "metadata": {},
     "output_type": "execute_result"
    }
   ],
   "source": [
    "# Checking for duplicates\n",
    "oculus['selftext'].duplicated().value_counts()"
   ]
  },
  {
   "cell_type": "code",
   "execution_count": 16,
   "id": "7bab692e-70fe-4311-8549-fe99a78a9fb5",
   "metadata": {},
   "outputs": [
    {
     "data": {
      "text/html": [
       "<div>\n",
       "<style scoped>\n",
       "    .dataframe tbody tr th:only-of-type {\n",
       "        vertical-align: middle;\n",
       "    }\n",
       "\n",
       "    .dataframe tbody tr th {\n",
       "        vertical-align: top;\n",
       "    }\n",
       "\n",
       "    .dataframe thead th {\n",
       "        text-align: right;\n",
       "    }\n",
       "</style>\n",
       "<table border=\"1\" class=\"dataframe\">\n",
       "  <thead>\n",
       "    <tr style=\"text-align: right;\">\n",
       "      <th></th>\n",
       "      <th>created_utc</th>\n",
       "      <th>num_comments</th>\n",
       "      <th>selftext</th>\n",
       "      <th>subreddit</th>\n",
       "    </tr>\n",
       "    <tr>\n",
       "      <th>id</th>\n",
       "      <th></th>\n",
       "      <th></th>\n",
       "      <th></th>\n",
       "      <th></th>\n",
       "    </tr>\n",
       "  </thead>\n",
       "  <tbody>\n",
       "    <tr>\n",
       "      <th>p7kzj3</th>\n",
       "      <td>1629398886</td>\n",
       "      <td>4</td>\n",
       "      <td>Been coming to some issues with smooth locomot...</td>\n",
       "      <td>oculus</td>\n",
       "    </tr>\n",
       "    <tr>\n",
       "      <th>p7afiu</th>\n",
       "      <td>1629359733</td>\n",
       "      <td>0</td>\n",
       "      <td>Been coming to some issues with smooth locomot...</td>\n",
       "      <td>oculus</td>\n",
       "    </tr>\n",
       "    <tr>\n",
       "      <th>otdeyz</th>\n",
       "      <td>1627489655</td>\n",
       "      <td>0</td>\n",
       "      <td>guys, please help me.I can't go into the Oculu...</td>\n",
       "      <td>oculus</td>\n",
       "    </tr>\n",
       "  </tbody>\n",
       "</table>\n",
       "</div>"
      ],
      "text/plain": [
       "        created_utc  num_comments  \\\n",
       "id                                  \n",
       "p7kzj3   1629398886             4   \n",
       "p7afiu   1629359733             0   \n",
       "otdeyz   1627489655             0   \n",
       "\n",
       "                                                 selftext subreddit  \n",
       "id                                                                   \n",
       "p7kzj3  Been coming to some issues with smooth locomot...    oculus  \n",
       "p7afiu  Been coming to some issues with smooth locomot...    oculus  \n",
       "otdeyz  guys, please help me.I can't go into the Oculu...    oculus  "
      ]
     },
     "execution_count": 16,
     "metadata": {},
     "output_type": "execute_result"
    }
   ],
   "source": [
    "# Checking to see if dropping makes most sense\n",
    "oculus[oculus['selftext'].duplicated(keep = False)][:3]"
   ]
  },
  {
   "cell_type": "code",
   "execution_count": 17,
   "id": "d7ae174a-7fd1-4d02-9117-8495ddf7ccfb",
   "metadata": {},
   "outputs": [],
   "source": [
    "# Will drop these rows since it's a small amount of the overall sample\n",
    "oculus.drop_duplicates(subset = 'selftext', inplace = True)"
   ]
  },
  {
   "cell_type": "code",
   "execution_count": 18,
   "id": "b6a82374-2104-43c9-92da-47d7798ff0ea",
   "metadata": {},
   "outputs": [
    {
     "data": {
      "text/plain": [
       "False    1510\n",
       "True       10\n",
       "Name: selftext, dtype: int64"
      ]
     },
     "execution_count": 18,
     "metadata": {},
     "output_type": "execute_result"
    }
   ],
   "source": [
    "# Checking to see if dropping makes most sense\n",
    "psvr['selftext'].duplicated().value_counts()"
   ]
  },
  {
   "cell_type": "code",
   "execution_count": 19,
   "id": "5b138ff0-c07b-4695-82d7-f2ba78af2b79",
   "metadata": {
    "scrolled": true,
    "tags": []
   },
   "outputs": [
    {
     "data": {
      "text/html": [
       "<div>\n",
       "<style scoped>\n",
       "    .dataframe tbody tr th:only-of-type {\n",
       "        vertical-align: middle;\n",
       "    }\n",
       "\n",
       "    .dataframe tbody tr th {\n",
       "        vertical-align: top;\n",
       "    }\n",
       "\n",
       "    .dataframe thead th {\n",
       "        text-align: right;\n",
       "    }\n",
       "</style>\n",
       "<table border=\"1\" class=\"dataframe\">\n",
       "  <thead>\n",
       "    <tr style=\"text-align: right;\">\n",
       "      <th></th>\n",
       "      <th>created_utc</th>\n",
       "      <th>num_comments</th>\n",
       "      <th>selftext</th>\n",
       "      <th>subreddit</th>\n",
       "    </tr>\n",
       "    <tr>\n",
       "      <th>id</th>\n",
       "      <th></th>\n",
       "      <th></th>\n",
       "      <th></th>\n",
       "      <th></th>\n",
       "    </tr>\n",
       "  </thead>\n",
       "  <tbody>\n",
       "    <tr>\n",
       "      <th>pm28t2</th>\n",
       "      <td>1631341892</td>\n",
       "      <td>8</td>\n",
       "      <td>Hi all. Long story short... I've been an Oculu...</td>\n",
       "      <td>PSVR</td>\n",
       "    </tr>\n",
       "    <tr>\n",
       "      <th>pm27vp</th>\n",
       "      <td>1631341776</td>\n",
       "      <td>25</td>\n",
       "      <td>Hi all. Long story short... I've been an Oculu...</td>\n",
       "      <td>PSVR</td>\n",
       "    </tr>\n",
       "    <tr>\n",
       "      <th>pm27h3</th>\n",
       "      <td>1631341745</td>\n",
       "      <td>1</td>\n",
       "      <td>Hi all. Long story short... I've been an Oculu...</td>\n",
       "      <td>PSVR</td>\n",
       "    </tr>\n",
       "    <tr>\n",
       "      <th>pm271h</th>\n",
       "      <td>1631341709</td>\n",
       "      <td>6</td>\n",
       "      <td>Hi all. Long story short... I've been an Oculu...</td>\n",
       "      <td>PSVR</td>\n",
       "    </tr>\n",
       "    <tr>\n",
       "      <th>pm26xb</th>\n",
       "      <td>1631341697</td>\n",
       "      <td>0</td>\n",
       "      <td>Hi all. Long story short... I've been an Oculu...</td>\n",
       "      <td>PSVR</td>\n",
       "    </tr>\n",
       "    <tr>\n",
       "      <th>p5v1iu</th>\n",
       "      <td>1629167939</td>\n",
       "      <td>19</td>\n",
       "      <td>[https://www.resetera.com/threads/resident-evi...</td>\n",
       "      <td>PSVR</td>\n",
       "    </tr>\n",
       "    <tr>\n",
       "      <th>p5us4a</th>\n",
       "      <td>1629166971</td>\n",
       "      <td>1</td>\n",
       "      <td>[https://www.resetera.com/threads/resident-evi...</td>\n",
       "      <td>PSVR</td>\n",
       "    </tr>\n",
       "    <tr>\n",
       "      <th>p3wne7</th>\n",
       "      <td>1628896779</td>\n",
       "      <td>3</td>\n",
       "      <td>I have PSVR v2 (CUH-ZVR2). My question is this...</td>\n",
       "      <td>PSVR</td>\n",
       "    </tr>\n",
       "    <tr>\n",
       "      <th>p3wmfp</th>\n",
       "      <td>1628896689</td>\n",
       "      <td>0</td>\n",
       "      <td>I have PSVR v2 (CUH-ZVR2). My question is this...</td>\n",
       "      <td>PSVR</td>\n",
       "    </tr>\n",
       "    <tr>\n",
       "      <th>osqbn8</th>\n",
       "      <td>1627403720</td>\n",
       "      <td>21</td>\n",
       "      <td>Thanks</td>\n",
       "      <td>PSVR</td>\n",
       "    </tr>\n",
       "  </tbody>\n",
       "</table>\n",
       "</div>"
      ],
      "text/plain": [
       "        created_utc  num_comments  \\\n",
       "id                                  \n",
       "pm28t2   1631341892             8   \n",
       "pm27vp   1631341776            25   \n",
       "pm27h3   1631341745             1   \n",
       "pm271h   1631341709             6   \n",
       "pm26xb   1631341697             0   \n",
       "p5v1iu   1629167939            19   \n",
       "p5us4a   1629166971             1   \n",
       "p3wne7   1628896779             3   \n",
       "p3wmfp   1628896689             0   \n",
       "osqbn8   1627403720            21   \n",
       "\n",
       "                                                 selftext subreddit  \n",
       "id                                                                   \n",
       "pm28t2  Hi all. Long story short... I've been an Oculu...      PSVR  \n",
       "pm27vp  Hi all. Long story short... I've been an Oculu...      PSVR  \n",
       "pm27h3  Hi all. Long story short... I've been an Oculu...      PSVR  \n",
       "pm271h  Hi all. Long story short... I've been an Oculu...      PSVR  \n",
       "pm26xb  Hi all. Long story short... I've been an Oculu...      PSVR  \n",
       "p5v1iu  [https://www.resetera.com/threads/resident-evi...      PSVR  \n",
       "p5us4a  [https://www.resetera.com/threads/resident-evi...      PSVR  \n",
       "p3wne7  I have PSVR v2 (CUH-ZVR2). My question is this...      PSVR  \n",
       "p3wmfp  I have PSVR v2 (CUH-ZVR2). My question is this...      PSVR  \n",
       "osqbn8                                             Thanks      PSVR  "
      ]
     },
     "execution_count": 19,
     "metadata": {},
     "output_type": "execute_result"
    }
   ],
   "source": [
    "# Checking to see if dropping makes most sense\n",
    "psvr[psvr['selftext'].duplicated(keep = False)][:10]"
   ]
  },
  {
   "cell_type": "code",
   "execution_count": 20,
   "id": "4749b482-112c-446b-ba7f-df6f10d7f7c1",
   "metadata": {},
   "outputs": [],
   "source": [
    "# Will drop these rows since it's a small amount of the overall sample\n",
    "psvr.drop_duplicates(subset = 'selftext', inplace = True)"
   ]
  },
  {
   "cell_type": "code",
   "execution_count": 21,
   "id": "fc300ff1-000f-4ca9-891b-bf3006b70fd5",
   "metadata": {},
   "outputs": [
    {
     "name": "stdout",
     "output_type": "stream",
     "text": [
      "(1553, 4)\n",
      "(1510, 4)\n"
     ]
    }
   ],
   "source": [
    "# Checking Shape\n",
    "print(oculus.shape)\n",
    "print(psvr.shape)"
   ]
  },
  {
   "cell_type": "code",
   "execution_count": 22,
   "id": "328c1525-434f-4b33-ad0c-f7ab9c32b038",
   "metadata": {},
   "outputs": [
    {
     "data": {
      "text/plain": [
       "Index(['nmj2pw', 'nmj2p5', 'nmiukl', 'nmitm9', 'nmi21i', 'nmht6o', 'nmhsx1',\n",
       "       'nmhrb4', 'nmhg8i', 'nmhe9d', 'nmhbx1', 'nmggox', 'nmga5z', 'nmfqdp',\n",
       "       'nmflk0', 'nmfjmc', 'nmfivs', 'nmf3kn', 'nmeqfj', 'nmepuy', 'nmej7u',\n",
       "       'nme6qm', 'nme4h4', 'nmdww7', 'nmdsqf', 'nmdojs', 'nmdd32', 'nmdbnq',\n",
       "       'nmcm9i', 'nmci8k', 'nmamoh', 'nm9byc', 'nm88b1', 'nm83jh', 'nm7k7d',\n",
       "       'nm73xm', 'nm734b', 'nm6opo', 'nm69e3', 'nm5mgi', 'nm58ll', 'nm4mdo',\n",
       "       'nm4la2'],\n",
       "      dtype='object', name='id')"
      ]
     },
     "execution_count": 22,
     "metadata": {},
     "output_type": "execute_result"
    }
   ],
   "source": [
    "oculus.index[1510:]"
   ]
  },
  {
   "cell_type": "code",
   "execution_count": 23,
   "id": "3aeb3fc7-c9f8-40cd-b355-ee560f684e0b",
   "metadata": {},
   "outputs": [],
   "source": [
    "# Dropping rows from oculus to match psvr count\n",
    "oculus.drop(index = ['nmj2pw', 'nmj2p5', 'nmiukl', 'nmitm9', 'nmi21i', 'nmht6o', 'nmhsx1',\n",
    "       'nmhrb4', 'nmhg8i', 'nmhe9d', 'nmhbx1', 'nmggox', 'nmga5z', 'nmfqdp',\n",
    "       'nmflk0', 'nmfjmc', 'nmfivs', 'nmf3kn', 'nmeqfj', 'nmepuy', 'nmej7u',\n",
    "       'nme6qm', 'nme4h4', 'nmdww7', 'nmdsqf', 'nmdojs', 'nmdd32', 'nmdbnq',\n",
    "       'nmcm9i', 'nmci8k', 'nmamoh', 'nm9byc', 'nm88b1', 'nm83jh', 'nm7k7d',\n",
    "       'nm73xm', 'nm734b', 'nm6opo', 'nm69e3', 'nm5mgi', 'nm58ll', 'nm4mdo',\n",
    "       'nm4la2'] , inplace = True) # Oldest Posts"
   ]
  },
  {
   "cell_type": "code",
   "execution_count": 24,
   "id": "72a15138-700a-43fb-8c72-61ecc4d3143d",
   "metadata": {},
   "outputs": [
    {
     "name": "stdout",
     "output_type": "stream",
     "text": [
      "(1510, 4)\n",
      "(1510, 4)\n"
     ]
    }
   ],
   "source": [
    "# Checking Shape Match\n",
    "print(oculus.shape)\n",
    "print(psvr.shape)"
   ]
  },
  {
   "cell_type": "code",
   "execution_count": 25,
   "id": "e79b5cb2-e431-40bd-9476-4565615c4929",
   "metadata": {},
   "outputs": [],
   "source": [
    "# Concatenating dataframes\n",
    "df = pd.concat([oculus,psvr])"
   ]
  },
  {
   "cell_type": "code",
   "execution_count": 26,
   "id": "ab560448-5577-4c96-8894-bc8729a10e4d",
   "metadata": {},
   "outputs": [
    {
     "data": {
      "text/plain": [
       "3020"
      ]
     },
     "execution_count": 26,
     "metadata": {},
     "output_type": "execute_result"
    }
   ],
   "source": [
    "# Checking unique index count\n",
    "df.index.value_counts().count()"
   ]
  },
  {
   "cell_type": "code",
   "execution_count": 27,
   "id": "d63b440b-8b19-4512-b567-3d54bf2e5824",
   "metadata": {},
   "outputs": [
    {
     "data": {
      "text/plain": [
       "(3020, 4)"
      ]
     },
     "execution_count": 27,
     "metadata": {},
     "output_type": "execute_result"
    }
   ],
   "source": [
    "# Checking shape\n",
    "df.shape"
   ]
  },
  {
   "cell_type": "code",
   "execution_count": 28,
   "id": "7923b005-3671-4173-8b24-1894da5d80a3",
   "metadata": {},
   "outputs": [],
   "source": [
    "# Setting Oculus to value 1 and PSVR to value 0\n",
    "df['subreddit'] = df['subreddit'].map({'oculus':1, 'PSVR':0})"
   ]
  },
  {
   "cell_type": "code",
   "execution_count": 29,
   "id": "f984e100-c55a-4432-8d10-58a5e7732bb2",
   "metadata": {},
   "outputs": [
    {
     "data": {
      "text/plain": [
       "0    1510\n",
       "1    1510\n",
       "Name: subreddit, dtype: int64"
      ]
     },
     "execution_count": 29,
     "metadata": {},
     "output_type": "execute_result"
    }
   ],
   "source": [
    "# Checking subreddit value counts\n",
    "df['subreddit'].value_counts()"
   ]
  },
  {
   "cell_type": "code",
   "execution_count": 30,
   "id": "7054a62a-4685-4eaa-ba97-6fc6e2ecc0a0",
   "metadata": {},
   "outputs": [
    {
     "data": {
      "text/html": [
       "<div>\n",
       "<style scoped>\n",
       "    .dataframe tbody tr th:only-of-type {\n",
       "        vertical-align: middle;\n",
       "    }\n",
       "\n",
       "    .dataframe tbody tr th {\n",
       "        vertical-align: top;\n",
       "    }\n",
       "\n",
       "    .dataframe thead th {\n",
       "        text-align: right;\n",
       "    }\n",
       "</style>\n",
       "<table border=\"1\" class=\"dataframe\">\n",
       "  <thead>\n",
       "    <tr style=\"text-align: right;\">\n",
       "      <th></th>\n",
       "      <th>created_utc</th>\n",
       "      <th>num_comments</th>\n",
       "      <th>selftext</th>\n",
       "      <th>subreddit</th>\n",
       "    </tr>\n",
       "    <tr>\n",
       "      <th>id</th>\n",
       "      <th></th>\n",
       "      <th></th>\n",
       "      <th></th>\n",
       "      <th></th>\n",
       "    </tr>\n",
       "  </thead>\n",
       "  <tbody>\n",
       "  </tbody>\n",
       "</table>\n",
       "</div>"
      ],
      "text/plain": [
       "Empty DataFrame\n",
       "Columns: [created_utc, num_comments, selftext, subreddit]\n",
       "Index: []"
      ]
     },
     "execution_count": 30,
     "metadata": {},
     "output_type": "execute_result"
    }
   ],
   "source": [
    "# Checking Duplicate selftext values\n",
    "df[df['selftext'].duplicated(keep = False)]"
   ]
  },
  {
   "cell_type": "code",
   "execution_count": 31,
   "id": "15cd2881-cc65-4340-9c97-4bfaf4040146",
   "metadata": {},
   "outputs": [
    {
     "name": "stdout",
     "output_type": "stream",
     "text": [
      "['10/03/2021', '10/03/2021', '10/03/2021', '10/03/2021', '10/03/2021']\n",
      "['17', '17', '16', '16', '16']\n"
     ]
    }
   ],
   "source": [
    "# Creating date and time lists - Adapted from https://stackoverflow.com/questions/3682748/converting-unix-timestamp-string-to-readable-date\n",
    "date = []\n",
    "time = []\n",
    "for index,value in enumerate(df['created_utc']):\n",
    "    date.append(dt.datetime.fromtimestamp(value).strftime('%m/%d/%Y'))\n",
    "    time.append(dt.datetime.fromtimestamp(value).strftime('%H'))\n",
    "    \n",
    "print(date[:5])\n",
    "print(time[:5])"
   ]
  },
  {
   "cell_type": "code",
   "execution_count": 32,
   "id": "2f1e2d1a-c881-4a92-b056-d998d97af927",
   "metadata": {},
   "outputs": [],
   "source": [
    "# Creating date and time columns\n",
    "df['date'] = date\n",
    "df['time'] = time"
   ]
  },
  {
   "cell_type": "code",
   "execution_count": 33,
   "id": "6ed88b8e-a61d-48a5-a89a-f3e58065894c",
   "metadata": {},
   "outputs": [],
   "source": [
    "# Converting date to datetime dtype\n",
    "df['date'] = pd.to_datetime(df['date'])"
   ]
  },
  {
   "cell_type": "code",
   "execution_count": 34,
   "id": "f3187d08-a98c-477a-b789-dae56383b64d",
   "metadata": {},
   "outputs": [],
   "source": [
    "# Converting time to int dtype\n",
    "df['time'] = df['time'].astype('int64')"
   ]
  },
  {
   "cell_type": "code",
   "execution_count": 35,
   "id": "7ace2e67-a7d4-497d-9ace-cb8fa91c797f",
   "metadata": {},
   "outputs": [],
   "source": [
    "# Creating new column for selftext character length\n",
    "df['char_length'] = df['selftext'].map(lambda char : len(char))"
   ]
  },
  {
   "cell_type": "code",
   "execution_count": 36,
   "id": "a2af1b1f-f5d7-442c-9f9b-ec417a2e0596",
   "metadata": {},
   "outputs": [],
   "source": [
    "# Creating new column for selftext word length\n",
    "df['word_count'] = df['selftext'].str.split().map(len)"
   ]
  },
  {
   "cell_type": "markdown",
   "id": "de8d7a0f-0e57-4db4-a585-bcb12c6eeda2",
   "metadata": {},
   "source": [
    "## EDA "
   ]
  },
  {
   "cell_type": "code",
   "execution_count": 37,
   "id": "ee7701ac-4cf2-4901-8deb-a7e935aae0b2",
   "metadata": {},
   "outputs": [
    {
     "data": {
      "text/html": [
       "<div>\n",
       "<style scoped>\n",
       "    .dataframe tbody tr th:only-of-type {\n",
       "        vertical-align: middle;\n",
       "    }\n",
       "\n",
       "    .dataframe tbody tr th {\n",
       "        vertical-align: top;\n",
       "    }\n",
       "\n",
       "    .dataframe thead th {\n",
       "        text-align: right;\n",
       "    }\n",
       "</style>\n",
       "<table border=\"1\" class=\"dataframe\">\n",
       "  <thead>\n",
       "    <tr style=\"text-align: right;\">\n",
       "      <th></th>\n",
       "      <th>selftext</th>\n",
       "      <th>word_count</th>\n",
       "      <th>subreddit</th>\n",
       "    </tr>\n",
       "    <tr>\n",
       "      <th>id</th>\n",
       "      <th></th>\n",
       "      <th></th>\n",
       "      <th></th>\n",
       "    </tr>\n",
       "  </thead>\n",
       "  <tbody>\n",
       "    <tr>\n",
       "      <th>nry7cl</th>\n",
       "      <td>Title.</td>\n",
       "      <td>1</td>\n",
       "      <td>0</td>\n",
       "    </tr>\n",
       "    <tr>\n",
       "      <th>nmc7dd</th>\n",
       "      <td>https://www.youtube.com/watch?v=pialIw0qgXU</td>\n",
       "      <td>1</td>\n",
       "      <td>0</td>\n",
       "    </tr>\n",
       "    <tr>\n",
       "      <th>osqbn8</th>\n",
       "      <td>Thanks</td>\n",
       "      <td>1</td>\n",
       "      <td>0</td>\n",
       "    </tr>\n",
       "    <tr>\n",
       "      <th>ob8sm9</th>\n",
       "      <td>https://youtu.be/9MQXSqzIaj4</td>\n",
       "      <td>1</td>\n",
       "      <td>1</td>\n",
       "    </tr>\n",
       "    <tr>\n",
       "      <th>pi9f7v</th>\n",
       "      <td>https://store.steampowered.com/app/1478670/Sma...</td>\n",
       "      <td>1</td>\n",
       "      <td>1</td>\n",
       "    </tr>\n",
       "    <tr>\n",
       "      <th>p5v1iu</th>\n",
       "      <td>[https://www.resetera.com/threads/resident-evi...</td>\n",
       "      <td>1</td>\n",
       "      <td>0</td>\n",
       "    </tr>\n",
       "    <tr>\n",
       "      <th>p00s4k</th>\n",
       "      <td>https://www.usaoculus.shop/products-24</td>\n",
       "      <td>1</td>\n",
       "      <td>1</td>\n",
       "    </tr>\n",
       "    <tr>\n",
       "      <th>o7r4z7</th>\n",
       "      <td>**https://store.steampowered.com/app/1258980/S...</td>\n",
       "      <td>1</td>\n",
       "      <td>1</td>\n",
       "    </tr>\n",
       "    <tr>\n",
       "      <th>nu10px</th>\n",
       "      <td>When</td>\n",
       "      <td>1</td>\n",
       "      <td>0</td>\n",
       "    </tr>\n",
       "    <tr>\n",
       "      <th>o1mrx8</th>\n",
       "      <td>Thx!!!</td>\n",
       "      <td>1</td>\n",
       "      <td>0</td>\n",
       "    </tr>\n",
       "  </tbody>\n",
       "</table>\n",
       "</div>"
      ],
      "text/plain": [
       "                                                 selftext  word_count  \\\n",
       "id                                                                      \n",
       "nry7cl                                             Title.           1   \n",
       "nmc7dd        https://www.youtube.com/watch?v=pialIw0qgXU           1   \n",
       "osqbn8                                             Thanks           1   \n",
       "ob8sm9                       https://youtu.be/9MQXSqzIaj4           1   \n",
       "pi9f7v  https://store.steampowered.com/app/1478670/Sma...           1   \n",
       "p5v1iu  [https://www.resetera.com/threads/resident-evi...           1   \n",
       "p00s4k             https://www.usaoculus.shop/products-24           1   \n",
       "o7r4z7  **https://store.steampowered.com/app/1258980/S...           1   \n",
       "nu10px                                               When           1   \n",
       "o1mrx8                                             Thx!!!           1   \n",
       "\n",
       "        subreddit  \n",
       "id                 \n",
       "nry7cl          0  \n",
       "nmc7dd          0  \n",
       "osqbn8          0  \n",
       "ob8sm9          1  \n",
       "pi9f7v          1  \n",
       "p5v1iu          0  \n",
       "p00s4k          1  \n",
       "o7r4z7          1  \n",
       "nu10px          0  \n",
       "o1mrx8          0  "
      ]
     },
     "execution_count": 37,
     "metadata": {},
     "output_type": "execute_result"
    }
   ],
   "source": [
    "# 10 shortest posts by word count\n",
    "df[['selftext','word_count','subreddit']].sort_values(by = 'word_count',ascending = True)[:10]"
   ]
  },
  {
   "cell_type": "markdown",
   "id": "29f051e1-7fb3-414c-9ca0-e192804bd7ac",
   "metadata": {},
   "source": [
    "These appear to either be incomplete or urls. "
   ]
  },
  {
   "cell_type": "code",
   "execution_count": 38,
   "id": "4ce59441-2c12-4c55-8697-0e0a571442a9",
   "metadata": {},
   "outputs": [
    {
     "data": {
      "text/html": [
       "<div>\n",
       "<style scoped>\n",
       "    .dataframe tbody tr th:only-of-type {\n",
       "        vertical-align: middle;\n",
       "    }\n",
       "\n",
       "    .dataframe tbody tr th {\n",
       "        vertical-align: top;\n",
       "    }\n",
       "\n",
       "    .dataframe thead th {\n",
       "        text-align: right;\n",
       "    }\n",
       "</style>\n",
       "<table border=\"1\" class=\"dataframe\">\n",
       "  <thead>\n",
       "    <tr style=\"text-align: right;\">\n",
       "      <th></th>\n",
       "      <th>selftext</th>\n",
       "      <th>word_count</th>\n",
       "      <th>char_length</th>\n",
       "      <th>subreddit</th>\n",
       "    </tr>\n",
       "    <tr>\n",
       "      <th>id</th>\n",
       "      <th></th>\n",
       "      <th></th>\n",
       "      <th></th>\n",
       "      <th></th>\n",
       "    </tr>\n",
       "  </thead>\n",
       "  <tbody>\n",
       "    <tr>\n",
       "      <th>nxjcw3</th>\n",
       "      <td>So I recently hit this milestone of the 100th ...</td>\n",
       "      <td>4271</td>\n",
       "      <td>25438</td>\n",
       "      <td>0</td>\n",
       "    </tr>\n",
       "    <tr>\n",
       "      <th>oi1gbg</th>\n",
       "      <td>\\n\\nYesterday I got worlds 1st Platinum in [...</td>\n",
       "      <td>3496</td>\n",
       "      <td>19543</td>\n",
       "      <td>0</td>\n",
       "    </tr>\n",
       "    <tr>\n",
       "      <th>p1k2e8</th>\n",
       "      <td>**tl;dr**\\n\\nIf you have any interest in musi...</td>\n",
       "      <td>1769</td>\n",
       "      <td>10084</td>\n",
       "      <td>0</td>\n",
       "    </tr>\n",
       "    <tr>\n",
       "      <th>nrvjqc</th>\n",
       "      <td>As a longtime PSVR fan that has been with PSVR...</td>\n",
       "      <td>1255</td>\n",
       "      <td>7043</td>\n",
       "      <td>0</td>\n",
       "    </tr>\n",
       "    <tr>\n",
       "      <th>o6lkfp</th>\n",
       "      <td>Hey friends.  I'm no grand wizard on this stuf...</td>\n",
       "      <td>1125</td>\n",
       "      <td>6290</td>\n",
       "      <td>0</td>\n",
       "    </tr>\n",
       "    <tr>\n",
       "      <th>nizitr</th>\n",
       "      <td>I've been playing Saints and Sinners for two d...</td>\n",
       "      <td>990</td>\n",
       "      <td>5086</td>\n",
       "      <td>0</td>\n",
       "    </tr>\n",
       "    <tr>\n",
       "      <th>ns1y1r</th>\n",
       "      <td>Looks like we have a really big sale for PSVR ...</td>\n",
       "      <td>980</td>\n",
       "      <td>14136</td>\n",
       "      <td>0</td>\n",
       "    </tr>\n",
       "    <tr>\n",
       "      <th>o9lhl6</th>\n",
       "      <td>Hello everyone, I wanted to create a post and ...</td>\n",
       "      <td>979</td>\n",
       "      <td>7467</td>\n",
       "      <td>0</td>\n",
       "    </tr>\n",
       "    <tr>\n",
       "      <th>p7gqwb</th>\n",
       "      <td>Hi everyone! \\n\\nThis is redrad, posting on be...</td>\n",
       "      <td>962</td>\n",
       "      <td>7172</td>\n",
       "      <td>0</td>\n",
       "    </tr>\n",
       "    <tr>\n",
       "      <th>nrzxpy</th>\n",
       "      <td>Looks like we have another HUGE sale for PSVR ...</td>\n",
       "      <td>901</td>\n",
       "      <td>12894</td>\n",
       "      <td>0</td>\n",
       "    </tr>\n",
       "  </tbody>\n",
       "</table>\n",
       "</div>"
      ],
      "text/plain": [
       "                                                 selftext  word_count  \\\n",
       "id                                                                      \n",
       "nxjcw3  So I recently hit this milestone of the 100th ...        4271   \n",
       "oi1gbg    \\n\\nYesterday I got worlds 1st Platinum in [...        3496   \n",
       "p1k2e8   **tl;dr**\\n\\nIf you have any interest in musi...        1769   \n",
       "nrvjqc  As a longtime PSVR fan that has been with PSVR...        1255   \n",
       "o6lkfp  Hey friends.  I'm no grand wizard on this stuf...        1125   \n",
       "nizitr  I've been playing Saints and Sinners for two d...         990   \n",
       "ns1y1r  Looks like we have a really big sale for PSVR ...         980   \n",
       "o9lhl6  Hello everyone, I wanted to create a post and ...         979   \n",
       "p7gqwb  Hi everyone! \\n\\nThis is redrad, posting on be...         962   \n",
       "nrzxpy  Looks like we have another HUGE sale for PSVR ...         901   \n",
       "\n",
       "        char_length  subreddit  \n",
       "id                              \n",
       "nxjcw3        25438          0  \n",
       "oi1gbg        19543          0  \n",
       "p1k2e8        10084          0  \n",
       "nrvjqc         7043          0  \n",
       "o6lkfp         6290          0  \n",
       "nizitr         5086          0  \n",
       "ns1y1r        14136          0  \n",
       "o9lhl6         7467          0  \n",
       "p7gqwb         7172          0  \n",
       "nrzxpy        12894          0  "
      ]
     },
     "execution_count": 38,
     "metadata": {},
     "output_type": "execute_result"
    }
   ],
   "source": [
    "# 10 longest posts - Word Count\n",
    "df[['selftext','word_count','char_length','subreddit']].sort_values(by = 'word_count',ascending = False)[:10]"
   ]
  },
  {
   "cell_type": "markdown",
   "id": "fcab58b1-1853-41fd-937d-52c36e9728ad",
   "metadata": {},
   "source": [
    "All of these are from the psvr subreddit."
   ]
  },
  {
   "cell_type": "code",
   "execution_count": 39,
   "id": "54fb113f-707c-4826-a006-8d0e9bf0b467",
   "metadata": {},
   "outputs": [],
   "source": [
    "# Creating masks to plot\n",
    "oc_word_count = df.loc[(df['subreddit'] == 1),['word_count']]\n",
    "ps_word_count = df.loc[(df['subreddit'] == 0),['word_count']]\n",
    "oc_char_length = df.loc[(df['subreddit'] == 1),['char_length']]\n",
    "ps_char_length = df.loc[(df['subreddit'] == 0),['char_length']]"
   ]
  },
  {
   "cell_type": "code",
   "execution_count": 40,
   "id": "35812056-1abe-4265-b831-cbdce930c914",
   "metadata": {
    "tags": []
   },
   "outputs": [
    {
     "data": {
      "image/png": "[encoded data removed]",
      "text/plain": [
       "<Figure size 576x432 with 1 Axes>"
      ]
     },
     "metadata": {
      "needs_background": "light"
     },
     "output_type": "display_data"
    }
   ],
   "source": [
    "# Distribution of word count logged\n",
    "\n",
    "plt.figure(figsize = (8,6))\n",
    "\n",
    "\n",
    "plt.hist(x = oc_word_count, color=\"blue\", label=\"Oculus\", \n",
    "             log = True, alpha = 0.5, stacked = True)\n",
    "plt.hist(x = ps_word_count,color=\"red\", label=\"PSVR\", \n",
    "             log = True, alpha = 0.4, stacked = True)\n",
    "\n",
    "plt.title('Distribution of Word Count of Posts', size = 20, pad = 10)\n",
    "plt.ylabel(ylabel = 'Frequency (log)', size = 17, labelpad = 10)\n",
    "plt.xlabel(xlabel = 'Word Count', size = 17, labelpad = 10)\n",
    "plt.xticks(size = 17)\n",
    "plt.yticks(size = 17)\n",
    "plt.legend(); \n",
    "plt.savefig('./images/word_count.png');"
   ]
  },
  {
   "cell_type": "markdown",
   "id": "84dc3967-9d86-413f-bc60-43f76f608ffe",
   "metadata": {},
   "source": [
    "There's a higher freqency for shorter word counts and smaller frequency for word counts for both data sets. However, "
   ]
  },
  {
   "cell_type": "code",
   "execution_count": 41,
   "id": "51613b4c-e438-46fd-948a-0a26c96604ec",
   "metadata": {},
   "outputs": [
    {
     "data": {
      "image/png": "[encoded data removed]",
      "text/plain": [
       "<Figure size 576x432 with 1 Axes>"
      ]
     },
     "metadata": {
      "needs_background": "light"
     },
     "output_type": "display_data"
    }
   ],
   "source": [
    "# Distribution of character length logged \n",
    "\n",
    "plt.figure(figsize = (8,6))\n",
    "# ([df1['text'],df2['printed']],\n",
    "plt.hist(x = oc_char_length, color=\"blue\", label=\"Oculus\", \n",
    "             log = True, alpha = 0.5)\n",
    "plt.hist(x = ps_char_length,color=\"red\", label=\"PSVR\", \n",
    "             log = True, alpha = 0.4)\n",
    "\n",
    "plt.title('Distribution of Character Length of Posts', size = 20, pad = 10)\n",
    "plt.ylabel(ylabel = 'Frequency (log)', size = 17, labelpad = 10)\n",
    "plt.xlabel(xlabel = 'Character Length', size = 17, labelpad = 10)\n",
    "plt.xticks(size = 17)\n",
    "plt.yticks(size = 17)\n",
    "plt.legend(); \n",
    "\n",
    "plt.savefig('./images/char_len.png')"
   ]
  },
  {
   "cell_type": "markdown",
   "id": "8c6c83b8-f88a-470a-92a3-0cbb83d90406",
   "metadata": {},
   "source": [
    "There is a similiar distribution of character length of posts to word count, with a skew to the right. There are some outliers in PSVR that I will investigate in the next few steps."
   ]
  },
  {
   "cell_type": "code",
   "execution_count": 42,
   "id": "2d222637-9757-474b-9169-4a1c1a21d0d5",
   "metadata": {},
   "outputs": [
    {
     "data": {
      "image/png": "[encoded data removed]",
      "text/plain": [
       "<Figure size 576x360 with 1 Axes>"
      ]
     },
     "metadata": {
      "needs_background": "light"
     },
     "output_type": "display_data"
    }
   ],
   "source": [
    "# Boxplot of Character Length\n",
    "plt.figure(figsize = (8,5))\n",
    "sns.boxplot(x = df['char_length'], width = 0.5);"
   ]
  },
  {
   "cell_type": "code",
   "execution_count": 43,
   "id": "9a7fa031-424b-4a81-84b5-e7a5c15ad3b9",
   "metadata": {},
   "outputs": [
    {
     "data": {
      "text/plain": [
       "id\n",
       "nxjcw3    25438\n",
       "oi1gbg    19543\n",
       "ns1y1r    14136\n",
       "nrzxpy    12894\n",
       "p1k2e8    10084\n",
       "o9lhl6     7467\n",
       "oomyrm     7355\n",
       "p7gqwb     7172\n",
       "nrvjqc     7043\n",
       "pb6q1n     6764\n",
       "Name: char_length, dtype: int64"
      ]
     },
     "execution_count": 43,
     "metadata": {},
     "output_type": "execute_result"
    }
   ],
   "source": [
    "# Sorting values to get outlier indices \n",
    "df['char_length'].sort_values(ascending = False)[:10]"
   ]
  },
  {
   "cell_type": "markdown",
   "id": "e8059c3c-521b-4bf0-8ff0-b8281de0ba34",
   "metadata": {},
   "source": [
    "Looks like the first outlier is 10,084. Will look at rows in the next few steps."
   ]
  },
  {
   "cell_type": "code",
   "execution_count": 44,
   "id": "89811d3e-56b1-4e5e-9785-94560900c5fb",
   "metadata": {},
   "outputs": [
    {
     "data": {
      "image/png": "[encoded data removed]",
      "text/plain": [
       "<Figure size 576x360 with 1 Axes>"
      ]
     },
     "metadata": {
      "needs_background": "light"
     },
     "output_type": "display_data"
    }
   ],
   "source": [
    "# Boxplot of Word Count\n",
    "plt.figure(figsize = (8,5))\n",
    "sns.boxplot(x = df['word_count'], width = 0.5);"
   ]
  },
  {
   "cell_type": "code",
   "execution_count": 45,
   "id": "c4d01876-00e5-4a92-9409-134ffdbc51b6",
   "metadata": {},
   "outputs": [
    {
     "data": {
      "text/plain": [
       "id\n",
       "nxjcw3    4271\n",
       "oi1gbg    3496\n",
       "p1k2e8    1769\n",
       "nrvjqc    1255\n",
       "o6lkfp    1125\n",
       "nizitr     990\n",
       "Name: word_count, dtype: int64"
      ]
     },
     "execution_count": 45,
     "metadata": {},
     "output_type": "execute_result"
    }
   ],
   "source": [
    "# Sorting values to get outlier indices \n",
    "df['word_count'].sort_values(ascending = False)[:6]"
   ]
  },
  {
   "cell_type": "markdown",
   "id": "7d4148d2-da53-40d1-b8e9-01c01c1c96eb",
   "metadata": {},
   "source": [
    "Looks like the first outlier is starts after 1255."
   ]
  },
  {
   "cell_type": "code",
   "execution_count": 46,
   "id": "c780824c-cf3c-49d5-af9a-32cc2064962c",
   "metadata": {},
   "outputs": [
    {
     "data": {
      "text/html": [
       "<div>\n",
       "<style scoped>\n",
       "    .dataframe tbody tr th:only-of-type {\n",
       "        vertical-align: middle;\n",
       "    }\n",
       "\n",
       "    .dataframe tbody tr th {\n",
       "        vertical-align: top;\n",
       "    }\n",
       "\n",
       "    .dataframe thead th {\n",
       "        text-align: right;\n",
       "    }\n",
       "</style>\n",
       "<table border=\"1\" class=\"dataframe\">\n",
       "  <thead>\n",
       "    <tr style=\"text-align: right;\">\n",
       "      <th></th>\n",
       "      <th>created_utc</th>\n",
       "      <th>num_comments</th>\n",
       "      <th>selftext</th>\n",
       "      <th>subreddit</th>\n",
       "      <th>date</th>\n",
       "      <th>time</th>\n",
       "      <th>char_length</th>\n",
       "      <th>word_count</th>\n",
       "    </tr>\n",
       "    <tr>\n",
       "      <th>id</th>\n",
       "      <th></th>\n",
       "      <th></th>\n",
       "      <th></th>\n",
       "      <th></th>\n",
       "      <th></th>\n",
       "      <th></th>\n",
       "      <th></th>\n",
       "      <th></th>\n",
       "    </tr>\n",
       "  </thead>\n",
       "  <tbody>\n",
       "    <tr>\n",
       "      <th>p1k2e8</th>\n",
       "      <td>1628578862</td>\n",
       "      <td>14</td>\n",
       "      <td>**tl;dr**\\n\\nIf you have any interest in musi...</td>\n",
       "      <td>0</td>\n",
       "      <td>2021-08-10</td>\n",
       "      <td>0</td>\n",
       "      <td>10084</td>\n",
       "      <td>1769</td>\n",
       "    </tr>\n",
       "    <tr>\n",
       "      <th>oi1gbg</th>\n",
       "      <td>1625995984</td>\n",
       "      <td>57</td>\n",
       "      <td>\\n\\nYesterday I got worlds 1st Platinum in [...</td>\n",
       "      <td>0</td>\n",
       "      <td>2021-07-11</td>\n",
       "      <td>2</td>\n",
       "      <td>19543</td>\n",
       "      <td>3496</td>\n",
       "    </tr>\n",
       "    <tr>\n",
       "      <th>nxjcw3</th>\n",
       "      <td>1623427152</td>\n",
       "      <td>150</td>\n",
       "      <td>So I recently hit this milestone of the 100th ...</td>\n",
       "      <td>0</td>\n",
       "      <td>2021-06-11</td>\n",
       "      <td>8</td>\n",
       "      <td>25438</td>\n",
       "      <td>4271</td>\n",
       "    </tr>\n",
       "    <tr>\n",
       "      <th>ns1y1r</th>\n",
       "      <td>1622802665</td>\n",
       "      <td>99</td>\n",
       "      <td>Looks like we have a really big sale for PSVR ...</td>\n",
       "      <td>0</td>\n",
       "      <td>2021-06-04</td>\n",
       "      <td>3</td>\n",
       "      <td>14136</td>\n",
       "      <td>980</td>\n",
       "    </tr>\n",
       "    <tr>\n",
       "      <th>nrzxpy</th>\n",
       "      <td>1622794682</td>\n",
       "      <td>38</td>\n",
       "      <td>Looks like we have another HUGE sale for PSVR ...</td>\n",
       "      <td>0</td>\n",
       "      <td>2021-06-04</td>\n",
       "      <td>1</td>\n",
       "      <td>12894</td>\n",
       "      <td>901</td>\n",
       "    </tr>\n",
       "  </tbody>\n",
       "</table>\n",
       "</div>"
      ],
      "text/plain": [
       "        created_utc  num_comments  \\\n",
       "id                                  \n",
       "p1k2e8   1628578862            14   \n",
       "oi1gbg   1625995984            57   \n",
       "nxjcw3   1623427152           150   \n",
       "ns1y1r   1622802665            99   \n",
       "nrzxpy   1622794682            38   \n",
       "\n",
       "                                                 selftext  subreddit  \\\n",
       "id                                                                     \n",
       "p1k2e8   **tl;dr**\\n\\nIf you have any interest in musi...          0   \n",
       "oi1gbg    \\n\\nYesterday I got worlds 1st Platinum in [...          0   \n",
       "nxjcw3  So I recently hit this milestone of the 100th ...          0   \n",
       "ns1y1r  Looks like we have a really big sale for PSVR ...          0   \n",
       "nrzxpy  Looks like we have another HUGE sale for PSVR ...          0   \n",
       "\n",
       "             date  time  char_length  word_count  \n",
       "id                                                \n",
       "p1k2e8 2021-08-10     0        10084        1769  \n",
       "oi1gbg 2021-07-11     2        19543        3496  \n",
       "nxjcw3 2021-06-11     8        25438        4271  \n",
       "ns1y1r 2021-06-04     3        14136         980  \n",
       "nrzxpy 2021-06-04     1        12894         901  "
      ]
     },
     "execution_count": 46,
     "metadata": {},
     "output_type": "execute_result"
    }
   ],
   "source": [
    "# Filtering to see outlier values\n",
    "outliers = df.loc[(df['word_count'] > 1300) | (df['char_length'] > 10000)]\n",
    "outliers"
   ]
  },
  {
   "cell_type": "markdown",
   "id": "f31c0183-3991-4e66-81f9-311afed34792",
   "metadata": {},
   "source": [
    "All of these outliers are from the PSVR subreddit. I tested removing these and they negatively impacted my model's performance, so will leave them as is."
   ]
  },
  {
   "cell_type": "code",
   "execution_count": 47,
   "id": "e8776536-dc9f-4afd-a611-12ddc25ef994",
   "metadata": {},
   "outputs": [
    {
     "data": {
      "image/png": "[encoded data removed]",
      "text/plain": [
       "<Figure size 1080x504 with 1 Axes>"
      ]
     },
     "metadata": {
      "needs_background": "light"
     },
     "output_type": "display_data"
    }
   ],
   "source": [
    "# Distribution of Posts by Hour\n",
    "\n",
    "plt.figure(figsize = (15,7))\n",
    "plt.hist(x = df['time'], color=\"blue\", bins = 20, alpha = 0.4)\n",
    "plt.xticks(ticks = [0,1,2,3,4,5,6,7,8,9,10,11,12,13,14,15,16,17,18,19,20,21,22,23])\n",
    "plt.xlabel(xlabel = 'Hour', size = 15, labelpad = 10)\n",
    "plt.ylabel(ylabel = 'Frequency',size = 15, labelpad = 10)\n",
    "plt.title('Distribution of Posts by Hour', size = 15, pad = 10);\n",
    "\n",
    "plt.savefig('./images/dist_hr.png')"
   ]
  },
  {
   "cell_type": "markdown",
   "id": "99133c0c-7d76-4b15-8cf1-f7e57718dfb8",
   "metadata": {},
   "source": [
    "Top hours posted: <br>\n",
    "* 7-8 UTC: Which is 12 AM to 1AM Pacific, 3AM to 4AM Eastern\n",
    "* 15-16 UTC: Which is 8 AM to 9 AM Pacific, 11 AM to 12 PM Eastern"
   ]
  },
  {
   "cell_type": "code",
   "execution_count": 48,
   "id": "54c15834-6bbd-4b86-af57-be5847f32aad",
   "metadata": {},
   "outputs": [
    {
     "data": {
      "image/png": "[encoded data removed]",
      "text/plain": [
       "<Figure size 1080x504 with 1 Axes>"
      ]
     },
     "metadata": {
      "needs_background": "light"
     },
     "output_type": "display_data"
    }
   ],
   "source": [
    "# Distribution of Posts by Date\n",
    "\n",
    "plt.figure(figsize = (15,7))\n",
    "plt.hist(x = df['date'], color=\"blue\",bins = 20, alpha = 0.4, orientation = 'vertical')\n",
    "plt.xlabel(xlabel = 'Month', size = 15, labelpad = 10)\n",
    "plt.xticks(['2021-05-10','2021-06-01','2021-07-01','2021-08-01','2021-09-01','2021-10-10'])\n",
    "plt.ylabel(ylabel = 'Frequency',size = 15, labelpad = 10)\n",
    "plt.title('Distribution of Posts by Date', size = 15, pad = 10);\n",
    "\n",
    "plt.savefig('./images/dist_date.png')"
   ]
  },
  {
   "cell_type": "markdown",
   "id": "fc04de4f-05d0-4c89-8791-dd843c104465",
   "metadata": {},
   "source": [
    "There's no clear pattern in the distribution of posts by date. From the beginning of September to the end of September/beginning of October appear to be the slowest month over the past 4 months. "
   ]
  },
  {
   "cell_type": "code",
   "execution_count": 49,
   "id": "4def7d09-9932-4335-8270-21fd223c56fb",
   "metadata": {},
   "outputs": [
    {
     "data": {
      "text/html": [
       "<div>\n",
       "<style scoped>\n",
       "    .dataframe tbody tr th:only-of-type {\n",
       "        vertical-align: middle;\n",
       "    }\n",
       "\n",
       "    .dataframe tbody tr th {\n",
       "        vertical-align: top;\n",
       "    }\n",
       "\n",
       "    .dataframe thead th {\n",
       "        text-align: right;\n",
       "    }\n",
       "</style>\n",
       "<table border=\"1\" class=\"dataframe\">\n",
       "  <thead>\n",
       "    <tr style=\"text-align: right;\">\n",
       "      <th></th>\n",
       "      <th>created_utc</th>\n",
       "      <th>num_comments</th>\n",
       "      <th>subreddit</th>\n",
       "      <th>time</th>\n",
       "      <th>char_length</th>\n",
       "      <th>word_count</th>\n",
       "    </tr>\n",
       "  </thead>\n",
       "  <tbody>\n",
       "    <tr>\n",
       "      <th>count</th>\n",
       "      <td>3.020000e+03</td>\n",
       "      <td>3020.000000</td>\n",
       "      <td>3020.000000</td>\n",
       "      <td>3020.000000</td>\n",
       "      <td>3020.000000</td>\n",
       "      <td>3020.000000</td>\n",
       "    </tr>\n",
       "    <tr>\n",
       "      <th>mean</th>\n",
       "      <td>1.627360e+09</td>\n",
       "      <td>10.439735</td>\n",
       "      <td>0.500000</td>\n",
       "      <td>12.124503</td>\n",
       "      <td>459.064570</td>\n",
       "      <td>80.523510</td>\n",
       "    </tr>\n",
       "    <tr>\n",
       "      <th>std</th>\n",
       "      <td>3.341552e+06</td>\n",
       "      <td>19.548921</td>\n",
       "      <td>0.500083</td>\n",
       "      <td>6.138114</td>\n",
       "      <td>898.285575</td>\n",
       "      <td>136.540439</td>\n",
       "    </tr>\n",
       "    <tr>\n",
       "      <th>min</th>\n",
       "      <td>1.621477e+09</td>\n",
       "      <td>0.000000</td>\n",
       "      <td>0.000000</td>\n",
       "      <td>0.000000</td>\n",
       "      <td>1.000000</td>\n",
       "      <td>1.000000</td>\n",
       "    </tr>\n",
       "    <tr>\n",
       "      <th>25%</th>\n",
       "      <td>1.624368e+09</td>\n",
       "      <td>2.000000</td>\n",
       "      <td>0.000000</td>\n",
       "      <td>8.000000</td>\n",
       "      <td>155.000000</td>\n",
       "      <td>30.000000</td>\n",
       "    </tr>\n",
       "    <tr>\n",
       "      <th>50%</th>\n",
       "      <td>1.627399e+09</td>\n",
       "      <td>5.000000</td>\n",
       "      <td>0.500000</td>\n",
       "      <td>12.000000</td>\n",
       "      <td>279.000000</td>\n",
       "      <td>54.000000</td>\n",
       "    </tr>\n",
       "    <tr>\n",
       "      <th>75%</th>\n",
       "      <td>1.630296e+09</td>\n",
       "      <td>12.000000</td>\n",
       "      <td>1.000000</td>\n",
       "      <td>17.000000</td>\n",
       "      <td>499.250000</td>\n",
       "      <td>94.000000</td>\n",
       "    </tr>\n",
       "    <tr>\n",
       "      <th>max</th>\n",
       "      <td>1.633307e+09</td>\n",
       "      <td>290.000000</td>\n",
       "      <td>1.000000</td>\n",
       "      <td>23.000000</td>\n",
       "      <td>25438.000000</td>\n",
       "      <td>4271.000000</td>\n",
       "    </tr>\n",
       "  </tbody>\n",
       "</table>\n",
       "</div>"
      ],
      "text/plain": [
       "        created_utc  num_comments    subreddit         time   char_length  \\\n",
       "count  3.020000e+03   3020.000000  3020.000000  3020.000000   3020.000000   \n",
       "mean   1.627360e+09     10.439735     0.500000    12.124503    459.064570   \n",
       "std    3.341552e+06     19.548921     0.500083     6.138114    898.285575   \n",
       "min    1.621477e+09      0.000000     0.000000     0.000000      1.000000   \n",
       "25%    1.624368e+09      2.000000     0.000000     8.000000    155.000000   \n",
       "50%    1.627399e+09      5.000000     0.500000    12.000000    279.000000   \n",
       "75%    1.630296e+09     12.000000     1.000000    17.000000    499.250000   \n",
       "max    1.633307e+09    290.000000     1.000000    23.000000  25438.000000   \n",
       "\n",
       "        word_count  \n",
       "count  3020.000000  \n",
       "mean     80.523510  \n",
       "std     136.540439  \n",
       "min       1.000000  \n",
       "25%      30.000000  \n",
       "50%      54.000000  \n",
       "75%      94.000000  \n",
       "max    4271.000000  "
      ]
     },
     "execution_count": 49,
     "metadata": {},
     "output_type": "execute_result"
    }
   ],
   "source": [
    "# Summary Statistics\n",
    "df.describe()"
   ]
  },
  {
   "cell_type": "markdown",
   "id": "29c2504a-131e-4781-8477-0a0cc4e067ea",
   "metadata": {},
   "source": [
    "Summary Statistics: <br>\n",
    "- Number of Comments: The average number of comments per post is 10.40. The min number of comments per post is 0 and the max is 290.\n",
    "- Character Length: The average character length is 459 while the min is 1 and max is 25438. \n",
    "- Word Count: The average word count it 80.5 while the min is 1 and max is 4271. "
   ]
  },
  {
   "cell_type": "code",
   "execution_count": 50,
   "id": "4a3874c8-9763-4e51-9d40-d775b05a6fa5",
   "metadata": {},
   "outputs": [
    {
     "data": {
      "text/html": [
       "<div>\n",
       "<style scoped>\n",
       "    .dataframe tbody tr th:only-of-type {\n",
       "        vertical-align: middle;\n",
       "    }\n",
       "\n",
       "    .dataframe tbody tr th {\n",
       "        vertical-align: top;\n",
       "    }\n",
       "\n",
       "    .dataframe thead th {\n",
       "        text-align: right;\n",
       "    }\n",
       "</style>\n",
       "<table border=\"1\" class=\"dataframe\">\n",
       "  <thead>\n",
       "    <tr style=\"text-align: right;\">\n",
       "      <th></th>\n",
       "      <th>created_utc</th>\n",
       "      <th>num_comments</th>\n",
       "      <th>subreddit</th>\n",
       "      <th>time</th>\n",
       "      <th>char_length</th>\n",
       "      <th>word_count</th>\n",
       "    </tr>\n",
       "  </thead>\n",
       "  <tbody>\n",
       "    <tr>\n",
       "      <th>created_utc</th>\n",
       "      <td>1.000000</td>\n",
       "      <td>-0.018889</td>\n",
       "      <td>0.083257</td>\n",
       "      <td>-0.029737</td>\n",
       "      <td>-0.027237</td>\n",
       "      <td>-0.022492</td>\n",
       "    </tr>\n",
       "    <tr>\n",
       "      <th>num_comments</th>\n",
       "      <td>-0.018889</td>\n",
       "      <td>1.000000</td>\n",
       "      <td>-0.209155</td>\n",
       "      <td>-0.111802</td>\n",
       "      <td>0.243238</td>\n",
       "      <td>0.201984</td>\n",
       "    </tr>\n",
       "    <tr>\n",
       "      <th>subreddit</th>\n",
       "      <td>0.083257</td>\n",
       "      <td>-0.209155</td>\n",
       "      <td>1.000000</td>\n",
       "      <td>0.066796</td>\n",
       "      <td>-0.035743</td>\n",
       "      <td>-0.010471</td>\n",
       "    </tr>\n",
       "    <tr>\n",
       "      <th>time</th>\n",
       "      <td>-0.029737</td>\n",
       "      <td>-0.111802</td>\n",
       "      <td>0.066796</td>\n",
       "      <td>1.000000</td>\n",
       "      <td>-0.067272</td>\n",
       "      <td>-0.054559</td>\n",
       "    </tr>\n",
       "    <tr>\n",
       "      <th>char_length</th>\n",
       "      <td>-0.027237</td>\n",
       "      <td>0.243238</td>\n",
       "      <td>-0.035743</td>\n",
       "      <td>-0.067272</td>\n",
       "      <td>1.000000</td>\n",
       "      <td>0.948173</td>\n",
       "    </tr>\n",
       "    <tr>\n",
       "      <th>word_count</th>\n",
       "      <td>-0.022492</td>\n",
       "      <td>0.201984</td>\n",
       "      <td>-0.010471</td>\n",
       "      <td>-0.054559</td>\n",
       "      <td>0.948173</td>\n",
       "      <td>1.000000</td>\n",
       "    </tr>\n",
       "  </tbody>\n",
       "</table>\n",
       "</div>"
      ],
      "text/plain": [
       "              created_utc  num_comments  subreddit      time  char_length  \\\n",
       "created_utc      1.000000     -0.018889   0.083257 -0.029737    -0.027237   \n",
       "num_comments    -0.018889      1.000000  -0.209155 -0.111802     0.243238   \n",
       "subreddit        0.083257     -0.209155   1.000000  0.066796    -0.035743   \n",
       "time            -0.029737     -0.111802   0.066796  1.000000    -0.067272   \n",
       "char_length     -0.027237      0.243238  -0.035743 -0.067272     1.000000   \n",
       "word_count      -0.022492      0.201984  -0.010471 -0.054559     0.948173   \n",
       "\n",
       "              word_count  \n",
       "created_utc    -0.022492  \n",
       "num_comments    0.201984  \n",
       "subreddit      -0.010471  \n",
       "time           -0.054559  \n",
       "char_length     0.948173  \n",
       "word_count      1.000000  "
      ]
     },
     "execution_count": 50,
     "metadata": {},
     "output_type": "execute_result"
    }
   ],
   "source": [
    "df.corr()"
   ]
  },
  {
   "cell_type": "code",
   "execution_count": 54,
   "id": "92088ac9-d220-47b9-bd32-d0ad71d014f1",
   "metadata": {},
   "outputs": [
    {
     "data": {
      "image/png": "[encoded data removed]",
      "text/plain": [
       "<Figure size 864x504 with 2 Axes>"
      ]
     },
     "metadata": {
      "needs_background": "light"
     },
     "output_type": "display_data"
    }
   ],
   "source": [
    "corr = df.corr()\n",
    "sr_corr = corr[['subreddit']]\n",
    "\n",
    "plt.figure(figsize = (12,7))\n",
    "sns.heatmap(data = sr_corr.sort_values(by = 'subreddit', ascending = False),\n",
    "           annot = True,\n",
    "           cmap = 'inferno_r',\n",
    "           linewidths=0.1,\n",
    "           yticklabels= True,\n",
    "           xticklabels= True,\n",
    "           vmin=-1,\n",
    "           vmax=1.5)\n",
    "plt.yticks(rotation = 0);\n",
    "\n",
    "plt.savefig('./images/corr.png')"
   ]
  },
  {
   "cell_type": "markdown",
   "id": "a7ee2e77-abf6-47a4-91bf-a8e9d3644249",
   "metadata": {},
   "source": [
    "Correlation: \n",
    "- Character Length and Word Count have the strongest correlation at 0.948. \n",
    "- Both Word Count and Character Count have a correlation with Number of Comments of less than 0.25.\n",
    "- Created UTC has the strongest correlation with Subreddit at 0.083. Time has a 0.066 correlation with Subreddit."
   ]
  },
  {
   "cell_type": "markdown",
   "id": "1b649ccc-fb5d-4c04-a0d2-870761b9dc3c",
   "metadata": {},
   "source": [
    "### Text Data Analysis"
   ]
  },
  {
   "cell_type": "code",
   "execution_count": 55,
   "id": "640289e7-7dc5-4513-a1e4-fa79118c78c9",
   "metadata": {},
   "outputs": [
    {
     "data": {
      "image/png": "[encoded data removed]",
      "text/plain": [
       "<Figure size 432x288 with 1 Axes>"
      ]
     },
     "metadata": {
      "needs_background": "light"
     },
     "output_type": "display_data"
    }
   ],
   "source": [
    "sent = SentimentIntensityAnalyzer()\n",
    "sentiment = []\n",
    "for i in df['selftext']:\n",
    "    sentiment.append(sent.polarity_scores(i))\n",
    "    \n",
    "sentimentdf = pd.DataFrame(sentiment).mean()\n",
    "sentimentdf.plot(kind = 'barh');"
   ]
  },
  {
   "cell_type": "markdown",
   "id": "451533e8-22f0-42ea-a93e-72d5f0fb71b3",
   "metadata": {},
   "source": [
    "After a quick sentiment analysis, it looks like most posts are classified as neutral. This may be interesting to analyze further in a future project, but I will hold off for now. "
   ]
  },
  {
   "cell_type": "markdown",
   "id": "19238086-cf14-4c20-b520-1d09c072b665",
   "metadata": {},
   "source": [
    "## Pre-Processing & Modeling"
   ]
  },
  {
   "cell_type": "code",
   "execution_count": 56,
   "id": "927afa76-4e62-4339-9f1a-a633980befdd",
   "metadata": {},
   "outputs": [],
   "source": [
    "# Creating df for selftext with same index as df\n",
    "st = df['selftext']\n",
    "st_index = df.index"
   ]
  },
  {
   "cell_type": "code",
   "execution_count": 57,
   "id": "4c9f9d1e-aed9-4efd-bb7c-b81c2b010a94",
   "metadata": {},
   "outputs": [],
   "source": [
    "# Setting up CountVectorizer\n",
    "cvec = CountVectorizer(stop_words = 'english')\n",
    "cvec.fit(st)\n",
    "st = cvec.transform(st).toarray()\n",
    "st_df = pd.DataFrame(st, columns = cvec.get_feature_names(),index = st_index)  # to array or to dense to make df"
   ]
  },
  {
   "cell_type": "code",
   "execution_count": 58,
   "id": "2b84c9ed-dd10-4197-8e08-5ed7bcff97bd",
   "metadata": {},
   "outputs": [
    {
     "data": {
      "image/png": "[encoded data removed]",
      "text/plain": [
       "<Figure size 432x288 with 1 Axes>"
      ]
     },
     "metadata": {
      "needs_background": "light"
     },
     "output_type": "display_data"
    }
   ],
   "source": [
    "# Top 15 words across both datasets\n",
    "top_15 = st_df.sum().sort_values(ascending = False).head(15)\n",
    "top_15.plot(kind = 'barh');"
   ]
  },
  {
   "cell_type": "markdown",
   "id": "ae4faf9c-4a97-46ba-b9d3-1d32930bbc83",
   "metadata": {},
   "source": [
    "VR is mentioned in over 1750 posts. That's over 57% of the posts. "
   ]
  },
  {
   "cell_type": "code",
   "execution_count": 59,
   "id": "bb0b5386-bed6-4ca0-9b8d-1d6e0b166698",
   "metadata": {},
   "outputs": [],
   "source": [
    "# Merging count vectorizer with df\n",
    "words = pd.merge(left = df, right = st_df, how = 'outer', left_index = True, right_index = True)"
   ]
  },
  {
   "cell_type": "code",
   "execution_count": 60,
   "id": "a46b1d30-1d65-4276-bf3e-546d07d7e40b",
   "metadata": {},
   "outputs": [
    {
     "name": "stderr",
     "output_type": "stream",
     "text": [
      "/Users/jenz/opt/anaconda3/envs/dsi/lib/python3.8/site-packages/pandas/core/frame.py:4308: SettingWithCopyWarning: \n",
      "A value is trying to be set on a copy of a slice from a DataFrame\n",
      "\n",
      "See the caveats in the documentation: https://pandas.pydata.org/pandas-docs/stable/user_guide/indexing.html#returning-a-view-versus-a-copy\n",
      "  return super().drop(\n"
     ]
    }
   ],
   "source": [
    "# Filtering for Oculus Strings\n",
    "oc_words = words.loc[words['subreddit_x'] == 1, :]\n",
    "oc_words.drop(columns = ['selftext','created_utc', 'char_length', 'word_count', 'time_x', 'num_comments', 'subreddit_x'], inplace = True)"
   ]
  },
  {
   "cell_type": "code",
   "execution_count": 61,
   "id": "5108d0b1-ccae-452b-b3c9-3d7a0d9f5cea",
   "metadata": {},
   "outputs": [
    {
     "data": {
      "text/plain": [
       "oculus     1174\n",
       "quest       901\n",
       "just        704\n",
       "vr          595\n",
       "headset     509\n",
       "dtype: int64"
      ]
     },
     "execution_count": 61,
     "metadata": {},
     "output_type": "execute_result"
    }
   ],
   "source": [
    "# Top 5 Oculus Strings\n",
    "oc_words.sum().sort_values(ascending = False)[:5]"
   ]
  },
  {
   "cell_type": "code",
   "execution_count": 62,
   "id": "26273152-ebea-46c6-bb0f-e989c11a6f72",
   "metadata": {},
   "outputs": [],
   "source": [
    "# Pulling the top 125 oculus strings and creating a new list\n",
    "oc_top_words = oc_words.sum().sort_values(ascending = False)[:125]\n",
    "oc_top_words = pd.DataFrame(oc_top_words)\n",
    "oc_top_words = oc_top_words.index\n",
    "octw  = []\n",
    "for i,v in enumerate(oc_top_words):\n",
    "    octw.append(v)"
   ]
  },
  {
   "cell_type": "code",
   "execution_count": 63,
   "id": "421f6968-8d26-43b0-acbb-ecad664496e8",
   "metadata": {},
   "outputs": [
    {
     "name": "stderr",
     "output_type": "stream",
     "text": [
      "/Users/jenz/opt/anaconda3/envs/dsi/lib/python3.8/site-packages/pandas/core/frame.py:4308: SettingWithCopyWarning: \n",
      "A value is trying to be set on a copy of a slice from a DataFrame\n",
      "\n",
      "See the caveats in the documentation: https://pandas.pydata.org/pandas-docs/stable/user_guide/indexing.html#returning-a-view-versus-a-copy\n",
      "  return super().drop(\n"
     ]
    }
   ],
   "source": [
    "# Filtering for PS strings\n",
    "ps_words = words.loc[words['subreddit_x'] == 0, :]\n",
    "ps_words.drop(columns = ['selftext','created_utc', 'char_length', 'word_count', 'time_x', 'num_comments', 'subreddit_x'], inplace = True)"
   ]
  },
  {
   "cell_type": "code",
   "execution_count": 64,
   "id": "1e2be747-52dd-4fac-a170-1219805df636",
   "metadata": {},
   "outputs": [
    {
     "data": {
      "text/plain": [
       "vr       1177\n",
       "99       1106\n",
       "https     989\n",
       "com       925\n",
       "game      897\n",
       "dtype: int64"
      ]
     },
     "execution_count": 64,
     "metadata": {},
     "output_type": "execute_result"
    }
   ],
   "source": [
    "# Top 5 PS Strings\n",
    "ps_words.sum().sort_values(ascending = False)[:5]"
   ]
  },
  {
   "cell_type": "markdown",
   "id": "c8dc5df1-8c13-471a-a97c-9d021f3a6b97",
   "metadata": {},
   "source": [
    "While the Oculus top strings included the Oculus brand name as well as the Oculus headset, Quest, the PSVR top strings didn't include the brand name or anything that would really identify PSVR."
   ]
  },
  {
   "cell_type": "code",
   "execution_count": 65,
   "id": "8263a774-47ec-40df-9a13-30782ee1d2eb",
   "metadata": {},
   "outputs": [],
   "source": [
    "# Pulling the top 125 ps strings and creating a new list\n",
    "ps_top_words = ps_words.sum().sort_values(ascending = False)[:125]\n",
    "ps_top_words = pd.DataFrame(ps_top_words)\n",
    "ps_top_words = ps_top_words.index\n",
    "pstw  = []\n",
    "for i,v in enumerate(ps_top_words):\n",
    "    pstw.append(v)"
   ]
  },
  {
   "cell_type": "code",
   "execution_count": 66,
   "id": "d92c52c8-3c77-4cec-a389-cd5fc706e834",
   "metadata": {},
   "outputs": [
    {
     "name": "stdout",
     "output_type": "stream",
     "text": [
      "{'good', 'saber', 'work', 'set', 'know', 'headset', 'amp', 'ago', 'tried', 'just', 'www', 'recently', 'thanks', 'used', 'need', 'com', 'does', 've', 'using', 'vr', 'sure', 'working', 'game', 'issue', 'controller', 'works', 'getting', 'different', 'got', 'screen', 'cable', 'fine', 'experience', 'https', 'think', 'things', 'use', 'fix', 'right', 'tracking', 'make', 'today', 'way', 'long', 'new', 'like', 'wondering', 'store', 'try', 'didn', 'playing', 'help', 'really', 'bought', 'don', 'problem', 'play', 'beat', 'doesn', 'having', 'going', 'games', 'time_y', 'looking', 'turn', 'did', 'trying', 'people', 'buy', 'want', 'better', 'controllers', 'let', 'x200b', 'thing', 'update'}\n"
     ]
    }
   ],
   "source": [
    "# Creating a common strings set with set intersection of ps and oculus strings\n",
    "pstw_set = set(pstw)\n",
    "octw_set = set(octw)\n",
    "common_words = pstw_set.intersection(octw)\n",
    "commons_words = set(common_words)\n",
    "print(common_words)"
   ]
  },
  {
   "cell_type": "code",
   "execution_count": 67,
   "id": "5527edad-eda8-44e0-aee5-3c48de3ad106",
   "metadata": {},
   "outputs": [],
   "source": [
    "# Creating english stopword set\n",
    "english = stopwords.words('english')\n",
    "english = set(english)"
   ]
  },
  {
   "cell_type": "code",
   "execution_count": 68,
   "id": "39a1a875-0dc8-4247-a3c8-b84a727d5907",
   "metadata": {},
   "outputs": [],
   "source": [
    "# Combining english set and common words with union\n",
    "vr_english =  english.union(common_words)"
   ]
  },
  {
   "cell_type": "code",
   "execution_count": 69,
   "id": "25f13741-b848-46b7-89a3-a15a85ba879f",
   "metadata": {},
   "outputs": [
    {
     "name": "stdout",
     "output_type": "stream",
     "text": [
      "{'work', 'he', 'during', 'know', 'amp', \"weren't\", 'ma', 'being', 'will', 'if', 'himself', 'ago', 'yourself', 'after', 'just', 'www', 'your', 'be', \"it's\", 'her', 'can', \"needn't\", 'need', 'now', 'not', 'sure', 'vr', 'working', 'game', 'to', 'mustn', 'as', 'issue', 'mightn', 'different', 'its', 'these', 'couldn', 'with', 'nor', 'use', 'further', 'tracking', 'both', 'than', 'today', 'whom', \"isn't\", 'like', 'store', 'my', 'at', 'above', 'from', 'his', 'bought', 'it', 'don', 'play', 'when', 'him', 'doesn', 'looking', 'buy', 'am', 'better', \"doesn't\", 'here', 'of', 'update', 'an', 'and', 'good', \"you've\", 'where', 'again', 'set', 'a', \"mightn't\", 'headset', 'y', 'o', \"hadn't\", 'against', \"you'll\", 'which', 'there', 'isn', 'but', 'any', 'do', 'works', 'me', 'wasn', 'https', 'them', 'very', 'themselves', 'should', 'aren', 'down', 'who', 'on', \"won't\", 'way', 'new', 'before', 'out', 'between', 'help', 'really', 'she', 'hadn', \"you'd\", 't', 'beat', 'are', 'time_y', 'you', 'did', 'trying', 'our', 'the', 'because', \"shan't\", \"should've\", 'm', \"that'll\", 'want', 'controllers', 'x200b', 'this', 'ain', \"couldn't\", 'they', 'each', 'has', 'we', 'was', 'theirs', 'is', \"shouldn't\", 'so', 'won', 'then', 'thanks', 'needn', 'such', \"wasn't\", 'does', 'only', \"didn't\", 'using', 'while', 'been', 'controller', 's', 'cable', 'haven', 'experience', 'shan', 'things', 'fix', 'right', 'no', 'make', \"you're\", 'were', 'playing', 'those', 'over', 'their', 'by', 'having', 'about', 'ours', 'going', 'into', \"mustn't\", 'once', 'd', 'll', \"she's\", 'or', 're', 'let', \"aren't\", 'thing', 'doing', 'other', 'saber', 'up', 'yours', 'until', 'hers', 'below', 'own', 'tried', 'recently', 'used', 'too', 'com', 'that', 've', 'off', 'weren', 'ourselves', 'itself', 'all', 'myself', 'shouldn', 'more', 'getting', 'under', 'got', 'screen', 'have', 'fine', 'in', 'think', 'herself', 'had', \"wouldn't\", \"haven't\", 'long', 'wondering', 'wouldn', 'most', 'didn', 'try', 'same', 'what', 'problem', 'for', 'games', 'turn', 'yourselves', 'people', 'why', \"hasn't\", 'i', 'through', 'how', \"don't\", 'hasn', 'few', 'some'}\n"
     ]
    }
   ],
   "source": [
    "print(vr_english)"
   ]
  },
  {
   "cell_type": "markdown",
   "id": "d76c718b-df04-4de5-8c75-0febb9d8123e",
   "metadata": {},
   "source": [
    "I believe with the data I've collected, cleaned, and analyzed I should be able to build a model that predicts what subreddit submissions come from. "
   ]
  },
  {
   "cell_type": "code",
   "execution_count": 70,
   "id": "6236620c-d3b0-4d91-80ec-fff6fac9dc22",
   "metadata": {},
   "outputs": [],
   "source": [
    "# Setting X & Y\n",
    "X = df['selftext']\n",
    "y = df['subreddit']"
   ]
  },
  {
   "cell_type": "markdown",
   "id": "f0eab17e-cff2-4c9e-8dbc-0e6105241521",
   "metadata": {},
   "source": [
    "### Baseline Accuracy"
   ]
  },
  {
   "cell_type": "code",
   "execution_count": 71,
   "id": "03a23583-8055-4d71-88ff-d47b4c7a75b0",
   "metadata": {},
   "outputs": [],
   "source": [
    "# Train test split - Stratifying because this is classification\n",
    "X_train, X_test, y_train, y_test = train_test_split(X,y,test_size = .30, stratify = y, random_state = 321)"
   ]
  },
  {
   "cell_type": "code",
   "execution_count": 72,
   "id": "0fbc1de2-6088-4800-b386-f39dbe62eeed",
   "metadata": {},
   "outputs": [
    {
     "data": {
      "text/plain": [
       "0    0.5\n",
       "1    0.5\n",
       "Name: subreddit, dtype: float64"
      ]
     },
     "execution_count": 72,
     "metadata": {},
     "output_type": "execute_result"
    }
   ],
   "source": [
    "# Accuracy score\n",
    "y_train.value_counts(normalize = True)"
   ]
  },
  {
   "cell_type": "markdown",
   "id": "57d13300-0d87-4d80-8faa-2976de8f84af",
   "metadata": {},
   "source": [
    "The Baseline model has 50% accuracy. "
   ]
  },
  {
   "cell_type": "markdown",
   "id": "7cef2c14-06fb-4876-b2b2-b727f38e77b6",
   "metadata": {},
   "source": [
    "### Multinomial Naiive Bayes"
   ]
  },
  {
   "cell_type": "markdown",
   "id": "6748a018-3018-4af7-ad7c-0c655cc5f360",
   "metadata": {},
   "source": [
    "#### MNB Using TF-IDF"
   ]
  },
  {
   "cell_type": "code",
   "execution_count": 73,
   "id": "f731f85f-a168-48fd-affb-5c40e9526803",
   "metadata": {},
   "outputs": [],
   "source": [
    "count = 0 \n",
    "nb_tvec_params = {}"
   ]
  },
  {
   "cell_type": "code",
   "execution_count": 74,
   "id": "b2f1438c-8fda-445e-909e-7ccb50e498a1",
   "metadata": {
    "tags": []
   },
   "outputs": [
    {
     "name": "stdout",
     "output_type": "stream",
     "text": [
      "Fitting 3 folds for each of 72 candidates, totalling 216 fits\n"
     ]
    },
    {
     "data": {
      "text/html": [
       "<div>\n",
       "<style scoped>\n",
       "    .dataframe tbody tr th:only-of-type {\n",
       "        vertical-align: middle;\n",
       "    }\n",
       "\n",
       "    .dataframe tbody tr th {\n",
       "        vertical-align: top;\n",
       "    }\n",
       "\n",
       "    .dataframe thead th {\n",
       "        text-align: right;\n",
       "    }\n",
       "</style>\n",
       "<table border=\"1\" class=\"dataframe\">\n",
       "  <thead>\n",
       "    <tr style=\"text-align: right;\">\n",
       "      <th></th>\n",
       "      <th>tvec__max_df</th>\n",
       "      <th>tvec__max_features</th>\n",
       "      <th>tvec__min_df</th>\n",
       "      <th>tvec__ngram_range</th>\n",
       "      <th>tvec__stop_words</th>\n",
       "      <th>score</th>\n",
       "      <th>train_score</th>\n",
       "      <th>test_score</th>\n",
       "    </tr>\n",
       "  </thead>\n",
       "  <tbody>\n",
       "    <tr>\n",
       "      <th>nbt_1</th>\n",
       "      <td>0.25</td>\n",
       "      <td>5000</td>\n",
       "      <td>2</td>\n",
       "      <td>(1, 2)</td>\n",
       "      <td>{work, he, during, know, amp, weren't, ma, bei...</td>\n",
       "      <td>0.869439</td>\n",
       "      <td>0.950331</td>\n",
       "      <td>0.88521</td>\n",
       "    </tr>\n",
       "  </tbody>\n",
       "</table>\n",
       "</div>"
      ],
      "text/plain": [
       "       tvec__max_df  tvec__max_features  tvec__min_df tvec__ngram_range  \\\n",
       "nbt_1          0.25                5000             2            (1, 2)   \n",
       "\n",
       "                                        tvec__stop_words     score  \\\n",
       "nbt_1  {work, he, during, know, amp, weren't, ma, bei...  0.869439   \n",
       "\n",
       "       train_score  test_score  \n",
       "nbt_1     0.950331     0.88521  "
      ]
     },
     "execution_count": 74,
     "metadata": {},
     "output_type": "execute_result"
    }
   ],
   "source": [
    "X_train, X_test, y_train, y_test = train_test_split(X,y,test_size = .30, stratify = y, random_state = 321)\n",
    "\n",
    "nb_tvec_params = nb_tvec_params\n",
    "count = count\n",
    "\n",
    "nb_tvec_pipe = Pipeline([\n",
    "    ('tvec', TfidfVectorizer()),\n",
    "    ('mnb', MultinomialNB())\n",
    "])\n",
    "\n",
    "pipe_params = {\n",
    "    'tvec__max_features': [5000,6000],\n",
    "    'tvec__stop_words': [vr_english,'english'],\n",
    "    'tvec__max_df':[0.25,0.3,0.4],\n",
    "    'tvec__ngram_range': [(1,1),(1,2)],\n",
    "    'tvec__min_df': [1,2,3] \n",
    "}\n",
    "\n",
    "gs_nbt = GridSearchCV(nb_tvec_pipe, param_grid = pipe_params, cv = 3, verbose = 1, n_jobs = 3)\n",
    "gs_nbt.fit(X_train, y_train)\n",
    "\n",
    "count += 1\n",
    "\n",
    "gs_nbt.best_params_['score'] = gs_nbt.best_score_ \n",
    "gs_nbt.best_params_['train_score'] = gs_nbt.score(X_train, y_train)\n",
    "gs_nbt.best_params_['test_score'] = gs_nbt.score(X_test, y_test)\n",
    "\n",
    "nb_tvec_params[f'nbt_{count}'] = gs_nbt.best_params_   \n",
    "\n",
    "nb_tvec_df = pd.DataFrame.from_dict(nb_tvec_params, orient = 'index')\n",
    "\n",
    "nb_tvec_df"
   ]
  },
  {
   "cell_type": "markdown",
   "id": "57cbb46c-d828-4484-8010-198e12cbda54",
   "metadata": {},
   "source": [
    "Tested multiple parameters. This model did better with a higher max features and an ngram range of (1,2). This is performing pretty well, but a bit overfit, so I will want to test CountVectorizer. "
   ]
  },
  {
   "cell_type": "markdown",
   "id": "fbffed1d-735e-457f-b7a6-94408f2e12bb",
   "metadata": {},
   "source": [
    "#### MNB Using CountVectorizer"
   ]
  },
  {
   "cell_type": "code",
   "execution_count": 75,
   "id": "4e65e243-90d9-40f7-9f4b-ca05fb944e90",
   "metadata": {},
   "outputs": [],
   "source": [
    "count = 0 \n",
    "nb_cvec_params = {}"
   ]
  },
  {
   "cell_type": "code",
   "execution_count": 76,
   "id": "d4e7702c-aeec-423a-ada9-30b5d18ba855",
   "metadata": {},
   "outputs": [
    {
     "name": "stdout",
     "output_type": "stream",
     "text": [
      "Fitting 3 folds for each of 36 candidates, totalling 108 fits\n"
     ]
    },
    {
     "data": {
      "text/html": [
       "<div>\n",
       "<style scoped>\n",
       "    .dataframe tbody tr th:only-of-type {\n",
       "        vertical-align: middle;\n",
       "    }\n",
       "\n",
       "    .dataframe tbody tr th {\n",
       "        vertical-align: top;\n",
       "    }\n",
       "\n",
       "    .dataframe thead th {\n",
       "        text-align: right;\n",
       "    }\n",
       "</style>\n",
       "<table border=\"1\" class=\"dataframe\">\n",
       "  <thead>\n",
       "    <tr style=\"text-align: right;\">\n",
       "      <th></th>\n",
       "      <th>cvec__max_df</th>\n",
       "      <th>cvec__max_features</th>\n",
       "      <th>cvec__ngram_range</th>\n",
       "      <th>cvec__stop_words</th>\n",
       "      <th>score</th>\n",
       "      <th>train_score</th>\n",
       "      <th>test_score</th>\n",
       "    </tr>\n",
       "  </thead>\n",
       "  <tbody>\n",
       "    <tr>\n",
       "      <th>nbc_1</th>\n",
       "      <td>0.3</td>\n",
       "      <td>3000</td>\n",
       "      <td>(1, 1)</td>\n",
       "      <td>{work, he, during, know, amp, weren't, ma, bei...</td>\n",
       "      <td>0.848148</td>\n",
       "      <td>0.900662</td>\n",
       "      <td>0.862031</td>\n",
       "    </tr>\n",
       "  </tbody>\n",
       "</table>\n",
       "</div>"
      ],
      "text/plain": [
       "       cvec__max_df  cvec__max_features cvec__ngram_range  \\\n",
       "nbc_1           0.3                3000            (1, 1)   \n",
       "\n",
       "                                        cvec__stop_words     score  \\\n",
       "nbc_1  {work, he, during, know, amp, weren't, ma, bei...  0.848148   \n",
       "\n",
       "       train_score  test_score  \n",
       "nbc_1     0.900662    0.862031  "
      ]
     },
     "execution_count": 76,
     "metadata": {},
     "output_type": "execute_result"
    }
   ],
   "source": [
    "X_train, X_test, y_train, y_test = train_test_split(X,y,test_size = .30, stratify = y, random_state = 321)\n",
    "\n",
    "nb_cvec_params = nb_cvec_params\n",
    "count = count\n",
    "\n",
    "nb_cvec_pipe = Pipeline([\n",
    "    ('cvec', CountVectorizer()),\n",
    "    ('mnb', MultinomialNB())\n",
    "])\n",
    "\n",
    "pipe_params = {\n",
    "    'cvec__max_features':[1000,2000,3000], \n",
    "    'cvec__max_df':[0.2,0.3,0.4],\n",
    "    'cvec__ngram_range':[(1,1),(1,2)],\n",
    "    'cvec__stop_words':[vr_english, 'english']\n",
    "}\n",
    "\n",
    "gs_nbc = GridSearchCV(nb_cvec_pipe, param_grid = pipe_params, cv = 3, verbose = 1, n_jobs = 3)\n",
    "gs_nbc.fit(X_train, y_train)\n",
    "\n",
    "count += 1\n",
    "\n",
    "gs_nbc.best_params_['score'] = gs_nbc.best_score_ \n",
    "gs_nbc.best_params_['train_score'] = gs_nbc.score(X_train, y_train)\n",
    "gs_nbc.best_params_['test_score'] = gs_nbc.score(X_test, y_test)\n",
    "\n",
    "nb_cvec_params[f'nbc_{count}'] = gs_nbc.best_params_\n",
    "\n",
    "nb_cvec_df = pd.DataFrame.from_dict(nb_cvec_params, orient = 'index')\n",
    "\n",
    "nb_cvec_df"
   ]
  },
  {
   "cell_type": "markdown",
   "id": "2891c877-06e3-402c-acc5-6058f0f8c035",
   "metadata": {},
   "source": [
    "This model didn't test as well as above. It is less overfit though. "
   ]
  },
  {
   "cell_type": "code",
   "execution_count": 77,
   "id": "41e1ea2e-df08-4bf2-8bce-efa2beda2c10",
   "metadata": {},
   "outputs": [],
   "source": [
    "# Dataframe code inspired by lesson 6.03"
   ]
  },
  {
   "cell_type": "markdown",
   "id": "c70ecf18-627b-42c9-aab0-5c3dfc3b30f1",
   "metadata": {},
   "source": [
    "#### MNB Using CV & TF-IDF"
   ]
  },
  {
   "cell_type": "code",
   "execution_count": 78,
   "id": "a3883113-0209-4473-a512-ac60461e5c5e",
   "metadata": {},
   "outputs": [],
   "source": [
    "count = 0 \n",
    "nb_params = {}"
   ]
  },
  {
   "cell_type": "code",
   "execution_count": 79,
   "id": "e94c4b28-6992-4c25-836c-028f90e13b27",
   "metadata": {},
   "outputs": [
    {
     "name": "stdout",
     "output_type": "stream",
     "text": [
      "Fitting 3 folds for each of 96 candidates, totalling 288 fits\n"
     ]
    },
    {
     "name": "stderr",
     "output_type": "stream",
     "text": [
      "/Users/jenz/opt/anaconda3/envs/dsi/lib/python3.8/site-packages/joblib/externals/loky/process_executor.py:688: UserWarning: A worker stopped while some jobs were given to the executor. This can be caused by a too short worker timeout or by a memory leak.\n",
      "  warnings.warn(\n"
     ]
    },
    {
     "data": {
      "text/html": [
       "<div>\n",
       "<style scoped>\n",
       "    .dataframe tbody tr th:only-of-type {\n",
       "        vertical-align: middle;\n",
       "    }\n",
       "\n",
       "    .dataframe tbody tr th {\n",
       "        vertical-align: top;\n",
       "    }\n",
       "\n",
       "    .dataframe thead th {\n",
       "        text-align: right;\n",
       "    }\n",
       "</style>\n",
       "<table border=\"1\" class=\"dataframe\">\n",
       "  <thead>\n",
       "    <tr style=\"text-align: right;\">\n",
       "      <th></th>\n",
       "      <th>cvec__max_df</th>\n",
       "      <th>cvec__max_features</th>\n",
       "      <th>cvec__ngram_range</th>\n",
       "      <th>cvec__stop_words</th>\n",
       "      <th>tfidf__use_idf</th>\n",
       "      <th>score</th>\n",
       "      <th>train_score</th>\n",
       "      <th>test_score</th>\n",
       "    </tr>\n",
       "  </thead>\n",
       "  <tbody>\n",
       "    <tr>\n",
       "      <th>nbt_1</th>\n",
       "      <td>0.3</td>\n",
       "      <td>5000</td>\n",
       "      <td>(1, 1)</td>\n",
       "      <td>{work, he, during, know, amp, weren't, ma, bei...</td>\n",
       "      <td>False</td>\n",
       "      <td>0.880793</td>\n",
       "      <td>0.950331</td>\n",
       "      <td>0.90287</td>\n",
       "    </tr>\n",
       "  </tbody>\n",
       "</table>\n",
       "</div>"
      ],
      "text/plain": [
       "       cvec__max_df  cvec__max_features cvec__ngram_range  \\\n",
       "nbt_1           0.3                5000            (1, 1)   \n",
       "\n",
       "                                        cvec__stop_words  tfidf__use_idf  \\\n",
       "nbt_1  {work, he, during, know, amp, weren't, ma, bei...           False   \n",
       "\n",
       "          score  train_score  test_score  \n",
       "nbt_1  0.880793     0.950331     0.90287  "
      ]
     },
     "execution_count": 79,
     "metadata": {},
     "output_type": "execute_result"
    }
   ],
   "source": [
    "X_train, X_test, y_train, y_test = train_test_split(X,y,test_size = .30, stratify = y, random_state = 321)\n",
    "\n",
    "nb_params = nb_params\n",
    "count = count\n",
    "\n",
    "nb_pipe = Pipeline([\n",
    "    ('cvec', CountVectorizer()),\n",
    "    ('tfidf', TfidfTransformer()),\n",
    "    ('mnb', MultinomialNB())\n",
    "])\n",
    "\n",
    "pipe_params = {\n",
    "    'cvec__max_features':[1000,2000,3000,5000], \n",
    "    'cvec__max_df':[0.2,0.3,0.4],\n",
    "    'cvec__ngram_range':[(1,1),(1,2)],\n",
    "    'cvec__stop_words':[vr_english, 'english'],\n",
    "    'tfidf__use_idf':[True,False]\n",
    "    \n",
    "}\n",
    "\n",
    "gs_nb = GridSearchCV(nb_pipe, param_grid = pipe_params, cv = 3, verbose = 1, n_jobs = 3)\n",
    "gs_nb.fit(X_train, y_train)\n",
    "\n",
    "count += 1\n",
    "\n",
    "gs_nb.best_params_['score'] = gs_nb.best_score_ \n",
    "gs_nb.best_params_['train_score'] = gs_nb.score(X_train, y_train)\n",
    "gs_nb.best_params_['test_score'] = gs_nb.score(X_test, y_test)\n",
    "\n",
    "nb_params[f'nbt_{count}'] = gs_nb.best_params_   \n",
    "\n",
    "nb_df = pd.DataFrame.from_dict(nb_params, orient = 'index')\n",
    "\n",
    "nb_df"
   ]
  },
  {
   "cell_type": "markdown",
   "id": "47e380a2-66ed-4332-891c-83e1980de7ec",
   "metadata": {},
   "source": [
    "This model is performing the best out of the other two MNB models. It did not use idf like I had expected it to, but it has the highest train and test score of the three. Going to plot a confusion matrix and look at some other metrics. "
   ]
  },
  {
   "cell_type": "code",
   "execution_count": 80,
   "id": "3f5ff468-2c65-4885-b001-b3d6d2b28808",
   "metadata": {},
   "outputs": [
    {
     "data": {
      "image/png": "[encoded data removed]",
      "text/plain": [
       "<Figure size 432x288 with 1 Axes>"
      ]
     },
     "metadata": {
      "needs_background": "light"
     },
     "output_type": "display_data"
    }
   ],
   "source": [
    "preds_nb = gs_nb.predict(X_test)\n",
    "\n",
    "tn, fp, fn, tp = confusion_matrix(y_test, preds_nb).ravel()\n",
    "plt.rcParams.update({'font.size': 12})     #\n",
    "plot_confusion_matrix(gs_nb, X_test, y_test, cmap = 'Purples',colorbar = False, display_labels = ['Oculus','PSVR']);\n",
    "plt.title('MNB');\n",
    "plt.savefig('./images/mnb.png')\n",
    "# params update font size adapted from https://stackoverflow.com/questions/3899980/how-to-change-the-font-size-on-a-matplotlib-plot"
   ]
  },
  {
   "cell_type": "code",
   "execution_count": 81,
   "id": "bf6d6311-bee7-40c6-a39b-019295e1a5f3",
   "metadata": {},
   "outputs": [
    {
     "name": "stdout",
     "output_type": "stream",
     "text": [
      "Precision Rate: 0.9234338747099768\n",
      "Specificity Rate: 0.9271523178807947\n",
      "Recall Rate: 0.8785871964679912\n",
      "Misclassification: 0.09713024282560712\n",
      "F1 Score: 0.9004524886877828\n"
     ]
    }
   ],
   "source": [
    "print(f'Precision Rate: {precision_score(y_test, preds_nb)}')\n",
    "print(f'Specificity Rate: {(tn / (tn + fp))}')\n",
    "print(f'Recall Rate: {recall_score(y_test, preds_nb)}')\n",
    "print(f'Misclassification: {1 - (gs_nb.score(X_test, y_test))}')\n",
    "print(f'F1 Score: {f1_score(y_test,preds_nb)}')"
   ]
  },
  {
   "cell_type": "markdown",
   "id": "04829597-573c-497e-a808-6361a65ac479",
   "metadata": {},
   "source": [
    "These rates looks pretty good, though Recall could be a little higher. Need to look at other models before evaluating"
   ]
  },
  {
   "cell_type": "markdown",
   "id": "1301ca70-1510-446c-9ecb-a82126019877",
   "metadata": {},
   "source": [
    "### Random Forest"
   ]
  },
  {
   "cell_type": "markdown",
   "id": "35d7e4d4-f2b3-4fb6-9e71-ef2bdc2fecfe",
   "metadata": {},
   "source": [
    "#### RF Using IDF"
   ]
  },
  {
   "cell_type": "code",
   "execution_count": 82,
   "id": "31a2e3ec-fda4-4de7-93ec-e78ee096d176",
   "metadata": {},
   "outputs": [],
   "source": [
    "count = 0 \n",
    "rft_params = {}"
   ]
  },
  {
   "cell_type": "code",
   "execution_count": 83,
   "id": "481d3a3b-02c0-4447-bcf2-bc6e33009856",
   "metadata": {},
   "outputs": [
    {
     "data": {
      "text/html": [
       "<div>\n",
       "<style scoped>\n",
       "    .dataframe tbody tr th:only-of-type {\n",
       "        vertical-align: middle;\n",
       "    }\n",
       "\n",
       "    .dataframe tbody tr th {\n",
       "        vertical-align: top;\n",
       "    }\n",
       "\n",
       "    .dataframe thead th {\n",
       "        text-align: right;\n",
       "    }\n",
       "</style>\n",
       "<table border=\"1\" class=\"dataframe\">\n",
       "  <thead>\n",
       "    <tr style=\"text-align: right;\">\n",
       "      <th></th>\n",
       "      <th>rf__bootstrap</th>\n",
       "      <th>rf__ccp_alpha</th>\n",
       "      <th>rf__max_depth</th>\n",
       "      <th>rf__max_features</th>\n",
       "      <th>rf__n_estimators</th>\n",
       "      <th>tvec__max_features</th>\n",
       "      <th>tvec__min_df</th>\n",
       "      <th>tvec__ngram_range</th>\n",
       "      <th>tvec__stop_words</th>\n",
       "      <th>score</th>\n",
       "      <th>train_score</th>\n",
       "      <th>test_score</th>\n",
       "    </tr>\n",
       "  </thead>\n",
       "  <tbody>\n",
       "    <tr>\n",
       "      <th>rft_1</th>\n",
       "      <td>True</td>\n",
       "      <td>0.0001</td>\n",
       "      <td>4</td>\n",
       "      <td>sqrt</td>\n",
       "      <td>80</td>\n",
       "      <td>1000</td>\n",
       "      <td>11</td>\n",
       "      <td>(1, 1)</td>\n",
       "      <td>{work, he, during, know, amp, weren't, ma, bei...</td>\n",
       "      <td>0.867076</td>\n",
       "      <td>0.873226</td>\n",
       "      <td>0.855408</td>\n",
       "    </tr>\n",
       "  </tbody>\n",
       "</table>\n",
       "</div>"
      ],
      "text/plain": [
       "       rf__bootstrap  rf__ccp_alpha  rf__max_depth rf__max_features  \\\n",
       "rft_1           True         0.0001              4             sqrt   \n",
       "\n",
       "       rf__n_estimators  tvec__max_features  tvec__min_df tvec__ngram_range  \\\n",
       "rft_1                80                1000            11            (1, 1)   \n",
       "\n",
       "                                        tvec__stop_words     score  \\\n",
       "rft_1  {work, he, during, know, amp, weren't, ma, bei...  0.867076   \n",
       "\n",
       "       train_score  test_score  \n",
       "rft_1     0.873226    0.855408  "
      ]
     },
     "execution_count": 83,
     "metadata": {},
     "output_type": "execute_result"
    }
   ],
   "source": [
    "X_train, X_test, y_train, y_test = train_test_split(X,y,test_size = .30, stratify = y, random_state = 321)\n",
    "\n",
    "rft_params = rft_params\n",
    "count = count\n",
    "\n",
    "rft_pipe = Pipeline([\n",
    "    ('tvec', TfidfVectorizer()),\n",
    "    ('rf', RandomForestClassifier())\n",
    "])\n",
    "\n",
    "params = {\n",
    "    'rf__n_estimators': [80],\n",
    "    'rf__max_depth': [4],\n",
    "    'rf__ccp_alpha': [0.0001],\n",
    "    'rf__bootstrap': [True],\n",
    "    'rf__max_features': ['sqrt'],\n",
    "    'tvec__stop_words': [vr_english],\n",
    "    'tvec__ngram_range': [(1,1)],\n",
    "    'tvec__min_df':[11],\n",
    "    'tvec__max_features': [1000]\n",
    "}\n",
    "\n",
    "gs_rft = GridSearchCV(rft_pipe, param_grid = params, cv = 3, n_jobs = 2)\n",
    "\n",
    "gs_rft.fit(X_train, y_train)\n",
    "\n",
    "count += 1\n",
    "\n",
    "gs_rft.best_params_['score'] = gs_rft.best_score_ \n",
    "gs_rft.best_params_['train_score'] = gs_rft.score(X_train, y_train)\n",
    "gs_rft.best_params_['test_score'] = gs_rft.score(X_test, y_test)\n",
    "\n",
    "rft_params[f'rft_{count}'] = gs_rft.best_params_\n",
    "\n",
    "rft_df = pd.DataFrame.from_dict(rft_params, orient = 'index')\n",
    "\n",
    "rft_df"
   ]
  },
  {
   "cell_type": "markdown",
   "id": "8d0fc77a-d742-4403-a3c4-ee2e4756ad37",
   "metadata": {},
   "source": [
    "RF with IDF not performing as well as MNB. Will try RF with CountVectorizer next next. "
   ]
  },
  {
   "cell_type": "markdown",
   "id": "b1f5fcbf-2d19-4d93-bbaa-022c23adb743",
   "metadata": {},
   "source": [
    "#### RF Using CountVectorizer"
   ]
  },
  {
   "cell_type": "code",
   "execution_count": 84,
   "id": "09e66d72-9a03-42c3-ba98-5e631fb78eb0",
   "metadata": {},
   "outputs": [],
   "source": [
    "count = 0 \n",
    "rfc_params = {}"
   ]
  },
  {
   "cell_type": "code",
   "execution_count": 85,
   "id": "503a79fa-c05d-4343-a269-292b624077a5",
   "metadata": {},
   "outputs": [
    {
     "name": "stderr",
     "output_type": "stream",
     "text": [
      "/Users/jenz/opt/anaconda3/envs/dsi/lib/python3.8/site-packages/joblib/externals/loky/process_executor.py:688: UserWarning: A worker stopped while some jobs were given to the executor. This can be caused by a too short worker timeout or by a memory leak.\n",
      "  warnings.warn(\n"
     ]
    },
    {
     "data": {
      "text/html": [
       "<div>\n",
       "<style scoped>\n",
       "    .dataframe tbody tr th:only-of-type {\n",
       "        vertical-align: middle;\n",
       "    }\n",
       "\n",
       "    .dataframe tbody tr th {\n",
       "        vertical-align: top;\n",
       "    }\n",
       "\n",
       "    .dataframe thead th {\n",
       "        text-align: right;\n",
       "    }\n",
       "</style>\n",
       "<table border=\"1\" class=\"dataframe\">\n",
       "  <thead>\n",
       "    <tr style=\"text-align: right;\">\n",
       "      <th></th>\n",
       "      <th>cvec__max_df</th>\n",
       "      <th>cvec__max_features</th>\n",
       "      <th>cvec__ngram_range</th>\n",
       "      <th>cvec__stop_words</th>\n",
       "      <th>rf__bootstrap</th>\n",
       "      <th>rf__ccp_alpha</th>\n",
       "      <th>rf__max_depth</th>\n",
       "      <th>rf__max_features</th>\n",
       "      <th>rf__n_estimators</th>\n",
       "      <th>score</th>\n",
       "      <th>train_score</th>\n",
       "      <th>test_score</th>\n",
       "    </tr>\n",
       "  </thead>\n",
       "  <tbody>\n",
       "    <tr>\n",
       "      <th>rfc_1</th>\n",
       "      <td>0.7</td>\n",
       "      <td>1000</td>\n",
       "      <td>(1, 1)</td>\n",
       "      <td>{work, he, during, know, amp, weren't, ma, bei...</td>\n",
       "      <td>True</td>\n",
       "      <td>0.001</td>\n",
       "      <td>4</td>\n",
       "      <td>sqrt</td>\n",
       "      <td>75</td>\n",
       "      <td>0.873228</td>\n",
       "      <td>0.866131</td>\n",
       "      <td>0.856512</td>\n",
       "    </tr>\n",
       "  </tbody>\n",
       "</table>\n",
       "</div>"
      ],
      "text/plain": [
       "       cvec__max_df  cvec__max_features cvec__ngram_range  \\\n",
       "rfc_1           0.7                1000            (1, 1)   \n",
       "\n",
       "                                        cvec__stop_words  rf__bootstrap  \\\n",
       "rfc_1  {work, he, during, know, amp, weren't, ma, bei...           True   \n",
       "\n",
       "       rf__ccp_alpha  rf__max_depth rf__max_features  rf__n_estimators  \\\n",
       "rfc_1          0.001              4             sqrt                75   \n",
       "\n",
       "          score  train_score  test_score  \n",
       "rfc_1  0.873228     0.866131    0.856512  "
      ]
     },
     "execution_count": 85,
     "metadata": {},
     "output_type": "execute_result"
    }
   ],
   "source": [
    "X_train, X_test, y_train, y_test = train_test_split(X,y,test_size = .30, stratify = y, random_state = 321)\n",
    "\n",
    "rfc_params = rfc_params\n",
    "count = count\n",
    "\n",
    "rfc_pipe = Pipeline([\n",
    "    ('cvec', CountVectorizer()),\n",
    "    ('rf', RandomForestClassifier())\n",
    "])\n",
    "\n",
    "params = {\n",
    "    'rf__n_estimators': [70,75,80],\n",
    "    'rf__max_depth': [2,3,4],\n",
    "    'rf__ccp_alpha': [0.001,0.0001],\n",
    "    'rf__bootstrap': [True],\n",
    "    'rf__max_features': ['sqrt','log2'],\n",
    "    'cvec__max_features':[1000,2000], \n",
    "    'cvec__max_df':[0.2,0.7],\n",
    "    'cvec__ngram_range':[(1,1),(1,2)],\n",
    "    'cvec__stop_words':[vr_english, 'english']\n",
    "\n",
    "}\n",
    "\n",
    "gs_rfc = GridSearchCV(rfc_pipe, param_grid = params, cv = 3, n_jobs = 2)\n",
    "\n",
    "gs_rfc.fit(X_train, y_train)\n",
    "\n",
    "count += 1\n",
    "\n",
    "gs_rfc.best_params_['score'] = gs_rfc.best_score_ \n",
    "gs_rfc.best_params_['train_score'] = gs_rfc.score(X_train, y_train)\n",
    "gs_rfc.best_params_['test_score'] = gs_rfc.score(X_test, y_test)\n",
    "\n",
    "rfc_params[f'rfc_{count}'] = gs_rfc.best_params_\n",
    "\n",
    "\n",
    "rfc_df = pd.DataFrame.from_dict(rfc_params, orient = 'index')\n",
    "\n",
    "rfc_df"
   ]
  },
  {
   "cell_type": "markdown",
   "id": "edd2946e-651e-4de1-a980-7a41a9c1156f",
   "metadata": {},
   "source": [
    "This RF model is performing slightly better than the previous RF model. It has a lower score than MNB, however, it isn't as overfit as the MNB models were. Going to plot a confusion matrix and look at classification metrics."
   ]
  },
  {
   "cell_type": "code",
   "execution_count": 86,
   "id": "c645248b-7d0b-444f-9896-9ed71ba276ca",
   "metadata": {},
   "outputs": [
    {
     "data": {
      "image/png": "[encoded data removed]",
      "text/plain": [
       "<Figure size 432x288 with 1 Axes>"
      ]
     },
     "metadata": {
      "needs_background": "light"
     },
     "output_type": "display_data"
    }
   ],
   "source": [
    "preds_rfc = gs_rfc.predict(X_test)\n",
    "\n",
    "tn, fp, fn, tp = confusion_matrix(y_test, preds_rfc).ravel()\n",
    "\n",
    "plt.rcParams.update({'font.size': 12})\n",
    "plot_confusion_matrix(gs_rfc, X_test, y_test, cmap = 'Oranges', colorbar = False, display_labels = ['Oculus','PSVR']);\n",
    "plt.title('Random Forest')\n",
    "plt.savefig('./images/rf.png')"
   ]
  },
  {
   "cell_type": "markdown",
   "id": "58be529a-ffd2-49ae-91bf-1d19ea48d4d0",
   "metadata": {},
   "source": [
    "Lower amount of false positives than the MNB model(33 FP) but double the amount of false negatives. "
   ]
  },
  {
   "cell_type": "code",
   "execution_count": 87,
   "id": "80e73aed-d6bc-4075-b96f-086c6319d8ce",
   "metadata": {},
   "outputs": [
    {
     "name": "stdout",
     "output_type": "stream",
     "text": [
      "Precision Rate: 0.9708454810495627\n",
      "Specificity Rate: 0.977924944812362\n",
      "Recall Rate: 0.7350993377483444\n",
      "Misclassification: 0.14348785871964675\n",
      "F1 Score: 0.8366834170854273\n"
     ]
    }
   ],
   "source": [
    "print(f'Precision Rate: {precision_score(y_test, preds_rfc)}')\n",
    "print(f'Specificity Rate: {(tn / (tn + fp))}')\n",
    "print(f'Recall Rate: {recall_score(y_test, preds_rfc)}')\n",
    "print(f'Misclassification: {1 - (gs_rfc.score(X_test, y_test))}')\n",
    "print(f'F1 Score: {f1_score(y_test,preds_rfc)}')"
   ]
  },
  {
   "cell_type": "code",
   "execution_count": 88,
   "id": "f8d7c759-528c-4f6a-9ffd-7911726fcf73",
   "metadata": {},
   "outputs": [
    {
     "data": {
      "text/plain": [
       "0.8366834170854273"
      ]
     },
     "execution_count": 88,
     "metadata": {},
     "output_type": "execute_result"
    }
   ],
   "source": [
    "f1_score(y_test, preds_rfc)"
   ]
  },
  {
   "cell_type": "markdown",
   "id": "7958e162-ddb5-4e5d-bf82-02cc9b702ea0",
   "metadata": {},
   "source": [
    "Recall rate is performing worse than MNB and Misclassification is higher. Precision and Specificity are performing better in this model. "
   ]
  },
  {
   "cell_type": "markdown",
   "id": "c16ea9fb-18f2-4fdb-804e-fed54d7f62d3",
   "metadata": {},
   "source": [
    "### Support Vector Machines"
   ]
  },
  {
   "cell_type": "markdown",
   "id": "33c4f734-e3ab-4368-be85-daba59b585f5",
   "metadata": {},
   "source": [
    "#### SVC Using Count Vectorizer"
   ]
  },
  {
   "cell_type": "code",
   "execution_count": 89,
   "id": "b4ce4554-e20e-4ac0-8b11-46539f1a32eb",
   "metadata": {},
   "outputs": [],
   "source": [
    "count = 0 \n",
    "svc_params = {}"
   ]
  },
  {
   "cell_type": "code",
   "execution_count": 90,
   "id": "91c7340b-8aa4-49fb-a272-dea0cde67e09",
   "metadata": {},
   "outputs": [
    {
     "name": "stdout",
     "output_type": "stream",
     "text": [
      "Fitting 3 folds for each of 160 candidates, totalling 480 fits\n"
     ]
    },
    {
     "name": "stderr",
     "output_type": "stream",
     "text": [
      "/Users/jenz/opt/anaconda3/envs/dsi/lib/python3.8/site-packages/joblib/externals/loky/process_executor.py:688: UserWarning: A worker stopped while some jobs were given to the executor. This can be caused by a too short worker timeout or by a memory leak.\n",
      "  warnings.warn(\n"
     ]
    },
    {
     "data": {
      "text/html": [
       "<div>\n",
       "<style scoped>\n",
       "    .dataframe tbody tr th:only-of-type {\n",
       "        vertical-align: middle;\n",
       "    }\n",
       "\n",
       "    .dataframe tbody tr th {\n",
       "        vertical-align: top;\n",
       "    }\n",
       "\n",
       "    .dataframe thead th {\n",
       "        text-align: right;\n",
       "    }\n",
       "</style>\n",
       "<table border=\"1\" class=\"dataframe\">\n",
       "  <thead>\n",
       "    <tr style=\"text-align: right;\">\n",
       "      <th></th>\n",
       "      <th>cvec__max_df</th>\n",
       "      <th>cvec__max_features</th>\n",
       "      <th>cvec__stop_words</th>\n",
       "      <th>svc__C</th>\n",
       "      <th>svc__degree</th>\n",
       "      <th>svc__kernel</th>\n",
       "      <th>score</th>\n",
       "      <th>train_score</th>\n",
       "      <th>test_score</th>\n",
       "    </tr>\n",
       "  </thead>\n",
       "  <tbody>\n",
       "    <tr>\n",
       "      <th>svcc_1</th>\n",
       "      <td>0.7</td>\n",
       "      <td>1000</td>\n",
       "      <td>english</td>\n",
       "      <td>19.0</td>\n",
       "      <td>1</td>\n",
       "      <td>poly</td>\n",
       "      <td>0.86329</td>\n",
       "      <td>0.94087</td>\n",
       "      <td>0.857616</td>\n",
       "    </tr>\n",
       "  </tbody>\n",
       "</table>\n",
       "</div>"
      ],
      "text/plain": [
       "        cvec__max_df  cvec__max_features cvec__stop_words  svc__C  \\\n",
       "svcc_1           0.7                1000          english    19.0   \n",
       "\n",
       "        svc__degree svc__kernel    score  train_score  test_score  \n",
       "svcc_1            1        poly  0.86329      0.94087    0.857616  "
      ]
     },
     "execution_count": 90,
     "metadata": {},
     "output_type": "execute_result"
    }
   ],
   "source": [
    "X_train, X_test, y_train, y_test = train_test_split(X,y,test_size = .30, stratify = y, random_state = 321)\n",
    "\n",
    "svc_params = svc_params\n",
    "count = count\n",
    "\n",
    "svc_pipe = Pipeline([\n",
    "    ('cvec', CountVectorizer()),\n",
    "    ('svc', SVC())\n",
    "])\n",
    "\n",
    "p_grid = {\n",
    "    'svc__C' : np.linspace(1, 20, 20),\n",
    "    'svc__kernel' : ['poly'],\n",
    "    'svc__degree' : [1, 2],\n",
    "    'cvec__max_features': [1000],\n",
    "    'cvec__stop_words':[vr_english, 'english'],\n",
    "    'cvec__max_df':[0.2,0.7]\n",
    "}\n",
    "\n",
    "\n",
    "gs_svc = GridSearchCV(svc_pipe, param_grid = p_grid, cv = 3, verbose = 1, n_jobs = 2)\n",
    "gs_svc.fit(X_train, y_train)\n",
    "\n",
    "count += 1\n",
    "\n",
    "gs_svc.best_params_['score'] = gs_svc.best_score_ \n",
    "gs_svc.best_params_['train_score'] = gs_svc.score(X_train, y_train)\n",
    "gs_svc.best_params_['test_score'] = gs_svc.score(X_test, y_test)\n",
    "\n",
    "\n",
    "svc_params[f'svcc_{count}'] = gs_svc.best_params_   \n",
    "\n",
    "svc_df = pd.DataFrame.from_dict(svc_params, orient = 'index')\n",
    "\n",
    "svc_df"
   ]
  },
  {
   "cell_type": "markdown",
   "id": "6614affa-ef5d-4e9a-b5b8-89ee6a2db0f1",
   "metadata": {},
   "source": [
    "This model is very overfit and isn't performing well. Going to try using IDF."
   ]
  },
  {
   "cell_type": "markdown",
   "id": "5c0bf610-805b-4cec-bd9c-42031ff9c2ee",
   "metadata": {},
   "source": [
    "#### SVC Using IDF"
   ]
  },
  {
   "cell_type": "code",
   "execution_count": 91,
   "id": "3982604a-127b-4758-87a8-8367b8fc1400",
   "metadata": {},
   "outputs": [],
   "source": [
    "count = 0 \n",
    "svct_params = {}"
   ]
  },
  {
   "cell_type": "code",
   "execution_count": 92,
   "id": "ffb4d521-50c6-4558-96fc-7f986d10cd68",
   "metadata": {},
   "outputs": [
    {
     "name": "stdout",
     "output_type": "stream",
     "text": [
      "Fitting 3 folds for each of 40 candidates, totalling 120 fits\n"
     ]
    },
    {
     "data": {
      "text/html": [
       "<div>\n",
       "<style scoped>\n",
       "    .dataframe tbody tr th:only-of-type {\n",
       "        vertical-align: middle;\n",
       "    }\n",
       "\n",
       "    .dataframe tbody tr th {\n",
       "        vertical-align: top;\n",
       "    }\n",
       "\n",
       "    .dataframe thead th {\n",
       "        text-align: right;\n",
       "    }\n",
       "</style>\n",
       "<table border=\"1\" class=\"dataframe\">\n",
       "  <thead>\n",
       "    <tr style=\"text-align: right;\">\n",
       "      <th></th>\n",
       "      <th>cvec__max_df</th>\n",
       "      <th>cvec__max_features</th>\n",
       "      <th>cvec__stop_words</th>\n",
       "      <th>svc__C</th>\n",
       "      <th>svc__degree</th>\n",
       "      <th>svc__kernel</th>\n",
       "      <th>score</th>\n",
       "      <th>train_score</th>\n",
       "      <th>test_score</th>\n",
       "      <th>tvec__max_features</th>\n",
       "      <th>tvec__ngram_range</th>\n",
       "      <th>tvec__stop_words</th>\n",
       "    </tr>\n",
       "  </thead>\n",
       "  <tbody>\n",
       "    <tr>\n",
       "      <th>svcc_1</th>\n",
       "      <td>0.7</td>\n",
       "      <td>1000.0</td>\n",
       "      <td>english</td>\n",
       "      <td>19.0</td>\n",
       "      <td>1</td>\n",
       "      <td>poly</td>\n",
       "      <td>0.863290</td>\n",
       "      <td>0.940870</td>\n",
       "      <td>0.857616</td>\n",
       "      <td>NaN</td>\n",
       "      <td>NaN</td>\n",
       "      <td>NaN</td>\n",
       "    </tr>\n",
       "    <tr>\n",
       "      <th>svct_1</th>\n",
       "      <td>NaN</td>\n",
       "      <td>NaN</td>\n",
       "      <td>NaN</td>\n",
       "      <td>2.0</td>\n",
       "      <td>2</td>\n",
       "      <td>poly</td>\n",
       "      <td>0.875119</td>\n",
       "      <td>0.997162</td>\n",
       "      <td>0.880795</td>\n",
       "      <td>6000.0</td>\n",
       "      <td>(1, 1)</td>\n",
       "      <td>english</td>\n",
       "    </tr>\n",
       "  </tbody>\n",
       "</table>\n",
       "</div>"
      ],
      "text/plain": [
       "        cvec__max_df  cvec__max_features cvec__stop_words  svc__C  \\\n",
       "svcc_1           0.7              1000.0          english    19.0   \n",
       "svct_1           NaN                 NaN              NaN     2.0   \n",
       "\n",
       "        svc__degree svc__kernel     score  train_score  test_score  \\\n",
       "svcc_1            1        poly  0.863290     0.940870    0.857616   \n",
       "svct_1            2        poly  0.875119     0.997162    0.880795   \n",
       "\n",
       "        tvec__max_features tvec__ngram_range tvec__stop_words  \n",
       "svcc_1                 NaN               NaN              NaN  \n",
       "svct_1              6000.0            (1, 1)          english  "
      ]
     },
     "execution_count": 92,
     "metadata": {},
     "output_type": "execute_result"
    }
   ],
   "source": [
    "X_train, X_test, y_train, y_test = train_test_split(X,y,test_size = .30, stratify = y, random_state = 321)\n",
    "\n",
    "svct_params = svc_params\n",
    "count = count\n",
    "\n",
    "svct_pipe = Pipeline([\n",
    "    ('tvec', TfidfVectorizer()),\n",
    "    ('svc', SVC())\n",
    "])\n",
    "\n",
    "p_grid = {\n",
    "    'svc__C' : np.linspace(1, 20, 20),\n",
    "    'svc__kernel' : ['poly'],\n",
    "    'svc__degree' : [2],\n",
    "    'tvec__stop_words': [vr_english,'english'],\n",
    "    'tvec__ngram_range': [(1,1)],\n",
    "    'tvec__max_features':[6000]\n",
    "}\n",
    "\n",
    "gs_svct = GridSearchCV(svct_pipe, param_grid = p_grid, cv = 3, verbose = 1, n_jobs = 1)\n",
    "gs_svct.fit(X_train, y_train)\n",
    "\n",
    "count += 1\n",
    "\n",
    "gs_svct.best_params_['score'] = gs_svct.best_score_ \n",
    "gs_svct.best_params_['train_score'] = gs_svct.score(X_train, y_train)\n",
    "gs_svct.best_params_['test_score'] = gs_svct.score(X_test, y_test)\n",
    "\n",
    "svct_params[f'svct_{count}'] = gs_svct.best_params_   \n",
    "\n",
    "svct_df = pd.DataFrame.from_dict(svct_params, orient = 'index')\n",
    "\n",
    "svct_df"
   ]
  },
  {
   "cell_type": "markdown",
   "id": "e5ae85f9-06ed-428d-8384-f0d7e57abb7a",
   "metadata": {},
   "source": [
    "Setting the SVC degree to 2 improved the score, but it's still highly overfit. Going to try using CV & IDF."
   ]
  },
  {
   "cell_type": "code",
   "execution_count": 93,
   "id": "4fd0035b-09b4-4dea-83f1-d29b9a743bc6",
   "metadata": {},
   "outputs": [
    {
     "data": {
      "image/png": "[encoded data removed]",
      "text/plain": [
       "<Figure size 432x288 with 1 Axes>"
      ]
     },
     "metadata": {
      "needs_background": "light"
     },
     "output_type": "display_data"
    }
   ],
   "source": [
    "preds_svct = gs_svct.predict(X_test)\n",
    "\n",
    "tn, fp, fn, tp = confusion_matrix(y_test, preds_svct).ravel()\n",
    "\n",
    "plt.rcParams.update({'font.size': 12})\n",
    "plot_confusion_matrix(gs_svct, X_test, y_test, cmap = 'Oranges', colorbar = False, display_labels = ['Oculus','PSVR']);\n",
    "plt.title('SVC')\n",
    "plt.savefig('./images/svc.png')"
   ]
  },
  {
   "cell_type": "code",
   "execution_count": 94,
   "id": "7196afb1-9b59-4506-9a29-3ba48712dece",
   "metadata": {},
   "outputs": [
    {
     "name": "stdout",
     "output_type": "stream",
     "text": [
      "Precision Rate: 0.9156626506024096\n",
      "Specificity Rate: 0.9227373068432672\n",
      "Recall Rate: 0.8388520971302428\n",
      "Misclassification: 0.11920529801324509\n",
      "F1 Score: 0.8755760368663594\n"
     ]
    }
   ],
   "source": [
    "print(f'Precision Rate: {precision_score(y_test, preds_svct)}')\n",
    "print(f'Specificity Rate: {(tn / (tn + fp))}')\n",
    "print(f'Recall Rate: {recall_score(y_test, preds_svct)}')\n",
    "print(f'Misclassification: {1 - (gs_svct.score(X_test, y_test))}')\n",
    "print(f'F1 Score: {f1_score(y_test,preds_svct)}')"
   ]
  },
  {
   "cell_type": "markdown",
   "id": "c33a81db-5fba-4b14-a013-2459c39a8004",
   "metadata": {},
   "source": [
    "#### SVC Using CountVectorizer & IDF"
   ]
  },
  {
   "cell_type": "code",
   "execution_count": 95,
   "id": "272a9880-5b86-4c4e-8a0d-ec258328e4f3",
   "metadata": {},
   "outputs": [],
   "source": [
    "count = 0 \n",
    "svctc_params = {}"
   ]
  },
  {
   "cell_type": "code",
   "execution_count": 96,
   "id": "ba05d6db-053e-40ce-9565-d4fef34b30f5",
   "metadata": {},
   "outputs": [
    {
     "name": "stdout",
     "output_type": "stream",
     "text": [
      "Fitting 3 folds for each of 80 candidates, totalling 240 fits\n"
     ]
    },
    {
     "data": {
      "text/html": [
       "<div>\n",
       "<style scoped>\n",
       "    .dataframe tbody tr th:only-of-type {\n",
       "        vertical-align: middle;\n",
       "    }\n",
       "\n",
       "    .dataframe tbody tr th {\n",
       "        vertical-align: top;\n",
       "    }\n",
       "\n",
       "    .dataframe thead th {\n",
       "        text-align: right;\n",
       "    }\n",
       "</style>\n",
       "<table border=\"1\" class=\"dataframe\">\n",
       "  <thead>\n",
       "    <tr style=\"text-align: right;\">\n",
       "      <th></th>\n",
       "      <th>cvec__max_df</th>\n",
       "      <th>cvec__max_features</th>\n",
       "      <th>cvec__ngram_range</th>\n",
       "      <th>cvec__stop_words</th>\n",
       "      <th>svc__C</th>\n",
       "      <th>svc__degree</th>\n",
       "      <th>svc__kernel</th>\n",
       "      <th>tfidf__use_idf</th>\n",
       "      <th>score</th>\n",
       "      <th>train_score</th>\n",
       "      <th>test_score</th>\n",
       "    </tr>\n",
       "  </thead>\n",
       "  <tbody>\n",
       "    <tr>\n",
       "      <th>svct_1</th>\n",
       "      <td>0.2</td>\n",
       "      <td>3000</td>\n",
       "      <td>(1, 2)</td>\n",
       "      <td>{work, he, during, know, amp, weren't, ma, bei...</td>\n",
       "      <td>19.0</td>\n",
       "      <td>2</td>\n",
       "      <td>poly</td>\n",
       "      <td>False</td>\n",
       "      <td>0.857141</td>\n",
       "      <td>0.996216</td>\n",
       "      <td>0.856512</td>\n",
       "    </tr>\n",
       "  </tbody>\n",
       "</table>\n",
       "</div>"
      ],
      "text/plain": [
       "        cvec__max_df  cvec__max_features cvec__ngram_range  \\\n",
       "svct_1           0.2                3000            (1, 2)   \n",
       "\n",
       "                                         cvec__stop_words  svc__C  \\\n",
       "svct_1  {work, he, during, know, amp, weren't, ma, bei...    19.0   \n",
       "\n",
       "        svc__degree svc__kernel  tfidf__use_idf     score  train_score  \\\n",
       "svct_1            2        poly           False  0.857141     0.996216   \n",
       "\n",
       "        test_score  \n",
       "svct_1    0.856512  "
      ]
     },
     "execution_count": 96,
     "metadata": {},
     "output_type": "execute_result"
    }
   ],
   "source": [
    "X_train, X_test, y_train, y_test = train_test_split(X,y,test_size = .30, stratify = y, random_state = 321)\n",
    "\n",
    "svctc_params = svctc_params\n",
    "count = count\n",
    "\n",
    "svctc_pipe = Pipeline([\n",
    "    ('cvec', CountVectorizer()),\n",
    "    ('tfidf', TfidfTransformer()),\n",
    "    ('svc', SVC())\n",
    "])\n",
    "\n",
    "pipe_params = {\n",
    "    'svc__C' : np.linspace(1, 20, 20),\n",
    "    'svc__kernel' : ['poly'],\n",
    "    'svc__degree' : [2],\n",
    "    'cvec__max_features':[3000], \n",
    "    'cvec__max_df':[0.2],\n",
    "    'cvec__ngram_range':[(1,1),(1,2)],\n",
    "    'cvec__stop_words':[vr_english],\n",
    "    'tfidf__use_idf':[True,False]\n",
    "    \n",
    "}\n",
    "\n",
    "gs_svctc = GridSearchCV(svctc_pipe, param_grid = pipe_params, cv = 3, verbose = 1, n_jobs = 1)\n",
    "gs_svctc.fit(X_train, y_train)\n",
    "\n",
    "count += 1\n",
    "\n",
    "gs_svctc.best_params_['score'] = gs_svctc.best_score_ \n",
    "gs_svctc.best_params_['train_score'] = gs_svctc.score(X_train, y_train)\n",
    "gs_svctc.best_params_['test_score'] = gs_svctc.score(X_test, y_test)\n",
    "\n",
    "svctc_params[f'svct_{count}'] = gs_svctc.best_params_   \n",
    "\n",
    "svctc_df = pd.DataFrame.from_dict(svctc_params, orient = 'index')\n",
    "\n",
    "svctc_df"
   ]
  },
  {
   "cell_type": "markdown",
   "id": "b788a5ba-26d2-48d5-87de-e680b4aa5ec0",
   "metadata": {},
   "source": [
    "This model is highly overfit. Going to move on to Logistic Regression."
   ]
  },
  {
   "cell_type": "markdown",
   "id": "12105714-763f-4e64-92d9-b98aa7f7758b",
   "metadata": {},
   "source": [
    "### Logistic Regression"
   ]
  },
  {
   "cell_type": "markdown",
   "id": "5ad7683d-0c87-4765-b14d-2ae6ea3fa69d",
   "metadata": {},
   "source": [
    "#### Logistic Regression Using CountVectorizer"
   ]
  },
  {
   "cell_type": "code",
   "execution_count": 97,
   "id": "af528673-e5fa-4065-ae68-ccedb4eaa159",
   "metadata": {},
   "outputs": [],
   "source": [
    "count = 0 \n",
    "lrc_params = {}"
   ]
  },
  {
   "cell_type": "code",
   "execution_count": 98,
   "id": "0ee3b94c-2cda-4dcf-83cb-ed41cf31d5f7",
   "metadata": {},
   "outputs": [
    {
     "name": "stdout",
     "output_type": "stream",
     "text": [
      "Fitting 3 folds for each of 48 candidates, totalling 144 fits\n"
     ]
    },
    {
     "name": "stderr",
     "output_type": "stream",
     "text": [
      "/Users/jenz/opt/anaconda3/envs/dsi/lib/python3.8/site-packages/sklearn/linear_model/_sag.py:328: ConvergenceWarning: The max_iter was reached which means the coef_ did not converge\n",
      "  warnings.warn(\"The max_iter was reached which means \"\n"
     ]
    },
    {
     "data": {
      "text/html": [
       "<div>\n",
       "<style scoped>\n",
       "    .dataframe tbody tr th:only-of-type {\n",
       "        vertical-align: middle;\n",
       "    }\n",
       "\n",
       "    .dataframe tbody tr th {\n",
       "        vertical-align: top;\n",
       "    }\n",
       "\n",
       "    .dataframe thead th {\n",
       "        text-align: right;\n",
       "    }\n",
       "</style>\n",
       "<table border=\"1\" class=\"dataframe\">\n",
       "  <thead>\n",
       "    <tr style=\"text-align: right;\">\n",
       "      <th></th>\n",
       "      <th>cvec__max_df</th>\n",
       "      <th>cvec__max_features</th>\n",
       "      <th>cvec__min_df</th>\n",
       "      <th>cvec__ngram_range</th>\n",
       "      <th>cvec__stop_words</th>\n",
       "      <th>lr__l1_ratio</th>\n",
       "      <th>lr__penalty</th>\n",
       "      <th>lr__solver</th>\n",
       "      <th>score</th>\n",
       "      <th>train_score</th>\n",
       "      <th>test_score</th>\n",
       "    </tr>\n",
       "  </thead>\n",
       "  <tbody>\n",
       "    <tr>\n",
       "      <th>lrc_1</th>\n",
       "      <td>0.5</td>\n",
       "      <td>4000</td>\n",
       "      <td>3</td>\n",
       "      <td>(1, 2)</td>\n",
       "      <td>{work, he, during, know, amp, weren't, ma, bei...</td>\n",
       "      <td>0.9</td>\n",
       "      <td>elasticnet</td>\n",
       "      <td>saga</td>\n",
       "      <td>0.881263</td>\n",
       "      <td>0.899243</td>\n",
       "      <td>0.883002</td>\n",
       "    </tr>\n",
       "  </tbody>\n",
       "</table>\n",
       "</div>"
      ],
      "text/plain": [
       "       cvec__max_df  cvec__max_features  cvec__min_df cvec__ngram_range  \\\n",
       "lrc_1           0.5                4000             3            (1, 2)   \n",
       "\n",
       "                                        cvec__stop_words  lr__l1_ratio  \\\n",
       "lrc_1  {work, he, during, know, amp, weren't, ma, bei...           0.9   \n",
       "\n",
       "      lr__penalty lr__solver     score  train_score  test_score  \n",
       "lrc_1  elasticnet       saga  0.881263     0.899243    0.883002  "
      ]
     },
     "execution_count": 98,
     "metadata": {},
     "output_type": "execute_result"
    }
   ],
   "source": [
    "X_train, X_test, y_train, y_test = train_test_split(X,y,test_size = .30, stratify = y, random_state = 321)\n",
    "\n",
    "lrc_params = lrc_params  \n",
    "count = count\n",
    "\n",
    "lrc_pipe = Pipeline([\n",
    "    ('cvec', CountVectorizer()),\n",
    "    ('lr', LogisticRegression())\n",
    "])\n",
    "\n",
    "params = {\n",
    "    'lr__l1_ratio': [0.1,0.9],\n",
    "    'lr__penalty':['elasticnet'],\n",
    "    'lr__solver': ['saga'],\n",
    "    'cvec__max_features':[2000,3000,4000],\n",
    "    'cvec__stop_words':[vr_english,'english'],\n",
    "    'cvec__max_df':[0.5],\n",
    "    'cvec__min_df':[3,5],\n",
    "    'cvec__ngram_range':[(1,1),(1,2)]\n",
    "    \n",
    "}\n",
    "\n",
    "gs_lrc = GridSearchCV(lrc_pipe, param_grid=params, cv = 3, verbose = 1, n_jobs = 5)\n",
    "gs_lrc.fit(X_train, y_train)\n",
    "\n",
    "count += 1\n",
    "\n",
    "gs_lrc.best_params_['score'] = gs_lrc.best_score_ \n",
    "gs_lrc.best_params_['train_score'] = gs_lrc.score(X_train, y_train)\n",
    "gs_lrc.best_params_['test_score'] = gs_lrc.score(X_test, y_test)\n",
    "\n",
    "lrc_params[f'lrc_{count}'] = gs_lrc.best_params_   \n",
    "\n",
    "lrc_df = pd.DataFrame.from_dict(lrc_params, orient = 'index')\n",
    "\n",
    "lrc_df"
   ]
  },
  {
   "cell_type": "markdown",
   "id": "58e79c0a-d5d2-4f98-8e84-c4cdc18d06c7",
   "metadata": {},
   "source": [
    "This model looks pretty good. While it's not performing the highest on the test score, It appears to be the least overfit. Going to plot a confusion matrix and look at classification metrics."
   ]
  },
  {
   "cell_type": "markdown",
   "id": "edd6173e-39a2-4889-ae35-18ef36ae583c",
   "metadata": {},
   "source": [
    "#### Logistic Regression Using IDF"
   ]
  },
  {
   "cell_type": "code",
   "execution_count": 99,
   "id": "aee9e855-3f54-42a1-8871-1762e8e146f4",
   "metadata": {},
   "outputs": [],
   "source": [
    "count = 0\n",
    "lrt_params = {}"
   ]
  },
  {
   "cell_type": "code",
   "execution_count": 100,
   "id": "afb20e7f-800c-4462-b43e-a3c893b49c34",
   "metadata": {},
   "outputs": [
    {
     "name": "stdout",
     "output_type": "stream",
     "text": [
      "Fitting 3 folds for each of 4 candidates, totalling 12 fits\n"
     ]
    },
    {
     "data": {
      "text/html": [
       "<div>\n",
       "<style scoped>\n",
       "    .dataframe tbody tr th:only-of-type {\n",
       "        vertical-align: middle;\n",
       "    }\n",
       "\n",
       "    .dataframe tbody tr th {\n",
       "        vertical-align: top;\n",
       "    }\n",
       "\n",
       "    .dataframe thead th {\n",
       "        text-align: right;\n",
       "    }\n",
       "</style>\n",
       "<table border=\"1\" class=\"dataframe\">\n",
       "  <thead>\n",
       "    <tr style=\"text-align: right;\">\n",
       "      <th></th>\n",
       "      <th>lr__l1_ratio</th>\n",
       "      <th>lr__penalty</th>\n",
       "      <th>lr__solver</th>\n",
       "      <th>tvec__max_features</th>\n",
       "      <th>tvec__ngram_range</th>\n",
       "      <th>tvec__stop_words</th>\n",
       "      <th>score</th>\n",
       "      <th>train_score</th>\n",
       "      <th>test_score</th>\n",
       "    </tr>\n",
       "  </thead>\n",
       "  <tbody>\n",
       "    <tr>\n",
       "      <th>lrt_1</th>\n",
       "      <td>0.7</td>\n",
       "      <td>elasticnet</td>\n",
       "      <td>saga</td>\n",
       "      <td>1000</td>\n",
       "      <td>(1, 1)</td>\n",
       "      <td>{work, he, during, know, amp, weren't, ma, bei...</td>\n",
       "      <td>0.871336</td>\n",
       "      <td>0.917692</td>\n",
       "      <td>0.883002</td>\n",
       "    </tr>\n",
       "  </tbody>\n",
       "</table>\n",
       "</div>"
      ],
      "text/plain": [
       "       lr__l1_ratio lr__penalty lr__solver  tvec__max_features  \\\n",
       "lrt_1           0.7  elasticnet       saga                1000   \n",
       "\n",
       "      tvec__ngram_range                                   tvec__stop_words  \\\n",
       "lrt_1            (1, 1)  {work, he, during, know, amp, weren't, ma, bei...   \n",
       "\n",
       "          score  train_score  test_score  \n",
       "lrt_1  0.871336     0.917692    0.883002  "
      ]
     },
     "execution_count": 100,
     "metadata": {},
     "output_type": "execute_result"
    }
   ],
   "source": [
    "X_train, X_test, y_train, y_test = train_test_split(X,y,test_size = .30, stratify = y, random_state = 321)\n",
    "\n",
    "lrt_params = lrt_params  \n",
    "count = count\n",
    "\n",
    "lrt_pipe = Pipeline([\n",
    "    ('tvec', TfidfVectorizer()),\n",
    "    ('lr', LogisticRegression())\n",
    "])\n",
    "\n",
    "params = {\n",
    "    'lr__l1_ratio': [0.7,0.9],\n",
    "    'lr__penalty':['elasticnet'],\n",
    "    'lr__solver': ['saga'],\n",
    "    'tvec__max_features': [1000],\n",
    "    'tvec__stop_words': [vr_english],\n",
    "    'tvec__ngram_range': [(1,1),(1,2)]\n",
    "    \n",
    "}\n",
    "\n",
    "gs_lrt = GridSearchCV(lrt_pipe, param_grid=params, cv = 3, verbose = 1, n_jobs = 2)\n",
    "gs_lrt.fit(X_train, y_train)\n",
    "\n",
    "count += 1\n",
    "\n",
    "gs_lrt.best_params_['score'] = gs_lrt.best_score_ \n",
    "gs_lrt.best_params_['train_score'] = gs_lrt.score(X_train, y_train)\n",
    "gs_lrt.best_params_['test_score'] = gs_lrt.score(X_test, y_test)\n",
    "\n",
    "lrt_params[f'lrt_{count}'] = gs_lrt.best_params_   \n",
    "\n",
    "lrt_df = pd.DataFrame.from_dict(lrt_params, orient = 'index')\n",
    "\n",
    "lrt_df"
   ]
  },
  {
   "cell_type": "markdown",
   "id": "bf09a500-908f-4f91-be97-2678f563f8f3",
   "metadata": {},
   "source": [
    "This is performing slightly better than the previous Logistic Regression model. Going to try CV & IDF next."
   ]
  },
  {
   "cell_type": "code",
   "execution_count": 101,
   "id": "8023d431-4207-470c-bcdc-138466e2efb7",
   "metadata": {},
   "outputs": [
    {
     "data": {
      "image/png": "[encoded data removed]",
      "text/plain": [
       "<Figure size 432x288 with 1 Axes>"
      ]
     },
     "metadata": {
      "needs_background": "light"
     },
     "output_type": "display_data"
    }
   ],
   "source": [
    "preds_lrc = gs_lrc.predict(X_test)\n",
    "\n",
    "tn, fp, fn, tp = confusion_matrix(y_test, preds_lrc).ravel()\n",
    "plt.rcParams.update({'font.size': 12})\n",
    "plot_confusion_matrix(gs_lrt, X_test, y_test, cmap = 'Purples', colorbar = False, display_labels = ['Oculus','PSVR']);\n",
    "plt.title('LogisticRegression');\n",
    "plt.savefig('./images/lr.png')"
   ]
  },
  {
   "cell_type": "code",
   "execution_count": 102,
   "id": "d700a546-f8be-48b6-b016-12ddb9e1cffb",
   "metadata": {},
   "outputs": [
    {
     "name": "stdout",
     "output_type": "stream",
     "text": [
      "Precision Rate: 0.9180722891566265\n",
      "Specificity Rate: 0.9249448123620309\n",
      "Recall Rate: 0.8410596026490066\n",
      "Misclassification: 0.11699779249448128\n",
      "F1 Score: 0.8778801843317972\n"
     ]
    }
   ],
   "source": [
    "print(f'Precision Rate: {precision_score(y_test, preds_lrc)}')\n",
    "print(f'Specificity Rate: {(tn / (tn + fp))}')\n",
    "print(f'Recall Rate: {recall_score(y_test, preds_lrc)}')\n",
    "print(f'Misclassification: {1 - (gs_lrc.score(X_test, y_test))}')\n",
    "print(f'F1 Score: {f1_score(y_test,preds_lrc)}')"
   ]
  },
  {
   "cell_type": "markdown",
   "id": "bb485b6e-312a-4c95-9d5c-1eb080c8d521",
   "metadata": {},
   "source": [
    "Ok scores. Better with MNB model."
   ]
  },
  {
   "cell_type": "markdown",
   "id": "d7cc774f-9521-4336-874a-b69070ffdff2",
   "metadata": {},
   "source": [
    "#### Logistic Regression Using CountVectorizer & IDF"
   ]
  },
  {
   "cell_type": "code",
   "execution_count": 103,
   "id": "6e8dc09a-27fa-4e70-8aaf-ce9f28dda6c1",
   "metadata": {},
   "outputs": [],
   "source": [
    "count = 0\n",
    "lr_params = {}"
   ]
  },
  {
   "cell_type": "code",
   "execution_count": 104,
   "id": "95cdb63f-1366-45a3-a27e-390754de3b57",
   "metadata": {},
   "outputs": [
    {
     "name": "stdout",
     "output_type": "stream",
     "text": [
      "Fitting 3 folds for each of 96 candidates, totalling 288 fits\n"
     ]
    },
    {
     "data": {
      "text/html": [
       "<div>\n",
       "<style scoped>\n",
       "    .dataframe tbody tr th:only-of-type {\n",
       "        vertical-align: middle;\n",
       "    }\n",
       "\n",
       "    .dataframe tbody tr th {\n",
       "        vertical-align: top;\n",
       "    }\n",
       "\n",
       "    .dataframe thead th {\n",
       "        text-align: right;\n",
       "    }\n",
       "</style>\n",
       "<table border=\"1\" class=\"dataframe\">\n",
       "  <thead>\n",
       "    <tr style=\"text-align: right;\">\n",
       "      <th></th>\n",
       "      <th>cvec__max_df</th>\n",
       "      <th>cvec__max_features</th>\n",
       "      <th>cvec__ngram_range</th>\n",
       "      <th>cvec__stop_words</th>\n",
       "      <th>lr__l1_ratio</th>\n",
       "      <th>lr__penalty</th>\n",
       "      <th>lr__solver</th>\n",
       "      <th>tfidf__sublinear_tf</th>\n",
       "      <th>tfidf__use_idf</th>\n",
       "      <th>score</th>\n",
       "      <th>train_score</th>\n",
       "      <th>test_score</th>\n",
       "    </tr>\n",
       "  </thead>\n",
       "  <tbody>\n",
       "    <tr>\n",
       "      <th>lr_1</th>\n",
       "      <td>0.4</td>\n",
       "      <td>1000</td>\n",
       "      <td>(1, 1)</td>\n",
       "      <td>{work, he, during, know, amp, weren't, ma, bei...</td>\n",
       "      <td>0.7</td>\n",
       "      <td>elasticnet</td>\n",
       "      <td>saga</td>\n",
       "      <td>False</td>\n",
       "      <td>True</td>\n",
       "      <td>0.871809</td>\n",
       "      <td>0.917219</td>\n",
       "      <td>0.883002</td>\n",
       "    </tr>\n",
       "  </tbody>\n",
       "</table>\n",
       "</div>"
      ],
      "text/plain": [
       "      cvec__max_df  cvec__max_features cvec__ngram_range  \\\n",
       "lr_1           0.4                1000            (1, 1)   \n",
       "\n",
       "                                       cvec__stop_words  lr__l1_ratio  \\\n",
       "lr_1  {work, he, during, know, amp, weren't, ma, bei...           0.7   \n",
       "\n",
       "     lr__penalty lr__solver  tfidf__sublinear_tf  tfidf__use_idf     score  \\\n",
       "lr_1  elasticnet       saga                False            True  0.871809   \n",
       "\n",
       "      train_score  test_score  \n",
       "lr_1     0.917219    0.883002  "
      ]
     },
     "execution_count": 104,
     "metadata": {},
     "output_type": "execute_result"
    }
   ],
   "source": [
    "X_train, X_test, y_train, y_test = train_test_split(X,y,test_size = .30, stratify = y, random_state = 321)\n",
    "\n",
    "lr_params = lr_params\n",
    "count = count\n",
    "\n",
    "lr_pipe = Pipeline([\n",
    "    ('cvec', CountVectorizer()),\n",
    "    ('tfidf', TfidfTransformer()),\n",
    "    ('lr',LogisticRegression())\n",
    "])\n",
    "\n",
    "pipe_params = {\n",
    "    'lr__l1_ratio': [0.7],\n",
    "    'lr__penalty':['elasticnet','l1'],\n",
    "    'lr__solver': ['saga'],\n",
    "    'cvec__max_features':[1000,1500,2000], \n",
    "    'cvec__max_df':[0.3,0.4],\n",
    "    'cvec__ngram_range':[(1,1),(1,2)],\n",
    "    'cvec__stop_words':[vr_english],\n",
    "    'tfidf__use_idf':[True,False],\n",
    "    'tfidf__sublinear_tf':[True,False],\n",
    "    \n",
    "}\n",
    "\n",
    "gs_lr = GridSearchCV(lr_pipe, param_grid = pipe_params, cv = 3, verbose = 1, n_jobs = 3)\n",
    "gs_lr.fit(X_train, y_train)\n",
    "\n",
    "count += 1\n",
    "\n",
    "gs_lr.best_params_['score'] = gs_lr.best_score_ \n",
    "gs_lr.best_params_['train_score'] = gs_lr.score(X_train, y_train)\n",
    "gs_lr.best_params_['test_score'] = gs_lr.score(X_test, y_test)\n",
    "\n",
    "lr_params[f'lr_{count}'] = gs_lr.best_params_   \n",
    "\n",
    "lr_df = pd.DataFrame.from_dict(lr_params, orient = 'index')\n",
    "\n",
    "lr_df"
   ]
  },
  {
   "cell_type": "markdown",
   "id": "70d1f5dd-7492-4c45-886d-24fc1af5d1c6",
   "metadata": {},
   "source": [
    "This has the same performance as the model above. "
   ]
  },
  {
   "cell_type": "markdown",
   "id": "bcbcf1c9-f4d4-4f6f-bdd1-5a66d44d7f9e",
   "metadata": {},
   "source": [
    "### Evaluation"
   ]
  },
  {
   "cell_type": "code",
   "execution_count": 105,
   "id": "cf94108b-6844-4a7b-8632-8a15febc740e",
   "metadata": {},
   "outputs": [
    {
     "data": {
      "text/html": [
       "<div>\n",
       "<style scoped>\n",
       "    .dataframe tbody tr th:only-of-type {\n",
       "        vertical-align: middle;\n",
       "    }\n",
       "\n",
       "    .dataframe tbody tr th {\n",
       "        vertical-align: top;\n",
       "    }\n",
       "\n",
       "    .dataframe thead th {\n",
       "        text-align: right;\n",
       "    }\n",
       "</style>\n",
       "<table border=\"1\" class=\"dataframe\">\n",
       "  <thead>\n",
       "    <tr style=\"text-align: right;\">\n",
       "      <th></th>\n",
       "      <th>tvec__max_df</th>\n",
       "      <th>tvec__max_features</th>\n",
       "      <th>tvec__min_df</th>\n",
       "      <th>tvec__ngram_range</th>\n",
       "      <th>tvec__stop_words</th>\n",
       "      <th>score</th>\n",
       "      <th>train_score</th>\n",
       "      <th>test_score</th>\n",
       "      <th>cvec__max_df</th>\n",
       "      <th>cvec__max_features</th>\n",
       "      <th>cvec__ngram_range</th>\n",
       "      <th>cvec__stop_words</th>\n",
       "      <th>tfidf__use_idf</th>\n",
       "      <th>rf__bootstrap</th>\n",
       "      <th>rf__ccp_alpha</th>\n",
       "      <th>rf__max_depth</th>\n",
       "      <th>rf__max_features</th>\n",
       "      <th>rf__n_estimators</th>\n",
       "      <th>svc__C</th>\n",
       "      <th>svc__degree</th>\n",
       "      <th>svc__kernel</th>\n",
       "      <th>cvec__min_df</th>\n",
       "      <th>lr__l1_ratio</th>\n",
       "      <th>lr__penalty</th>\n",
       "      <th>lr__solver</th>\n",
       "      <th>tfidf__sublinear_tf</th>\n",
       "    </tr>\n",
       "  </thead>\n",
       "  <tbody>\n",
       "    <tr>\n",
       "      <th>nbt_1</th>\n",
       "      <td>NaN</td>\n",
       "      <td>NaN</td>\n",
       "      <td>NaN</td>\n",
       "      <td>NaN</td>\n",
       "      <td>NaN</td>\n",
       "      <td>0.880793</td>\n",
       "      <td>0.950331</td>\n",
       "      <td>0.902870</td>\n",
       "      <td>0.3</td>\n",
       "      <td>5000.0</td>\n",
       "      <td>(1, 1)</td>\n",
       "      <td>{work, he, during, know, amp, weren't, ma, bei...</td>\n",
       "      <td>False</td>\n",
       "      <td>NaN</td>\n",
       "      <td>NaN</td>\n",
       "      <td>NaN</td>\n",
       "      <td>NaN</td>\n",
       "      <td>NaN</td>\n",
       "      <td>NaN</td>\n",
       "      <td>NaN</td>\n",
       "      <td>NaN</td>\n",
       "      <td>NaN</td>\n",
       "      <td>NaN</td>\n",
       "      <td>NaN</td>\n",
       "      <td>NaN</td>\n",
       "      <td>NaN</td>\n",
       "    </tr>\n",
       "    <tr>\n",
       "      <th>nbt_1</th>\n",
       "      <td>0.25</td>\n",
       "      <td>5000.0</td>\n",
       "      <td>2.0</td>\n",
       "      <td>(1, 2)</td>\n",
       "      <td>{work, he, during, know, amp, weren't, ma, bei...</td>\n",
       "      <td>0.869439</td>\n",
       "      <td>0.950331</td>\n",
       "      <td>0.885210</td>\n",
       "      <td>NaN</td>\n",
       "      <td>NaN</td>\n",
       "      <td>NaN</td>\n",
       "      <td>NaN</td>\n",
       "      <td>NaN</td>\n",
       "      <td>NaN</td>\n",
       "      <td>NaN</td>\n",
       "      <td>NaN</td>\n",
       "      <td>NaN</td>\n",
       "      <td>NaN</td>\n",
       "      <td>NaN</td>\n",
       "      <td>NaN</td>\n",
       "      <td>NaN</td>\n",
       "      <td>NaN</td>\n",
       "      <td>NaN</td>\n",
       "      <td>NaN</td>\n",
       "      <td>NaN</td>\n",
       "      <td>NaN</td>\n",
       "    </tr>\n",
       "    <tr>\n",
       "      <th>lrc_1</th>\n",
       "      <td>NaN</td>\n",
       "      <td>NaN</td>\n",
       "      <td>NaN</td>\n",
       "      <td>NaN</td>\n",
       "      <td>NaN</td>\n",
       "      <td>0.881263</td>\n",
       "      <td>0.899243</td>\n",
       "      <td>0.883002</td>\n",
       "      <td>0.5</td>\n",
       "      <td>4000.0</td>\n",
       "      <td>(1, 2)</td>\n",
       "      <td>{work, he, during, know, amp, weren't, ma, bei...</td>\n",
       "      <td>NaN</td>\n",
       "      <td>NaN</td>\n",
       "      <td>NaN</td>\n",
       "      <td>NaN</td>\n",
       "      <td>NaN</td>\n",
       "      <td>NaN</td>\n",
       "      <td>NaN</td>\n",
       "      <td>NaN</td>\n",
       "      <td>NaN</td>\n",
       "      <td>3.0</td>\n",
       "      <td>0.9</td>\n",
       "      <td>elasticnet</td>\n",
       "      <td>saga</td>\n",
       "      <td>NaN</td>\n",
       "    </tr>\n",
       "    <tr>\n",
       "      <th>lrt_1</th>\n",
       "      <td>NaN</td>\n",
       "      <td>1000.0</td>\n",
       "      <td>NaN</td>\n",
       "      <td>(1, 1)</td>\n",
       "      <td>{work, he, during, know, amp, weren't, ma, bei...</td>\n",
       "      <td>0.871336</td>\n",
       "      <td>0.917692</td>\n",
       "      <td>0.883002</td>\n",
       "      <td>NaN</td>\n",
       "      <td>NaN</td>\n",
       "      <td>NaN</td>\n",
       "      <td>NaN</td>\n",
       "      <td>NaN</td>\n",
       "      <td>NaN</td>\n",
       "      <td>NaN</td>\n",
       "      <td>NaN</td>\n",
       "      <td>NaN</td>\n",
       "      <td>NaN</td>\n",
       "      <td>NaN</td>\n",
       "      <td>NaN</td>\n",
       "      <td>NaN</td>\n",
       "      <td>NaN</td>\n",
       "      <td>0.7</td>\n",
       "      <td>elasticnet</td>\n",
       "      <td>saga</td>\n",
       "      <td>NaN</td>\n",
       "    </tr>\n",
       "    <tr>\n",
       "      <th>lr_1</th>\n",
       "      <td>NaN</td>\n",
       "      <td>NaN</td>\n",
       "      <td>NaN</td>\n",
       "      <td>NaN</td>\n",
       "      <td>NaN</td>\n",
       "      <td>0.871809</td>\n",
       "      <td>0.917219</td>\n",
       "      <td>0.883002</td>\n",
       "      <td>0.4</td>\n",
       "      <td>1000.0</td>\n",
       "      <td>(1, 1)</td>\n",
       "      <td>{work, he, during, know, amp, weren't, ma, bei...</td>\n",
       "      <td>True</td>\n",
       "      <td>NaN</td>\n",
       "      <td>NaN</td>\n",
       "      <td>NaN</td>\n",
       "      <td>NaN</td>\n",
       "      <td>NaN</td>\n",
       "      <td>NaN</td>\n",
       "      <td>NaN</td>\n",
       "      <td>NaN</td>\n",
       "      <td>NaN</td>\n",
       "      <td>0.7</td>\n",
       "      <td>elasticnet</td>\n",
       "      <td>saga</td>\n",
       "      <td>False</td>\n",
       "    </tr>\n",
       "    <tr>\n",
       "      <th>svct_1</th>\n",
       "      <td>NaN</td>\n",
       "      <td>6000.0</td>\n",
       "      <td>NaN</td>\n",
       "      <td>(1, 1)</td>\n",
       "      <td>english</td>\n",
       "      <td>0.875119</td>\n",
       "      <td>0.997162</td>\n",
       "      <td>0.880795</td>\n",
       "      <td>NaN</td>\n",
       "      <td>NaN</td>\n",
       "      <td>NaN</td>\n",
       "      <td>NaN</td>\n",
       "      <td>NaN</td>\n",
       "      <td>NaN</td>\n",
       "      <td>NaN</td>\n",
       "      <td>NaN</td>\n",
       "      <td>NaN</td>\n",
       "      <td>NaN</td>\n",
       "      <td>2.0</td>\n",
       "      <td>2.0</td>\n",
       "      <td>poly</td>\n",
       "      <td>NaN</td>\n",
       "      <td>NaN</td>\n",
       "      <td>NaN</td>\n",
       "      <td>NaN</td>\n",
       "      <td>NaN</td>\n",
       "    </tr>\n",
       "    <tr>\n",
       "      <th>nbc_1</th>\n",
       "      <td>NaN</td>\n",
       "      <td>NaN</td>\n",
       "      <td>NaN</td>\n",
       "      <td>NaN</td>\n",
       "      <td>NaN</td>\n",
       "      <td>0.848148</td>\n",
       "      <td>0.900662</td>\n",
       "      <td>0.862031</td>\n",
       "      <td>0.3</td>\n",
       "      <td>3000.0</td>\n",
       "      <td>(1, 1)</td>\n",
       "      <td>{work, he, during, know, amp, weren't, ma, bei...</td>\n",
       "      <td>NaN</td>\n",
       "      <td>NaN</td>\n",
       "      <td>NaN</td>\n",
       "      <td>NaN</td>\n",
       "      <td>NaN</td>\n",
       "      <td>NaN</td>\n",
       "      <td>NaN</td>\n",
       "      <td>NaN</td>\n",
       "      <td>NaN</td>\n",
       "      <td>NaN</td>\n",
       "      <td>NaN</td>\n",
       "      <td>NaN</td>\n",
       "      <td>NaN</td>\n",
       "      <td>NaN</td>\n",
       "    </tr>\n",
       "    <tr>\n",
       "      <th>svcc_1</th>\n",
       "      <td>NaN</td>\n",
       "      <td>NaN</td>\n",
       "      <td>NaN</td>\n",
       "      <td>NaN</td>\n",
       "      <td>NaN</td>\n",
       "      <td>0.863290</td>\n",
       "      <td>0.940870</td>\n",
       "      <td>0.857616</td>\n",
       "      <td>0.7</td>\n",
       "      <td>1000.0</td>\n",
       "      <td>NaN</td>\n",
       "      <td>english</td>\n",
       "      <td>NaN</td>\n",
       "      <td>NaN</td>\n",
       "      <td>NaN</td>\n",
       "      <td>NaN</td>\n",
       "      <td>NaN</td>\n",
       "      <td>NaN</td>\n",
       "      <td>19.0</td>\n",
       "      <td>1.0</td>\n",
       "      <td>poly</td>\n",
       "      <td>NaN</td>\n",
       "      <td>NaN</td>\n",
       "      <td>NaN</td>\n",
       "      <td>NaN</td>\n",
       "      <td>NaN</td>\n",
       "    </tr>\n",
       "    <tr>\n",
       "      <th>svcc_1</th>\n",
       "      <td>NaN</td>\n",
       "      <td>NaN</td>\n",
       "      <td>NaN</td>\n",
       "      <td>NaN</td>\n",
       "      <td>NaN</td>\n",
       "      <td>0.863290</td>\n",
       "      <td>0.940870</td>\n",
       "      <td>0.857616</td>\n",
       "      <td>0.7</td>\n",
       "      <td>1000.0</td>\n",
       "      <td>NaN</td>\n",
       "      <td>english</td>\n",
       "      <td>NaN</td>\n",
       "      <td>NaN</td>\n",
       "      <td>NaN</td>\n",
       "      <td>NaN</td>\n",
       "      <td>NaN</td>\n",
       "      <td>NaN</td>\n",
       "      <td>19.0</td>\n",
       "      <td>1.0</td>\n",
       "      <td>poly</td>\n",
       "      <td>NaN</td>\n",
       "      <td>NaN</td>\n",
       "      <td>NaN</td>\n",
       "      <td>NaN</td>\n",
       "      <td>NaN</td>\n",
       "    </tr>\n",
       "    <tr>\n",
       "      <th>rfc_1</th>\n",
       "      <td>NaN</td>\n",
       "      <td>NaN</td>\n",
       "      <td>NaN</td>\n",
       "      <td>NaN</td>\n",
       "      <td>NaN</td>\n",
       "      <td>0.873228</td>\n",
       "      <td>0.866131</td>\n",
       "      <td>0.856512</td>\n",
       "      <td>0.7</td>\n",
       "      <td>1000.0</td>\n",
       "      <td>(1, 1)</td>\n",
       "      <td>{work, he, during, know, amp, weren't, ma, bei...</td>\n",
       "      <td>NaN</td>\n",
       "      <td>True</td>\n",
       "      <td>0.0010</td>\n",
       "      <td>4.0</td>\n",
       "      <td>sqrt</td>\n",
       "      <td>75.0</td>\n",
       "      <td>NaN</td>\n",
       "      <td>NaN</td>\n",
       "      <td>NaN</td>\n",
       "      <td>NaN</td>\n",
       "      <td>NaN</td>\n",
       "      <td>NaN</td>\n",
       "      <td>NaN</td>\n",
       "      <td>NaN</td>\n",
       "    </tr>\n",
       "    <tr>\n",
       "      <th>svct_1</th>\n",
       "      <td>NaN</td>\n",
       "      <td>NaN</td>\n",
       "      <td>NaN</td>\n",
       "      <td>NaN</td>\n",
       "      <td>NaN</td>\n",
       "      <td>0.857141</td>\n",
       "      <td>0.996216</td>\n",
       "      <td>0.856512</td>\n",
       "      <td>0.2</td>\n",
       "      <td>3000.0</td>\n",
       "      <td>(1, 2)</td>\n",
       "      <td>{work, he, during, know, amp, weren't, ma, bei...</td>\n",
       "      <td>False</td>\n",
       "      <td>NaN</td>\n",
       "      <td>NaN</td>\n",
       "      <td>NaN</td>\n",
       "      <td>NaN</td>\n",
       "      <td>NaN</td>\n",
       "      <td>19.0</td>\n",
       "      <td>2.0</td>\n",
       "      <td>poly</td>\n",
       "      <td>NaN</td>\n",
       "      <td>NaN</td>\n",
       "      <td>NaN</td>\n",
       "      <td>NaN</td>\n",
       "      <td>NaN</td>\n",
       "    </tr>\n",
       "    <tr>\n",
       "      <th>rft_1</th>\n",
       "      <td>NaN</td>\n",
       "      <td>1000.0</td>\n",
       "      <td>11.0</td>\n",
       "      <td>(1, 1)</td>\n",
       "      <td>{work, he, during, know, amp, weren't, ma, bei...</td>\n",
       "      <td>0.867076</td>\n",
       "      <td>0.873226</td>\n",
       "      <td>0.855408</td>\n",
       "      <td>NaN</td>\n",
       "      <td>NaN</td>\n",
       "      <td>NaN</td>\n",
       "      <td>NaN</td>\n",
       "      <td>NaN</td>\n",
       "      <td>True</td>\n",
       "      <td>0.0001</td>\n",
       "      <td>4.0</td>\n",
       "      <td>sqrt</td>\n",
       "      <td>80.0</td>\n",
       "      <td>NaN</td>\n",
       "      <td>NaN</td>\n",
       "      <td>NaN</td>\n",
       "      <td>NaN</td>\n",
       "      <td>NaN</td>\n",
       "      <td>NaN</td>\n",
       "      <td>NaN</td>\n",
       "      <td>NaN</td>\n",
       "    </tr>\n",
       "  </tbody>\n",
       "</table>\n",
       "</div>"
      ],
      "text/plain": [
       "        tvec__max_df  tvec__max_features  tvec__min_df tvec__ngram_range  \\\n",
       "nbt_1            NaN                 NaN           NaN               NaN   \n",
       "nbt_1           0.25              5000.0           2.0            (1, 2)   \n",
       "lrc_1            NaN                 NaN           NaN               NaN   \n",
       "lrt_1            NaN              1000.0           NaN            (1, 1)   \n",
       "lr_1             NaN                 NaN           NaN               NaN   \n",
       "svct_1           NaN              6000.0           NaN            (1, 1)   \n",
       "nbc_1            NaN                 NaN           NaN               NaN   \n",
       "svcc_1           NaN                 NaN           NaN               NaN   \n",
       "svcc_1           NaN                 NaN           NaN               NaN   \n",
       "rfc_1            NaN                 NaN           NaN               NaN   \n",
       "svct_1           NaN                 NaN           NaN               NaN   \n",
       "rft_1            NaN              1000.0          11.0            (1, 1)   \n",
       "\n",
       "                                         tvec__stop_words     score  \\\n",
       "nbt_1                                                 NaN  0.880793   \n",
       "nbt_1   {work, he, during, know, amp, weren't, ma, bei...  0.869439   \n",
       "lrc_1                                                 NaN  0.881263   \n",
       "lrt_1   {work, he, during, know, amp, weren't, ma, bei...  0.871336   \n",
       "lr_1                                                  NaN  0.871809   \n",
       "svct_1                                            english  0.875119   \n",
       "nbc_1                                                 NaN  0.848148   \n",
       "svcc_1                                                NaN  0.863290   \n",
       "svcc_1                                                NaN  0.863290   \n",
       "rfc_1                                                 NaN  0.873228   \n",
       "svct_1                                                NaN  0.857141   \n",
       "rft_1   {work, he, during, know, amp, weren't, ma, bei...  0.867076   \n",
       "\n",
       "        train_score  test_score  cvec__max_df  cvec__max_features  \\\n",
       "nbt_1      0.950331    0.902870           0.3              5000.0   \n",
       "nbt_1      0.950331    0.885210           NaN                 NaN   \n",
       "lrc_1      0.899243    0.883002           0.5              4000.0   \n",
       "lrt_1      0.917692    0.883002           NaN                 NaN   \n",
       "lr_1       0.917219    0.883002           0.4              1000.0   \n",
       "svct_1     0.997162    0.880795           NaN                 NaN   \n",
       "nbc_1      0.900662    0.862031           0.3              3000.0   \n",
       "svcc_1     0.940870    0.857616           0.7              1000.0   \n",
       "svcc_1     0.940870    0.857616           0.7              1000.0   \n",
       "rfc_1      0.866131    0.856512           0.7              1000.0   \n",
       "svct_1     0.996216    0.856512           0.2              3000.0   \n",
       "rft_1      0.873226    0.855408           NaN                 NaN   \n",
       "\n",
       "       cvec__ngram_range                                   cvec__stop_words  \\\n",
       "nbt_1             (1, 1)  {work, he, during, know, amp, weren't, ma, bei...   \n",
       "nbt_1                NaN                                                NaN   \n",
       "lrc_1             (1, 2)  {work, he, during, know, amp, weren't, ma, bei...   \n",
       "lrt_1                NaN                                                NaN   \n",
       "lr_1              (1, 1)  {work, he, during, know, amp, weren't, ma, bei...   \n",
       "svct_1               NaN                                                NaN   \n",
       "nbc_1             (1, 1)  {work, he, during, know, amp, weren't, ma, bei...   \n",
       "svcc_1               NaN                                            english   \n",
       "svcc_1               NaN                                            english   \n",
       "rfc_1             (1, 1)  {work, he, during, know, amp, weren't, ma, bei...   \n",
       "svct_1            (1, 2)  {work, he, during, know, amp, weren't, ma, bei...   \n",
       "rft_1                NaN                                                NaN   \n",
       "\n",
       "       tfidf__use_idf rf__bootstrap  rf__ccp_alpha  rf__max_depth  \\\n",
       "nbt_1           False           NaN            NaN            NaN   \n",
       "nbt_1             NaN           NaN            NaN            NaN   \n",
       "lrc_1             NaN           NaN            NaN            NaN   \n",
       "lrt_1             NaN           NaN            NaN            NaN   \n",
       "lr_1             True           NaN            NaN            NaN   \n",
       "svct_1            NaN           NaN            NaN            NaN   \n",
       "nbc_1             NaN           NaN            NaN            NaN   \n",
       "svcc_1            NaN           NaN            NaN            NaN   \n",
       "svcc_1            NaN           NaN            NaN            NaN   \n",
       "rfc_1             NaN          True         0.0010            4.0   \n",
       "svct_1          False           NaN            NaN            NaN   \n",
       "rft_1             NaN          True         0.0001            4.0   \n",
       "\n",
       "       rf__max_features  rf__n_estimators  svc__C  svc__degree svc__kernel  \\\n",
       "nbt_1               NaN               NaN     NaN          NaN         NaN   \n",
       "nbt_1               NaN               NaN     NaN          NaN         NaN   \n",
       "lrc_1               NaN               NaN     NaN          NaN         NaN   \n",
       "lrt_1               NaN               NaN     NaN          NaN         NaN   \n",
       "lr_1                NaN               NaN     NaN          NaN         NaN   \n",
       "svct_1              NaN               NaN     2.0          2.0        poly   \n",
       "nbc_1               NaN               NaN     NaN          NaN         NaN   \n",
       "svcc_1              NaN               NaN    19.0          1.0        poly   \n",
       "svcc_1              NaN               NaN    19.0          1.0        poly   \n",
       "rfc_1              sqrt              75.0     NaN          NaN         NaN   \n",
       "svct_1              NaN               NaN    19.0          2.0        poly   \n",
       "rft_1              sqrt              80.0     NaN          NaN         NaN   \n",
       "\n",
       "        cvec__min_df  lr__l1_ratio lr__penalty lr__solver tfidf__sublinear_tf  \n",
       "nbt_1            NaN           NaN         NaN        NaN                 NaN  \n",
       "nbt_1            NaN           NaN         NaN        NaN                 NaN  \n",
       "lrc_1            3.0           0.9  elasticnet       saga                 NaN  \n",
       "lrt_1            NaN           0.7  elasticnet       saga                 NaN  \n",
       "lr_1             NaN           0.7  elasticnet       saga               False  \n",
       "svct_1           NaN           NaN         NaN        NaN                 NaN  \n",
       "nbc_1            NaN           NaN         NaN        NaN                 NaN  \n",
       "svcc_1           NaN           NaN         NaN        NaN                 NaN  \n",
       "svcc_1           NaN           NaN         NaN        NaN                 NaN  \n",
       "rfc_1            NaN           NaN         NaN        NaN                 NaN  \n",
       "svct_1           NaN           NaN         NaN        NaN                 NaN  \n",
       "rft_1            NaN           NaN         NaN        NaN                 NaN  "
      ]
     },
     "execution_count": 105,
     "metadata": {},
     "output_type": "execute_result"
    }
   ],
   "source": [
    "master = pd.concat([nb_tvec_df, nb_cvec_df, nb_df, rft_df, rfc_df, svc_df, svct_df, svctc_df, lrc_df, lrt_df, lr_df], join = 'outer' )\n",
    "master.sort_values(by = 'test_score', ascending = False)"
   ]
  },
  {
   "cell_type": "code",
   "execution_count": 106,
   "id": "68c7a2f8-a718-49db-8d23-61be5aa6df79",
   "metadata": {},
   "outputs": [],
   "source": [
    "master.to_csv('./data/master_df.csv')"
   ]
  },
  {
   "cell_type": "markdown",
   "id": "f547bae2-2078-4c5b-9feb-0763a74af967",
   "metadata": {},
   "source": [
    "#### Classification Metrics - In Addition to Accuracy"
   ]
  },
  {
   "cell_type": "code",
   "execution_count": 107,
   "id": "48c62ca7-fa33-4fc8-91b8-f411f59b3bcc",
   "metadata": {},
   "outputs": [
    {
     "name": "stdout",
     "output_type": "stream",
     "text": [
      "Precision Rate: 0.9234338747099768\n",
      "Specificity Rate: 0.9249448123620309\n",
      "Recall Rate: 0.8785871964679912\n",
      "Misclassification: 0.09713024282560712\n",
      "F1 Score: 0.9004524886877828\n"
     ]
    }
   ],
   "source": [
    "# MNB\n",
    "print(f'Precision Rate: {precision_score(y_test, preds_nb)}')\n",
    "print(f'Specificity Rate: {(tn / (tn + fp))}')\n",
    "print(f'Recall Rate: {recall_score(y_test, preds_nb)}')\n",
    "print(f'Misclassification: {1 - (gs_nb.score(X_test, y_test))}')\n",
    "print(f'F1 Score: {f1_score(y_test,preds_nb)}')"
   ]
  },
  {
   "cell_type": "code",
   "execution_count": 108,
   "id": "d244c5b8-854c-4dc5-9868-58428386a40e",
   "metadata": {},
   "outputs": [
    {
     "name": "stdout",
     "output_type": "stream",
     "text": [
      "Precision Rate: 0.9708454810495627\n",
      "Specificity Rate: 0.9249448123620309\n",
      "Recall Rate: 0.7350993377483444\n",
      "Misclassification: 0.14348785871964675\n",
      "F1 Score: 0.8366834170854273\n"
     ]
    }
   ],
   "source": [
    "# RF\n",
    "print(f'Precision Rate: {precision_score(y_test, preds_rfc)}')\n",
    "print(f'Specificity Rate: {(tn / (tn + fp))}')\n",
    "print(f'Recall Rate: {recall_score(y_test, preds_rfc)}')\n",
    "print(f'Misclassification: {1 - (gs_rfc.score(X_test, y_test))}')\n",
    "print(f'F1 Score: {f1_score(y_test,preds_rfc)}')"
   ]
  },
  {
   "cell_type": "code",
   "execution_count": 109,
   "id": "b83b297c-f73f-4115-ad46-6ca086be57f6",
   "metadata": {},
   "outputs": [
    {
     "name": "stdout",
     "output_type": "stream",
     "text": [
      "Precision Rate: 0.9180722891566265\n",
      "Specificity Rate: 0.9249448123620309\n",
      "Recall Rate: 0.8410596026490066\n",
      "Misclassification: 0.11699779249448128\n",
      "F1 Score: 0.8778801843317972\n"
     ]
    }
   ],
   "source": [
    "# LR\n",
    "print(f'Precision Rate: {precision_score(y_test, preds_lrc)}')\n",
    "print(f'Specificity Rate: {(tn / (tn + fp))}')\n",
    "print(f'Recall Rate: {recall_score(y_test, preds_lrc)}')\n",
    "print(f'Misclassification: {1 - (gs_lrc.score(X_test, y_test))}')\n",
    "print(f'F1 Score: {f1_score(y_test,preds_lrc)}')"
   ]
  },
  {
   "cell_type": "code",
   "execution_count": 110,
   "id": "3794d770-16f5-4beb-a7c5-7dd167f24455",
   "metadata": {},
   "outputs": [
    {
     "name": "stdout",
     "output_type": "stream",
     "text": [
      "Precision Rate: 0.9156626506024096\n",
      "Specificity Rate: 0.9249448123620309\n",
      "Recall Rate: 0.8388520971302428\n",
      "Misclassification: 0.11920529801324509\n",
      "F1 Score: 0.8755760368663594\n"
     ]
    }
   ],
   "source": [
    "# SVC\n",
    "print(f'Precision Rate: {precision_score(y_test, preds_svct)}')\n",
    "print(f'Specificity Rate: {(tn / (tn + fp))}')\n",
    "print(f'Recall Rate: {recall_score(y_test, preds_svct)}')\n",
    "print(f'Misclassification: {1 - (gs_svct.score(X_test, y_test))}')\n",
    "print(f'F1 Score: {f1_score(y_test,preds_svct)}')"
   ]
  },
  {
   "cell_type": "markdown",
   "id": "2301dd27-e736-46bb-8b05-3a90c157efaa",
   "metadata": {},
   "source": [
    "### Evaluation"
   ]
  },
  {
   "cell_type": "markdown",
   "id": "b9e03bd6-158a-45a5-aa26-79f93138bdb7",
   "metadata": {},
   "source": [
    "Since we were not biased against False Negatives compared to False Positives, the F1 score was the score that was the final determinant to which model to go with. The MNB model had the best accuracy score, Recall Rate, Misclassification Rate, and F1 Score compared to the other models tested.\n",
    "\n",
    "MNB Metric Evaluation: \n",
    "- Accuracy: 0.902\n",
    "    * This is the rate of submissions I correctly predicted\n",
    "- Misclassification: 0.097\n",
    "    * This is the rate of submissions I incorrectly predicted\n",
    "- Specificity: 0.924\n",
    "    * Among all of the submissions, I predicted the correct subreddit at this rate. \n",
    "- Recall: 0.878\n",
    "    * Among the submissions that belong to the subreddit, Oculus, I predicted them correctly at this rate.\n",
    "- Precision: 0.097\n",
    "    * Among the submissions that belong to the subreddit, PSVR, I predicted them correctly at this rate.\n",
    "- F1 Score: 0.900\n",
    "    * Since we are not biased to PSVR or Oculus, this is the mean score of precision and recall."
   ]
  },
  {
   "cell_type": "markdown",
   "id": "dcf8a4b2-3fd5-475c-904e-118965c19793",
   "metadata": {},
   "source": [
    "### Conclusions and Recommendations "
   ]
  },
  {
   "cell_type": "markdown",
   "id": "ca2e2f3e-9c67-4f4d-ba78-de0fde457717",
   "metadata": {},
   "source": [
    "#### Conclusions\n",
    "After fitting a plethora of models, it turns out my best model was my first model, Multinomial Naive Bayes. With an accuracy rate of 90.2% , this model performed 40.2% better than the baseline model. \n",
    "\n",
    "A Multinomial Naive Bayes model with Count Vectorization and the following parameters should be used for predicting whether a submission comes from the r/oculus or r/PSVR subreddit: \n",
    "- max_df: 0.3\n",
    "- max_features: 5000\n",
    "- ngram_range: (1,1)\n",
    "- stop_words: english + 150 of the most common words\n",
    "\n",
    "However, this model still needs some improvement as about 9% of the submissions were being misclassified.\n"
   ]
  },
  {
   "cell_type": "markdown",
   "id": "26d3eaf6-1354-4f3b-b2b0-6c3bdffdfd5c",
   "metadata": {},
   "source": [
    "#### Recommendations\n",
    "\n",
    "While this is a great model, I think it could use some improvement before deploying it across the video game prediction algorithms. \n",
    "<br>\n",
    "<br>\n",
    "My recommendations include: \n",
    "- Since the Oculus subreddit was misclassified at a higher rate than the PSVR subreddit, I recommend optimizing for recall.\n",
    "- Focus on Feature Engineering\n",
    "    * Try other text processing methods\n",
    "        - Lemmatization, Stemming, Wor2vec\n",
    "    * Try adding additional features like title and/or UTC\n",
    "- Test other models and parameters\n",
    "- Test on different types of video game subreddits\n",
    "\n",
    "\n",
    "After a little more fine-tuning, I believe this will be a successful model to be used across the division.\n"
   ]
  }
 ],
 "metadata": {
  "kernelspec": {
   "display_name": "Python 3 (ipykernel)",
   "language": "python",
   "name": "python3"
  },
  "language_info": {
   "codemirror_mode": {
    "name": "ipython",
    "version": 3
   },
   "file_extension": ".py",
   "mimetype": "text/x-python",
   "name": "python",
   "nbconvert_exporter": "python",
   "pygments_lexer": "ipython3",
   "version": "3.8.8"
  }
 },
 "nbformat": 4,
 "nbformat_minor": 5
}
