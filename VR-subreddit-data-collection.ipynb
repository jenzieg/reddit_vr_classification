{
 "cells": [
  {
   "cell_type": "markdown",
   "id": "69a30ab8-60d2-4b09-97de-a1ea5d46c18d",
   "metadata": {},
   "source": [
    "# VR Subreddit Data Collection"
   ]
  },
  {
   "cell_type": "markdown",
   "id": "7555aa72-bd29-4327-8cfa-1a2e4a8a3b11",
   "metadata": {},
   "source": [
    "## Importing Libraries"
   ]
  },
  {
   "cell_type": "code",
   "execution_count": null,
   "id": "dd883d9d-08c8-4223-8b7c-1310c03c0fc4",
   "metadata": {},
   "outputs": [],
   "source": [
    "import pandas as pd \n",
    "import numpy as np\n",
    "import requests\n",
    "import time"
   ]
  },
  {
   "cell_type": "code",
   "execution_count": null,
   "id": "4c391319-b357-42d7-9e98-cca991ea6819",
   "metadata": {},
   "outputs": [],
   "source": [
    "# url for API pull\n",
    "url = 'https://api.pushshift.io/reddit/search/submission'"
   ]
  },
  {
   "cell_type": "markdown",
   "id": "5d76f477-9dab-4262-b729-83475ba86b86",
   "metadata": {},
   "source": [
    "### Oculus"
   ]
  },
  {
   "cell_type": "code",
   "execution_count": null,
   "id": "9d7fd694-b655-4440-98ae-896f138f26dd",
   "metadata": {},
   "outputs": [],
   "source": [
    "# Request for API pull\n",
    "\n",
    "max_len = 1_500  # Setting max length of dataframe\n",
    "comments_df = []\n",
    "\n",
    "def subreddit(date):\n",
    "    loop = 0\n",
    "    while len(comments_df) < max_len:   # While comments_df < max_len proceed with loop\n",
    "        try:\n",
    "            loop = loop + 1   # Counter\n",
    "            res = requests.get(url,params = {'subreddit':'oculus','size': 500, 'before': date})  # Parameters for request\n",
    "            print(f'status code: {res.status_code}, loop # {loop}')   # Print status code and loop count\n",
    "            time.sleep(2)  # Requests per second\n",
    "            data = res.json()  # Converting to JSON\n",
    "            comments = data['data']\n",
    "            date = comments[-1]['created_utc'] - 388800 # Setting date requests for every 4.5 days\n",
    "            for comment in comments:  # Setting conditions to avoid duplicates\n",
    "                if comment['id'] not in comments_df and comment['selftext'] not in comments_df and comment['selftext'] != 'NaN' and comment['selftext'] != '' and comment['selftext'] != '[removed]' and comment['selftext'] != '[deleted]' and comment['selftext'] != 'Title':\n",
    "                    comments_df.append(comment)\n",
    "                    \n",
    "        except:\n",
    "            print(f'Error on loop {loop}. Continue running')\n",
    "            date = comments[-1]['created_utc'] - 86400  # Setting error to run again by decreasing the date by a day"
   ]
  },
  {
   "cell_type": "code",
   "execution_count": 4,
   "id": "3d8c7f79-5b45-4294-94e6-2e08cd2c725c",
   "metadata": {
    "tags": []
   },
   "outputs": [
    {
     "name": "stdout",
     "output_type": "stream",
     "text": [
      "status code: 200, loop # 1\n",
      "status code: 200, loop # 2\n",
      "status code: 200, loop # 3\n",
      "status code: 200, loop # 4\n",
      "status code: 200, loop # 5\n",
      "status code: 200, loop # 6\n",
      "status code: 200, loop # 7\n",
      "status code: 200, loop # 8\n",
      "status code: 200, loop # 9\n",
      "status code: 200, loop # 10\n",
      "status code: 200, loop # 11\n",
      "status code: 200, loop # 12\n",
      "status code: 200, loop # 13\n",
      "status code: 200, loop # 14\n",
      "status code: 200, loop # 15\n",
      "status code: 200, loop # 16\n",
      "status code: 200, loop # 17\n",
      "status code: 200, loop # 18\n",
      "status code: 200, loop # 19\n",
      "status code: 200, loop # 20\n",
      "status code: 200, loop # 21\n",
      "Error on loop 21. Continue running\n",
      "status code: 200, loop # 22\n",
      "status code: 200, loop # 23\n",
      "status code: 200, loop # 24\n",
      "status code: 200, loop # 25\n"
     ]
    }
   ],
   "source": [
    "subreddit(1633308698)  # Starting on Oct 4th GMT"
   ]
  },
  {
   "cell_type": "code",
   "execution_count": 5,
   "id": "f79f6bf7-49c0-42c9-8ba1-0340b94060ef",
   "metadata": {},
   "outputs": [
    {
     "name": "stdout",
     "output_type": "stream",
     "text": [
      "1633307331\n",
      "1622112018\n"
     ]
    }
   ],
   "source": [
    "# Checking Time Frames\n",
    "print(comments_df[0]['created_utc']) # Oct 4\n",
    "print(comments_df[-1]['created_utc']) # May 27"
   ]
  },
  {
   "cell_type": "code",
   "execution_count": 6,
   "id": "8f1eaab1-217e-43d9-891c-54ec93dbb314",
   "metadata": {},
   "outputs": [],
   "source": [
    "# Creating dataframe for oculus\n",
    "oculus_df = []\n",
    "for i,v in enumerate(comments_df):\n",
    "    c_dict = {}\n",
    "    c_dict[i] = v\n",
    "    oc_dict = {}\n",
    "    for val in c_dict.values():\n",
    "        for key,value in val.items():\n",
    "            oc_dict[key] = value\n",
    "        oculus_df.append(oc_dict)\n",
    "\n",
    "oculus_df = pd.DataFrame(oculus_df)"
   ]
  },
  {
   "cell_type": "markdown",
   "id": "4d991998-d4de-4776-a0ac-33b114d964ac",
   "metadata": {},
   "source": [
    "### PSVR"
   ]
  },
  {
   "cell_type": "code",
   "execution_count": 7,
   "id": "939db699-5e4b-4bfc-aed3-cc17b28a41eb",
   "metadata": {},
   "outputs": [],
   "source": [
    "# Request for API pull\n",
    "\n",
    "max_len = 1_500\n",
    "ps_comments_df = []\n",
    "\n",
    "def subreddit_ps(date):\n",
    "    loop = 0\n",
    "    while len(ps_comments_df) < max_len:\n",
    "        try:\n",
    "            loop = loop + 1\n",
    "            res = requests.get(url,params = {'subreddit':'psvr','size': 500, 'before': date})\n",
    "            print(f'status code: {res.status_code}, loop # {loop}')\n",
    "            time.sleep(2)\n",
    "            data = res.json()\n",
    "            comments = data['data']\n",
    "            date = comments[-1]['created_utc']\n",
    "            for comment in comments:\n",
    "                if comment['id'] not in ps_comments_df and comment['selftext'] not in ps_comments_df and comment['selftext'] != 'NaN' and comment['selftext'] != '' and comment['selftext'] != '[removed]' and comment['selftext'] != '[deleted]' and comment['selftext'] != 'Title':\n",
    "                    ps_comments_df.append(comment)\n",
    "        except:\n",
    "            print(f'Error on loop {loop}. Continue running')\n",
    "            date = comments[-1]['created_utc'] - 86400   # Setting error to run again by decreasing the date by a day"
   ]
  },
  {
   "cell_type": "code",
   "execution_count": 8,
   "id": "72aa9b21-0afd-4bf0-b120-5cb97b5f4fca",
   "metadata": {
    "tags": []
   },
   "outputs": [
    {
     "name": "stdout",
     "output_type": "stream",
     "text": [
      "status code: 200, loop # 1\n",
      "status code: 200, loop # 2\n",
      "status code: 200, loop # 3\n",
      "status code: 200, loop # 4\n",
      "status code: 200, loop # 5\n",
      "status code: 200, loop # 6\n",
      "status code: 200, loop # 7\n",
      "status code: 200, loop # 8\n",
      "status code: 200, loop # 9\n",
      "status code: 200, loop # 10\n",
      "status code: 200, loop # 11\n",
      "status code: 200, loop # 12\n",
      "status code: 200, loop # 13\n",
      "status code: 200, loop # 14\n",
      "status code: 200, loop # 15\n",
      "status code: 200, loop # 16\n",
      "status code: 200, loop # 17\n",
      "status code: 200, loop # 18\n",
      "status code: 200, loop # 19\n",
      "status code: 200, loop # 20\n",
      "status code: 200, loop # 21\n",
      "status code: 200, loop # 22\n",
      "status code: 200, loop # 23\n",
      "status code: 200, loop # 24\n",
      "status code: 200, loop # 25\n",
      "status code: 200, loop # 26\n",
      "status code: 200, loop # 27\n"
     ]
    }
   ],
   "source": [
    "subreddit_ps(1633308388) # Starting on Oct 4th GMT"
   ]
  },
  {
   "cell_type": "code",
   "execution_count": 9,
   "id": "abe3622a-74a9-4eda-b6b0-e33667498cfe",
   "metadata": {},
   "outputs": [
    {
     "name": "stdout",
     "output_type": "stream",
     "text": [
      "1633295350\n",
      "1621477212\n"
     ]
    }
   ],
   "source": [
    "print(ps_comments_df[0]['created_utc'])  # Oct 4\n",
    "print(ps_comments_df[-1]['created_utc']) # May 20"
   ]
  },
  {
   "cell_type": "code",
   "execution_count": 10,
   "id": "250d949a-aa3d-4dd9-a945-791aba462b25",
   "metadata": {},
   "outputs": [],
   "source": [
    "# Creating df for oculus\n",
    "psvr_df = []\n",
    "for i,v in enumerate(ps_comments_df):\n",
    "    c_dict = {}\n",
    "    c_dict[i] = v\n",
    "    ps_dict = {}\n",
    "    for val in c_dict.values():\n",
    "        for key,value in val.items():\n",
    "            ps_dict[key] = value\n",
    "        psvr_df.append(ps_dict)\n",
    "\n",
    "psvr_df = pd.DataFrame(psvr_df)"
   ]
  },
  {
   "cell_type": "code",
   "execution_count": 11,
   "id": "975f6826-860c-4e20-bb37-4fdafb7ba662",
   "metadata": {},
   "outputs": [
    {
     "data": {
      "text/html": [
       "<div>\n",
       "<style scoped>\n",
       "    .dataframe tbody tr th:only-of-type {\n",
       "        vertical-align: middle;\n",
       "    }\n",
       "\n",
       "    .dataframe tbody tr th {\n",
       "        vertical-align: top;\n",
       "    }\n",
       "\n",
       "    .dataframe thead th {\n",
       "        text-align: right;\n",
       "    }\n",
       "</style>\n",
       "<table border=\"1\" class=\"dataframe\">\n",
       "  <thead>\n",
       "    <tr style=\"text-align: right;\">\n",
       "      <th></th>\n",
       "      <th>all_awardings</th>\n",
       "      <th>allow_live_comments</th>\n",
       "      <th>author</th>\n",
       "      <th>author_flair_css_class</th>\n",
       "      <th>author_flair_richtext</th>\n",
       "      <th>author_flair_text</th>\n",
       "      <th>author_flair_type</th>\n",
       "      <th>author_fullname</th>\n",
       "      <th>author_is_blocked</th>\n",
       "      <th>author_patreon_flair</th>\n",
       "      <th>...</th>\n",
       "      <th>thumbnail_width</th>\n",
       "      <th>author_flair_template_id</th>\n",
       "      <th>author_flair_text_color</th>\n",
       "      <th>poll_data</th>\n",
       "      <th>post_hint</th>\n",
       "      <th>preview</th>\n",
       "      <th>author_flair_background_color</th>\n",
       "      <th>author_cakeday</th>\n",
       "      <th>edited</th>\n",
       "      <th>removed_by_category</th>\n",
       "    </tr>\n",
       "  </thead>\n",
       "  <tbody>\n",
       "    <tr>\n",
       "      <th>0</th>\n",
       "      <td>[]</td>\n",
       "      <td>False</td>\n",
       "      <td>SisselHyde</td>\n",
       "      <td>None</td>\n",
       "      <td>[]</td>\n",
       "      <td>None</td>\n",
       "      <td>text</td>\n",
       "      <td>t2_6xdbtvqo</td>\n",
       "      <td>False</td>\n",
       "      <td>False</td>\n",
       "      <td>...</td>\n",
       "      <td>NaN</td>\n",
       "      <td>NaN</td>\n",
       "      <td>NaN</td>\n",
       "      <td>NaN</td>\n",
       "      <td>NaN</td>\n",
       "      <td>NaN</td>\n",
       "      <td>NaN</td>\n",
       "      <td>NaN</td>\n",
       "      <td>NaN</td>\n",
       "      <td>NaN</td>\n",
       "    </tr>\n",
       "    <tr>\n",
       "      <th>1</th>\n",
       "      <td>[]</td>\n",
       "      <td>False</td>\n",
       "      <td>Math383838</td>\n",
       "      <td>None</td>\n",
       "      <td>[]</td>\n",
       "      <td>None</td>\n",
       "      <td>text</td>\n",
       "      <td>t2_9orp1t</td>\n",
       "      <td>False</td>\n",
       "      <td>False</td>\n",
       "      <td>...</td>\n",
       "      <td>NaN</td>\n",
       "      <td>NaN</td>\n",
       "      <td>NaN</td>\n",
       "      <td>NaN</td>\n",
       "      <td>NaN</td>\n",
       "      <td>NaN</td>\n",
       "      <td>NaN</td>\n",
       "      <td>NaN</td>\n",
       "      <td>NaN</td>\n",
       "      <td>NaN</td>\n",
       "    </tr>\n",
       "    <tr>\n",
       "      <th>2</th>\n",
       "      <td>[]</td>\n",
       "      <td>False</td>\n",
       "      <td>hell_help</td>\n",
       "      <td>None</td>\n",
       "      <td>[]</td>\n",
       "      <td>None</td>\n",
       "      <td>text</td>\n",
       "      <td>t2_8t70q8xb</td>\n",
       "      <td>False</td>\n",
       "      <td>False</td>\n",
       "      <td>...</td>\n",
       "      <td>NaN</td>\n",
       "      <td>NaN</td>\n",
       "      <td>NaN</td>\n",
       "      <td>NaN</td>\n",
       "      <td>NaN</td>\n",
       "      <td>NaN</td>\n",
       "      <td>NaN</td>\n",
       "      <td>NaN</td>\n",
       "      <td>NaN</td>\n",
       "      <td>NaN</td>\n",
       "    </tr>\n",
       "    <tr>\n",
       "      <th>3</th>\n",
       "      <td>[]</td>\n",
       "      <td>False</td>\n",
       "      <td>Bubble-tea-Billy</td>\n",
       "      <td>None</td>\n",
       "      <td>[]</td>\n",
       "      <td>None</td>\n",
       "      <td>text</td>\n",
       "      <td>t2_b7odov2s</td>\n",
       "      <td>False</td>\n",
       "      <td>False</td>\n",
       "      <td>...</td>\n",
       "      <td>NaN</td>\n",
       "      <td>NaN</td>\n",
       "      <td>NaN</td>\n",
       "      <td>NaN</td>\n",
       "      <td>NaN</td>\n",
       "      <td>NaN</td>\n",
       "      <td>NaN</td>\n",
       "      <td>NaN</td>\n",
       "      <td>NaN</td>\n",
       "      <td>NaN</td>\n",
       "    </tr>\n",
       "    <tr>\n",
       "      <th>4</th>\n",
       "      <td>[]</td>\n",
       "      <td>False</td>\n",
       "      <td>Neo_Techni</td>\n",
       "      <td>None</td>\n",
       "      <td>[]</td>\n",
       "      <td>None</td>\n",
       "      <td>text</td>\n",
       "      <td>t2_k9xvc</td>\n",
       "      <td>False</td>\n",
       "      <td>False</td>\n",
       "      <td>...</td>\n",
       "      <td>NaN</td>\n",
       "      <td>NaN</td>\n",
       "      <td>NaN</td>\n",
       "      <td>NaN</td>\n",
       "      <td>NaN</td>\n",
       "      <td>NaN</td>\n",
       "      <td>NaN</td>\n",
       "      <td>NaN</td>\n",
       "      <td>NaN</td>\n",
       "      <td>NaN</td>\n",
       "    </tr>\n",
       "  </tbody>\n",
       "</table>\n",
       "<p>5 rows × 73 columns</p>\n",
       "</div>"
      ],
      "text/plain": [
       "  all_awardings  allow_live_comments            author author_flair_css_class  \\\n",
       "0            []                False        SisselHyde                   None   \n",
       "1            []                False        Math383838                   None   \n",
       "2            []                False         hell_help                   None   \n",
       "3            []                False  Bubble-tea-Billy                   None   \n",
       "4            []                False        Neo_Techni                   None   \n",
       "\n",
       "  author_flair_richtext author_flair_text author_flair_type author_fullname  \\\n",
       "0                    []              None              text     t2_6xdbtvqo   \n",
       "1                    []              None              text       t2_9orp1t   \n",
       "2                    []              None              text     t2_8t70q8xb   \n",
       "3                    []              None              text     t2_b7odov2s   \n",
       "4                    []              None              text        t2_k9xvc   \n",
       "\n",
       "  author_is_blocked author_patreon_flair  ... thumbnail_width  \\\n",
       "0             False                False  ...             NaN   \n",
       "1             False                False  ...             NaN   \n",
       "2             False                False  ...             NaN   \n",
       "3             False                False  ...             NaN   \n",
       "4             False                False  ...             NaN   \n",
       "\n",
       "  author_flair_template_id  author_flair_text_color  poll_data  post_hint  \\\n",
       "0                      NaN                      NaN        NaN        NaN   \n",
       "1                      NaN                      NaN        NaN        NaN   \n",
       "2                      NaN                      NaN        NaN        NaN   \n",
       "3                      NaN                      NaN        NaN        NaN   \n",
       "4                      NaN                      NaN        NaN        NaN   \n",
       "\n",
       "  preview author_flair_background_color author_cakeday edited  \\\n",
       "0     NaN                           NaN            NaN    NaN   \n",
       "1     NaN                           NaN            NaN    NaN   \n",
       "2     NaN                           NaN            NaN    NaN   \n",
       "3     NaN                           NaN            NaN    NaN   \n",
       "4     NaN                           NaN            NaN    NaN   \n",
       "\n",
       "  removed_by_category  \n",
       "0                 NaN  \n",
       "1                 NaN  \n",
       "2                 NaN  \n",
       "3                 NaN  \n",
       "4                 NaN  \n",
       "\n",
       "[5 rows x 73 columns]"
      ]
     },
     "execution_count": 11,
     "metadata": {},
     "output_type": "execute_result"
    }
   ],
   "source": [
    "psvr_df.head()"
   ]
  },
  {
   "cell_type": "code",
   "execution_count": 12,
   "id": "839e9975-9973-4758-9d73-df31dbecb248",
   "metadata": {},
   "outputs": [],
   "source": [
    "# Saving dfs to csv\n",
    "oculus_df.to_csv('./data/oculus_df.csv')\n",
    "psvr_df.to_csv('./data/psvr_df.csv')"
   ]
  },
  {
   "cell_type": "code",
   "execution_count": 13,
   "id": "dcf01385-83f5-4f14-b876-cf71f948d266",
   "metadata": {},
   "outputs": [],
   "source": [
    "# The above code has been adapted from \n",
    "# https://www.textjuicer.com/2019/07/crawling-all-submissions-from-a-subreddit/\n",
    "# http://gahwan.com/python-reddit-crawler-using-pushshift-api/"
   ]
  }
 ],
 "metadata": {
  "kernelspec": {
   "display_name": "Python 3 (ipykernel)",
   "language": "python",
   "name": "python3"
  },
  "language_info": {
   "codemirror_mode": {
    "name": "ipython",
    "version": 3
   },
   "file_extension": ".py",
   "mimetype": "text/x-python",
   "name": "python",
   "nbconvert_exporter": "python",
   "pygments_lexer": "ipython3",
   "version": "3.8.8"
  }
 },
 "nbformat": 4,
 "nbformat_minor": 5
}
